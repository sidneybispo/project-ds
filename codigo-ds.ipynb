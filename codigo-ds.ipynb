{
 "cells": [
  {
   "cell_type": "markdown",
   "id": "a068333e-3a64-4c9a-bd84-4a9fb2418948",
   "metadata": {
    "tags": []
   },
   "source": [
    "# Analisando as vendas da empresa"
   ]
  },
  {
   "cell_type": "markdown",
   "id": "3f6436af-3c2c-4a8e-8d0c-7457053e8f17",
   "metadata": {},
   "source": [
    "## Importando e entendendo as bases"
   ]
  },
  {
   "cell_type": "code",
   "execution_count": 1,
   "id": "5a102455-0bdc-434a-aeda-57c3fc9ac4c1",
   "metadata": {},
   "outputs": [],
   "source": [
    "import pandas as pd"
   ]
  },
  {
   "cell_type": "markdown",
   "id": "87b399b8-7cf7-488a-b570-59305e6901c0",
   "metadata": {},
   "source": [
    "### Importando a base de vendas"
   ]
  },
  {
   "cell_type": "code",
   "execution_count": 2,
   "id": "0a2ea370-9980-4f5f-a291-afeb905b7e43",
   "metadata": {},
   "outputs": [],
   "source": [
    "vendas = pd.read_excel('base_vendas.xlsx')"
   ]
  },
  {
   "cell_type": "markdown",
   "id": "c574ff20-28fd-4fb9-9c46-6adf0713aec6",
   "metadata": {},
   "source": [
    "### Visualizando as tres primeiras linhas"
   ]
  },
  {
   "cell_type": "code",
   "execution_count": 3,
   "id": "129e5e36-b3ad-40d5-be4c-a36fe8f85ddc",
   "metadata": {},
   "outputs": [
    {
     "data": {
      "text/html": [
       "<div>\n",
       "<style scoped>\n",
       "    .dataframe tbody tr th:only-of-type {\n",
       "        vertical-align: middle;\n",
       "    }\n",
       "\n",
       "    .dataframe tbody tr th {\n",
       "        vertical-align: top;\n",
       "    }\n",
       "\n",
       "    .dataframe thead th {\n",
       "        text-align: right;\n",
       "    }\n",
       "</style>\n",
       "<table border=\"1\" class=\"dataframe\">\n",
       "  <thead>\n",
       "    <tr style=\"text-align: right;\">\n",
       "      <th></th>\n",
       "      <th>order_id</th>\n",
       "      <th>customer_id</th>\n",
       "      <th>order_status</th>\n",
       "      <th>order_purchase_timestamp</th>\n",
       "      <th>order_approved_at</th>\n",
       "      <th>order_delivered_carrier_date</th>\n",
       "      <th>order_delivered_customer_date</th>\n",
       "      <th>order_estimated_delivery_date</th>\n",
       "      <th>order_item_id</th>\n",
       "      <th>product_id</th>\n",
       "      <th>...</th>\n",
       "      <th>price</th>\n",
       "      <th>freight_value</th>\n",
       "      <th>product_category_name</th>\n",
       "      <th>customer_unique_id</th>\n",
       "      <th>customer_city</th>\n",
       "      <th>customer_state</th>\n",
       "      <th>dia_compra</th>\n",
       "      <th>mes_compra</th>\n",
       "      <th>ano_compra</th>\n",
       "      <th>ano_mes</th>\n",
       "    </tr>\n",
       "  </thead>\n",
       "  <tbody>\n",
       "    <tr>\n",
       "      <th>0</th>\n",
       "      <td>e481f51cbdc54678b7cc49136f2d6af7</td>\n",
       "      <td>9ef432eb6251297304e76186b10a928d</td>\n",
       "      <td>delivered</td>\n",
       "      <td>2017-10-02</td>\n",
       "      <td>2017-10-02</td>\n",
       "      <td>2017-10-04</td>\n",
       "      <td>2017-10-10</td>\n",
       "      <td>2017-10-18</td>\n",
       "      <td>1.0</td>\n",
       "      <td>87285b34884572647811a353c7ac498a</td>\n",
       "      <td>...</td>\n",
       "      <td>29.99</td>\n",
       "      <td>8.72</td>\n",
       "      <td>utilidades_domesticas</td>\n",
       "      <td>7c396fd4830fd04220f754e42b4e5bff</td>\n",
       "      <td>sao paulo</td>\n",
       "      <td>SP</td>\n",
       "      <td>2</td>\n",
       "      <td>10</td>\n",
       "      <td>2017</td>\n",
       "      <td>2017-10</td>\n",
       "    </tr>\n",
       "    <tr>\n",
       "      <th>1</th>\n",
       "      <td>53cdb2fc8bc7dce0b6741e2150273451</td>\n",
       "      <td>b0830fb4747a6c6d20dea0b8c802d7ef</td>\n",
       "      <td>delivered</td>\n",
       "      <td>2018-07-24</td>\n",
       "      <td>2018-07-26</td>\n",
       "      <td>2018-07-26</td>\n",
       "      <td>2018-08-07</td>\n",
       "      <td>2018-08-13</td>\n",
       "      <td>1.0</td>\n",
       "      <td>595fac2a385ac33a80bd5114aec74eb8</td>\n",
       "      <td>...</td>\n",
       "      <td>118.70</td>\n",
       "      <td>22.76</td>\n",
       "      <td>perfumaria</td>\n",
       "      <td>af07308b275d755c9edb36a90c618231</td>\n",
       "      <td>barreiras</td>\n",
       "      <td>BA</td>\n",
       "      <td>24</td>\n",
       "      <td>7</td>\n",
       "      <td>2018</td>\n",
       "      <td>2018-07</td>\n",
       "    </tr>\n",
       "    <tr>\n",
       "      <th>2</th>\n",
       "      <td>47770eb9100c2d0c44946d9cf07ec65d</td>\n",
       "      <td>41ce2a54c0b03bf3443c3d931a367089</td>\n",
       "      <td>delivered</td>\n",
       "      <td>2018-08-08</td>\n",
       "      <td>2018-08-08</td>\n",
       "      <td>2018-08-08</td>\n",
       "      <td>2018-08-17</td>\n",
       "      <td>2018-09-04</td>\n",
       "      <td>1.0</td>\n",
       "      <td>aa4383b373c6aca5d8797843e5594415</td>\n",
       "      <td>...</td>\n",
       "      <td>159.90</td>\n",
       "      <td>19.22</td>\n",
       "      <td>automotivo</td>\n",
       "      <td>3a653a41f6f9fc3d2a113cf8398680e8</td>\n",
       "      <td>vianopolis</td>\n",
       "      <td>GO</td>\n",
       "      <td>8</td>\n",
       "      <td>8</td>\n",
       "      <td>2018</td>\n",
       "      <td>2018-08</td>\n",
       "    </tr>\n",
       "  </tbody>\n",
       "</table>\n",
       "<p>3 rows × 22 columns</p>\n",
       "</div>"
      ],
      "text/plain": [
       "                           order_id                       customer_id  \\\n",
       "0  e481f51cbdc54678b7cc49136f2d6af7  9ef432eb6251297304e76186b10a928d   \n",
       "1  53cdb2fc8bc7dce0b6741e2150273451  b0830fb4747a6c6d20dea0b8c802d7ef   \n",
       "2  47770eb9100c2d0c44946d9cf07ec65d  41ce2a54c0b03bf3443c3d931a367089   \n",
       "\n",
       "  order_status order_purchase_timestamp order_approved_at  \\\n",
       "0    delivered               2017-10-02        2017-10-02   \n",
       "1    delivered               2018-07-24        2018-07-26   \n",
       "2    delivered               2018-08-08        2018-08-08   \n",
       "\n",
       "  order_delivered_carrier_date order_delivered_customer_date  \\\n",
       "0                   2017-10-04                    2017-10-10   \n",
       "1                   2018-07-26                    2018-08-07   \n",
       "2                   2018-08-08                    2018-08-17   \n",
       "\n",
       "  order_estimated_delivery_date  order_item_id  \\\n",
       "0                    2017-10-18            1.0   \n",
       "1                    2018-08-13            1.0   \n",
       "2                    2018-09-04            1.0   \n",
       "\n",
       "                         product_id  ...   price freight_value  \\\n",
       "0  87285b34884572647811a353c7ac498a  ...   29.99          8.72   \n",
       "1  595fac2a385ac33a80bd5114aec74eb8  ...  118.70         22.76   \n",
       "2  aa4383b373c6aca5d8797843e5594415  ...  159.90         19.22   \n",
       "\n",
       "   product_category_name                customer_unique_id customer_city  \\\n",
       "0  utilidades_domesticas  7c396fd4830fd04220f754e42b4e5bff     sao paulo   \n",
       "1             perfumaria  af07308b275d755c9edb36a90c618231     barreiras   \n",
       "2             automotivo  3a653a41f6f9fc3d2a113cf8398680e8    vianopolis   \n",
       "\n",
       "  customer_state dia_compra mes_compra  ano_compra  ano_mes  \n",
       "0             SP          2         10        2017  2017-10  \n",
       "1             BA         24          7        2018  2018-07  \n",
       "2             GO          8          8        2018  2018-08  \n",
       "\n",
       "[3 rows x 22 columns]"
      ]
     },
     "execution_count": 3,
     "metadata": {},
     "output_type": "execute_result"
    }
   ],
   "source": [
    "vendas.head(3)"
   ]
  },
  {
   "cell_type": "markdown",
   "id": "cfbaf6e9-1d94-455b-a1b6-0b59a8a2cd9b",
   "metadata": {},
   "source": [
    "### Verificando as informações da base"
   ]
  },
  {
   "cell_type": "code",
   "execution_count": 4,
   "id": "4114d13c-8a5c-4f2e-a94e-272938383da0",
   "metadata": {},
   "outputs": [
    {
     "name": "stdout",
     "output_type": "stream",
     "text": [
      "<class 'pandas.core.frame.DataFrame'>\n",
      "RangeIndex: 111923 entries, 0 to 111922\n",
      "Data columns (total 22 columns):\n",
      " #   Column                         Non-Null Count   Dtype         \n",
      "---  ------                         --------------   -----         \n",
      " 0   order_id                       111923 non-null  object        \n",
      " 1   customer_id                    111923 non-null  object        \n",
      " 2   order_status                   111923 non-null  object        \n",
      " 3   order_purchase_timestamp       111923 non-null  datetime64[ns]\n",
      " 4   order_approved_at              111808 non-null  datetime64[ns]\n",
      " 5   order_delivered_carrier_date   110050 non-null  datetime64[ns]\n",
      " 6   order_delivered_customer_date  108804 non-null  datetime64[ns]\n",
      " 7   order_estimated_delivery_date  111923 non-null  datetime64[ns]\n",
      " 8   order_item_id                  111206 non-null  float64       \n",
      " 9   product_id                     111206 non-null  object        \n",
      " 10  seller_id                      111206 non-null  object        \n",
      " 11  shipping_limit_date            111206 non-null  datetime64[ns]\n",
      " 12  price                          111206 non-null  float64       \n",
      " 13  freight_value                  111206 non-null  float64       \n",
      " 14  product_category_name          109608 non-null  object        \n",
      " 15  customer_unique_id             111923 non-null  object        \n",
      " 16  customer_city                  111923 non-null  object        \n",
      " 17  customer_state                 111923 non-null  object        \n",
      " 18  dia_compra                     111923 non-null  int64         \n",
      " 19  mes_compra                     111923 non-null  int64         \n",
      " 20  ano_compra                     111923 non-null  int64         \n",
      " 21  ano_mes                        111923 non-null  object        \n",
      "dtypes: datetime64[ns](6), float64(3), int64(3), object(10)\n",
      "memory usage: 18.8+ MB\n"
     ]
    }
   ],
   "source": [
    "vendas.info()"
   ]
  },
  {
   "cell_type": "markdown",
   "id": "81c952ce-0cb3-416c-be50-f5d24c658ddd",
   "metadata": {
    "tags": []
   },
   "source": [
    "### Também analisando as informações estatísticas"
   ]
  },
  {
   "cell_type": "code",
   "execution_count": 5,
   "id": "8b19f97a-5eb0-400f-b458-d9319b919362",
   "metadata": {},
   "outputs": [
    {
     "data": {
      "text/html": [
       "<div>\n",
       "<style scoped>\n",
       "    .dataframe tbody tr th:only-of-type {\n",
       "        vertical-align: middle;\n",
       "    }\n",
       "\n",
       "    .dataframe tbody tr th {\n",
       "        vertical-align: top;\n",
       "    }\n",
       "\n",
       "    .dataframe thead th {\n",
       "        text-align: right;\n",
       "    }\n",
       "</style>\n",
       "<table border=\"1\" class=\"dataframe\">\n",
       "  <thead>\n",
       "    <tr style=\"text-align: right;\">\n",
       "      <th></th>\n",
       "      <th>order_item_id</th>\n",
       "      <th>price</th>\n",
       "      <th>freight_value</th>\n",
       "      <th>dia_compra</th>\n",
       "      <th>mes_compra</th>\n",
       "      <th>ano_compra</th>\n",
       "    </tr>\n",
       "  </thead>\n",
       "  <tbody>\n",
       "    <tr>\n",
       "      <th>count</th>\n",
       "      <td>111206.000000</td>\n",
       "      <td>111206.000000</td>\n",
       "      <td>111206.000000</td>\n",
       "      <td>111923.000000</td>\n",
       "      <td>111923.000000</td>\n",
       "      <td>111923.000000</td>\n",
       "    </tr>\n",
       "    <tr>\n",
       "      <th>mean</th>\n",
       "      <td>1.198020</td>\n",
       "      <td>120.845955</td>\n",
       "      <td>20.032079</td>\n",
       "      <td>15.512853</td>\n",
       "      <td>6.000670</td>\n",
       "      <td>2017.541167</td>\n",
       "    </tr>\n",
       "    <tr>\n",
       "      <th>std</th>\n",
       "      <td>0.706445</td>\n",
       "      <td>183.941756</td>\n",
       "      <td>15.847991</td>\n",
       "      <td>8.667442</td>\n",
       "      <td>3.241051</td>\n",
       "      <td>0.498305</td>\n",
       "    </tr>\n",
       "    <tr>\n",
       "      <th>min</th>\n",
       "      <td>1.000000</td>\n",
       "      <td>0.850000</td>\n",
       "      <td>0.000000</td>\n",
       "      <td>1.000000</td>\n",
       "      <td>1.000000</td>\n",
       "      <td>2017.000000</td>\n",
       "    </tr>\n",
       "    <tr>\n",
       "      <th>25%</th>\n",
       "      <td>1.000000</td>\n",
       "      <td>39.900000</td>\n",
       "      <td>13.080000</td>\n",
       "      <td>8.000000</td>\n",
       "      <td>3.000000</td>\n",
       "      <td>2017.000000</td>\n",
       "    </tr>\n",
       "    <tr>\n",
       "      <th>50%</th>\n",
       "      <td>1.000000</td>\n",
       "      <td>74.990000</td>\n",
       "      <td>16.280000</td>\n",
       "      <td>15.000000</td>\n",
       "      <td>6.000000</td>\n",
       "      <td>2018.000000</td>\n",
       "    </tr>\n",
       "    <tr>\n",
       "      <th>75%</th>\n",
       "      <td>1.000000</td>\n",
       "      <td>134.990000</td>\n",
       "      <td>21.180000</td>\n",
       "      <td>23.000000</td>\n",
       "      <td>8.000000</td>\n",
       "      <td>2018.000000</td>\n",
       "    </tr>\n",
       "    <tr>\n",
       "      <th>max</th>\n",
       "      <td>21.000000</td>\n",
       "      <td>6735.000000</td>\n",
       "      <td>409.680000</td>\n",
       "      <td>31.000000</td>\n",
       "      <td>12.000000</td>\n",
       "      <td>2018.000000</td>\n",
       "    </tr>\n",
       "  </tbody>\n",
       "</table>\n",
       "</div>"
      ],
      "text/plain": [
       "       order_item_id          price  freight_value     dia_compra  \\\n",
       "count  111206.000000  111206.000000  111206.000000  111923.000000   \n",
       "mean        1.198020     120.845955      20.032079      15.512853   \n",
       "std         0.706445     183.941756      15.847991       8.667442   \n",
       "min         1.000000       0.850000       0.000000       1.000000   \n",
       "25%         1.000000      39.900000      13.080000       8.000000   \n",
       "50%         1.000000      74.990000      16.280000      15.000000   \n",
       "75%         1.000000     134.990000      21.180000      23.000000   \n",
       "max        21.000000    6735.000000     409.680000      31.000000   \n",
       "\n",
       "          mes_compra     ano_compra  \n",
       "count  111923.000000  111923.000000  \n",
       "mean        6.000670    2017.541167  \n",
       "std         3.241051       0.498305  \n",
       "min         1.000000    2017.000000  \n",
       "25%         3.000000    2017.000000  \n",
       "50%         6.000000    2018.000000  \n",
       "75%         8.000000    2018.000000  \n",
       "max        12.000000    2018.000000  "
      ]
     },
     "execution_count": 5,
     "metadata": {},
     "output_type": "execute_result"
    }
   ],
   "source": [
    "vendas.describe()"
   ]
  },
  {
   "cell_type": "markdown",
   "id": "61558962-3d4c-4e14-ae69-b6b789dbb8fd",
   "metadata": {},
   "source": [
    "### Importando a base de pagamentos"
   ]
  },
  {
   "cell_type": "code",
   "execution_count": 6,
   "id": "83213b38-485c-4e7b-a55c-e611d7ab82ab",
   "metadata": {},
   "outputs": [],
   "source": [
    "pagamentos = pd.read_excel('base_pagamentos.xlsx')"
   ]
  },
  {
   "cell_type": "markdown",
   "id": "8adb3f01-d2b0-4d22-b9e5-14f2fa8b34f2",
   "metadata": {},
   "source": [
    "### Visualizando as 3 primeiras linhas dessa base"
   ]
  },
  {
   "cell_type": "code",
   "execution_count": 7,
   "id": "de9995da-81f6-4342-8849-effe88cf47df",
   "metadata": {},
   "outputs": [
    {
     "data": {
      "text/html": [
       "<div>\n",
       "<style scoped>\n",
       "    .dataframe tbody tr th:only-of-type {\n",
       "        vertical-align: middle;\n",
       "    }\n",
       "\n",
       "    .dataframe tbody tr th {\n",
       "        vertical-align: top;\n",
       "    }\n",
       "\n",
       "    .dataframe thead th {\n",
       "        text-align: right;\n",
       "    }\n",
       "</style>\n",
       "<table border=\"1\" class=\"dataframe\">\n",
       "  <thead>\n",
       "    <tr style=\"text-align: right;\">\n",
       "      <th></th>\n",
       "      <th>order_id</th>\n",
       "      <th>customer_id</th>\n",
       "      <th>order_status</th>\n",
       "      <th>order_purchase_timestamp</th>\n",
       "      <th>order_approved_at</th>\n",
       "      <th>order_delivered_carrier_date</th>\n",
       "      <th>order_delivered_customer_date</th>\n",
       "      <th>order_estimated_delivery_date</th>\n",
       "      <th>payment_sequential</th>\n",
       "      <th>payment_type</th>\n",
       "      <th>payment_installments</th>\n",
       "      <th>payment_value</th>\n",
       "    </tr>\n",
       "  </thead>\n",
       "  <tbody>\n",
       "    <tr>\n",
       "      <th>0</th>\n",
       "      <td>e481f51cbdc54678b7cc49136f2d6af7</td>\n",
       "      <td>9ef432eb6251297304e76186b10a928d</td>\n",
       "      <td>delivered</td>\n",
       "      <td>2017-10-02</td>\n",
       "      <td>2017-10-02</td>\n",
       "      <td>2017-10-04</td>\n",
       "      <td>2017-10-10</td>\n",
       "      <td>2017-10-18</td>\n",
       "      <td>1</td>\n",
       "      <td>credit_card</td>\n",
       "      <td>1</td>\n",
       "      <td>18.12</td>\n",
       "    </tr>\n",
       "    <tr>\n",
       "      <th>1</th>\n",
       "      <td>e481f51cbdc54678b7cc49136f2d6af7</td>\n",
       "      <td>9ef432eb6251297304e76186b10a928d</td>\n",
       "      <td>delivered</td>\n",
       "      <td>2017-10-02</td>\n",
       "      <td>2017-10-02</td>\n",
       "      <td>2017-10-04</td>\n",
       "      <td>2017-10-10</td>\n",
       "      <td>2017-10-18</td>\n",
       "      <td>2</td>\n",
       "      <td>voucher</td>\n",
       "      <td>1</td>\n",
       "      <td>18.59</td>\n",
       "    </tr>\n",
       "    <tr>\n",
       "      <th>2</th>\n",
       "      <td>e481f51cbdc54678b7cc49136f2d6af7</td>\n",
       "      <td>9ef432eb6251297304e76186b10a928d</td>\n",
       "      <td>delivered</td>\n",
       "      <td>2017-10-02</td>\n",
       "      <td>2017-10-02</td>\n",
       "      <td>2017-10-04</td>\n",
       "      <td>2017-10-10</td>\n",
       "      <td>2017-10-18</td>\n",
       "      <td>3</td>\n",
       "      <td>voucher</td>\n",
       "      <td>1</td>\n",
       "      <td>2.00</td>\n",
       "    </tr>\n",
       "  </tbody>\n",
       "</table>\n",
       "</div>"
      ],
      "text/plain": [
       "                           order_id                       customer_id  \\\n",
       "0  e481f51cbdc54678b7cc49136f2d6af7  9ef432eb6251297304e76186b10a928d   \n",
       "1  e481f51cbdc54678b7cc49136f2d6af7  9ef432eb6251297304e76186b10a928d   \n",
       "2  e481f51cbdc54678b7cc49136f2d6af7  9ef432eb6251297304e76186b10a928d   \n",
       "\n",
       "  order_status order_purchase_timestamp order_approved_at  \\\n",
       "0    delivered               2017-10-02        2017-10-02   \n",
       "1    delivered               2017-10-02        2017-10-02   \n",
       "2    delivered               2017-10-02        2017-10-02   \n",
       "\n",
       "  order_delivered_carrier_date order_delivered_customer_date  \\\n",
       "0                   2017-10-04                    2017-10-10   \n",
       "1                   2017-10-04                    2017-10-10   \n",
       "2                   2017-10-04                    2017-10-10   \n",
       "\n",
       "  order_estimated_delivery_date  payment_sequential payment_type  \\\n",
       "0                    2017-10-18                   1  credit_card   \n",
       "1                    2017-10-18                   2      voucher   \n",
       "2                    2017-10-18                   3      voucher   \n",
       "\n",
       "   payment_installments  payment_value  \n",
       "0                     1          18.12  \n",
       "1                     1          18.59  \n",
       "2                     1           2.00  "
      ]
     },
     "execution_count": 7,
     "metadata": {},
     "output_type": "execute_result"
    }
   ],
   "source": [
    "pagamentos.head(3)"
   ]
  },
  {
   "cell_type": "markdown",
   "id": "66477576-db24-4e75-8dc8-21ab27b3de06",
   "metadata": {},
   "source": [
    "### E também as informações"
   ]
  },
  {
   "cell_type": "code",
   "execution_count": 8,
   "id": "2eae127d-92af-4130-825f-f8880addeef9",
   "metadata": {},
   "outputs": [
    {
     "name": "stdout",
     "output_type": "stream",
     "text": [
      "<class 'pandas.core.frame.DataFrame'>\n",
      "RangeIndex: 102528 entries, 0 to 102527\n",
      "Data columns (total 12 columns):\n",
      " #   Column                         Non-Null Count   Dtype         \n",
      "---  ------                         --------------   -----         \n",
      " 0   order_id                       102528 non-null  object        \n",
      " 1   customer_id                    102528 non-null  object        \n",
      " 2   order_status                   102528 non-null  object        \n",
      " 3   order_purchase_timestamp       102528 non-null  datetime64[ns]\n",
      " 4   order_approved_at              102399 non-null  datetime64[ns]\n",
      " 5   order_delivered_carrier_date   100730 non-null  datetime64[ns]\n",
      " 6   order_delivered_customer_date  99500 non-null   datetime64[ns]\n",
      " 7   order_estimated_delivery_date  102528 non-null  datetime64[ns]\n",
      " 8   payment_sequential             102528 non-null  int64         \n",
      " 9   payment_type                   102528 non-null  object        \n",
      " 10  payment_installments           102528 non-null  int64         \n",
      " 11  payment_value                  102528 non-null  float64       \n",
      "dtypes: datetime64[ns](5), float64(1), int64(2), object(4)\n",
      "memory usage: 9.4+ MB\n"
     ]
    }
   ],
   "source": [
    "pagamentos.info()"
   ]
  },
  {
   "cell_type": "markdown",
   "id": "fa7c356e-bd5d-43e6-a3ce-e523c6c71e8a",
   "metadata": {},
   "source": [
    "### Também analisando as informações estatísticas"
   ]
  },
  {
   "cell_type": "code",
   "execution_count": 9,
   "id": "3ca437e7-62df-4a53-9930-c16363fecbd1",
   "metadata": {},
   "outputs": [
    {
     "data": {
      "text/html": [
       "<div>\n",
       "<style scoped>\n",
       "    .dataframe tbody tr th:only-of-type {\n",
       "        vertical-align: middle;\n",
       "    }\n",
       "\n",
       "    .dataframe tbody tr th {\n",
       "        vertical-align: top;\n",
       "    }\n",
       "\n",
       "    .dataframe thead th {\n",
       "        text-align: right;\n",
       "    }\n",
       "</style>\n",
       "<table border=\"1\" class=\"dataframe\">\n",
       "  <thead>\n",
       "    <tr style=\"text-align: right;\">\n",
       "      <th></th>\n",
       "      <th>payment_sequential</th>\n",
       "      <th>payment_installments</th>\n",
       "      <th>payment_value</th>\n",
       "    </tr>\n",
       "  </thead>\n",
       "  <tbody>\n",
       "    <tr>\n",
       "      <th>count</th>\n",
       "      <td>102528.00000</td>\n",
       "      <td>102528.000000</td>\n",
       "      <td>102528.000000</td>\n",
       "    </tr>\n",
       "    <tr>\n",
       "      <th>mean</th>\n",
       "      <td>1.09337</td>\n",
       "      <td>2.854332</td>\n",
       "      <td>154.309690</td>\n",
       "    </tr>\n",
       "    <tr>\n",
       "      <th>std</th>\n",
       "      <td>0.71027</td>\n",
       "      <td>2.686302</td>\n",
       "      <td>217.916223</td>\n",
       "    </tr>\n",
       "    <tr>\n",
       "      <th>min</th>\n",
       "      <td>1.00000</td>\n",
       "      <td>0.000000</td>\n",
       "      <td>0.000000</td>\n",
       "    </tr>\n",
       "    <tr>\n",
       "      <th>25%</th>\n",
       "      <td>1.00000</td>\n",
       "      <td>1.000000</td>\n",
       "      <td>56.860000</td>\n",
       "    </tr>\n",
       "    <tr>\n",
       "      <th>50%</th>\n",
       "      <td>1.00000</td>\n",
       "      <td>1.000000</td>\n",
       "      <td>100.000000</td>\n",
       "    </tr>\n",
       "    <tr>\n",
       "      <th>75%</th>\n",
       "      <td>1.00000</td>\n",
       "      <td>4.000000</td>\n",
       "      <td>172.080000</td>\n",
       "    </tr>\n",
       "    <tr>\n",
       "      <th>max</th>\n",
       "      <td>29.00000</td>\n",
       "      <td>24.000000</td>\n",
       "      <td>13664.080000</td>\n",
       "    </tr>\n",
       "  </tbody>\n",
       "</table>\n",
       "</div>"
      ],
      "text/plain": [
       "       payment_sequential  payment_installments  payment_value\n",
       "count        102528.00000         102528.000000  102528.000000\n",
       "mean              1.09337              2.854332     154.309690\n",
       "std               0.71027              2.686302     217.916223\n",
       "min               1.00000              0.000000       0.000000\n",
       "25%               1.00000              1.000000      56.860000\n",
       "50%               1.00000              1.000000     100.000000\n",
       "75%               1.00000              4.000000     172.080000\n",
       "max              29.00000             24.000000   13664.080000"
      ]
     },
     "execution_count": 9,
     "metadata": {},
     "output_type": "execute_result"
    }
   ],
   "source": [
    "pagamentos.describe()"
   ]
  },
  {
   "cell_type": "markdown",
   "id": "2e2e3dfe-e0ce-4c86-abe6-fe356c327c00",
   "metadata": {},
   "source": [
    "# Verificando as principais informações dessas bases"
   ]
  },
  {
   "cell_type": "markdown",
   "id": "060fc178-dbed-4bcb-b18f-2273cbeaa261",
   "metadata": {},
   "source": [
    "## Sobre os pagamentos"
   ]
  },
  {
   "cell_type": "markdown",
   "id": "eaddb3cf-82dc-41ad-aac5-4f0a2ad69398",
   "metadata": {},
   "source": [
    "### Visualizando novamente a base"
   ]
  },
  {
   "cell_type": "code",
   "execution_count": 10,
   "id": "f7317434-5afc-4380-beb4-087a130d82a5",
   "metadata": {},
   "outputs": [
    {
     "data": {
      "text/html": [
       "<div>\n",
       "<style scoped>\n",
       "    .dataframe tbody tr th:only-of-type {\n",
       "        vertical-align: middle;\n",
       "    }\n",
       "\n",
       "    .dataframe tbody tr th {\n",
       "        vertical-align: top;\n",
       "    }\n",
       "\n",
       "    .dataframe thead th {\n",
       "        text-align: right;\n",
       "    }\n",
       "</style>\n",
       "<table border=\"1\" class=\"dataframe\">\n",
       "  <thead>\n",
       "    <tr style=\"text-align: right;\">\n",
       "      <th></th>\n",
       "      <th>order_id</th>\n",
       "      <th>customer_id</th>\n",
       "      <th>order_status</th>\n",
       "      <th>order_purchase_timestamp</th>\n",
       "      <th>order_approved_at</th>\n",
       "      <th>order_delivered_carrier_date</th>\n",
       "      <th>order_delivered_customer_date</th>\n",
       "      <th>order_estimated_delivery_date</th>\n",
       "      <th>payment_sequential</th>\n",
       "      <th>payment_type</th>\n",
       "      <th>payment_installments</th>\n",
       "      <th>payment_value</th>\n",
       "    </tr>\n",
       "  </thead>\n",
       "  <tbody>\n",
       "    <tr>\n",
       "      <th>0</th>\n",
       "      <td>e481f51cbdc54678b7cc49136f2d6af7</td>\n",
       "      <td>9ef432eb6251297304e76186b10a928d</td>\n",
       "      <td>delivered</td>\n",
       "      <td>2017-10-02</td>\n",
       "      <td>2017-10-02</td>\n",
       "      <td>2017-10-04</td>\n",
       "      <td>2017-10-10</td>\n",
       "      <td>2017-10-18</td>\n",
       "      <td>1</td>\n",
       "      <td>credit_card</td>\n",
       "      <td>1</td>\n",
       "      <td>18.12</td>\n",
       "    </tr>\n",
       "    <tr>\n",
       "      <th>1</th>\n",
       "      <td>e481f51cbdc54678b7cc49136f2d6af7</td>\n",
       "      <td>9ef432eb6251297304e76186b10a928d</td>\n",
       "      <td>delivered</td>\n",
       "      <td>2017-10-02</td>\n",
       "      <td>2017-10-02</td>\n",
       "      <td>2017-10-04</td>\n",
       "      <td>2017-10-10</td>\n",
       "      <td>2017-10-18</td>\n",
       "      <td>2</td>\n",
       "      <td>voucher</td>\n",
       "      <td>1</td>\n",
       "      <td>18.59</td>\n",
       "    </tr>\n",
       "  </tbody>\n",
       "</table>\n",
       "</div>"
      ],
      "text/plain": [
       "                           order_id                       customer_id  \\\n",
       "0  e481f51cbdc54678b7cc49136f2d6af7  9ef432eb6251297304e76186b10a928d   \n",
       "1  e481f51cbdc54678b7cc49136f2d6af7  9ef432eb6251297304e76186b10a928d   \n",
       "\n",
       "  order_status order_purchase_timestamp order_approved_at  \\\n",
       "0    delivered               2017-10-02        2017-10-02   \n",
       "1    delivered               2017-10-02        2017-10-02   \n",
       "\n",
       "  order_delivered_carrier_date order_delivered_customer_date  \\\n",
       "0                   2017-10-04                    2017-10-10   \n",
       "1                   2017-10-04                    2017-10-10   \n",
       "\n",
       "  order_estimated_delivery_date  payment_sequential payment_type  \\\n",
       "0                    2017-10-18                   1  credit_card   \n",
       "1                    2017-10-18                   2      voucher   \n",
       "\n",
       "   payment_installments  payment_value  \n",
       "0                     1          18.12  \n",
       "1                     1          18.59  "
      ]
     },
     "execution_count": 10,
     "metadata": {},
     "output_type": "execute_result"
    }
   ],
   "source": [
    "pagamentos.head(2)"
   ]
  },
  {
   "cell_type": "markdown",
   "id": "f0d94bd2-937c-443f-be8c-35b62eb08e5b",
   "metadata": {},
   "source": [
    "### Quais as dimensões dessa base?"
   ]
  },
  {
   "cell_type": "code",
   "execution_count": 11,
   "id": "b5d2aa7e-2371-4a21-9fa8-6e455e01d069",
   "metadata": {},
   "outputs": [
    {
     "data": {
      "text/plain": [
       "(102528, 12)"
      ]
     },
     "execution_count": 11,
     "metadata": {},
     "output_type": "execute_result"
    }
   ],
   "source": [
    "pagamentos.shape"
   ]
  },
  {
   "cell_type": "markdown",
   "id": "08568167-c384-45bd-beaa-111a86f007f3",
   "metadata": {
    "tags": []
   },
   "source": [
    "### Como eu poderia pegar apenas uma coluna dessa base?"
   ]
  },
  {
   "cell_type": "code",
   "execution_count": 12,
   "id": "ada41b5d-622f-4bab-8a09-1a30271fc24a",
   "metadata": {},
   "outputs": [
    {
     "data": {
      "text/plain": [
       "0         credit_card\n",
       "1             voucher\n",
       "2             voucher\n",
       "3              boleto\n",
       "4         credit_card\n",
       "             ...     \n",
       "102523    credit_card\n",
       "102524    credit_card\n",
       "102525    credit_card\n",
       "102526    credit_card\n",
       "102527     debit_card\n",
       "Name: payment_type, Length: 102528, dtype: object"
      ]
     },
     "execution_count": 12,
     "metadata": {},
     "output_type": "execute_result"
    }
   ],
   "source": [
    "pagamentos.payment_type"
   ]
  },
  {
   "cell_type": "markdown",
   "id": "ed558703-bc74-4c5f-b985-94676afe8f81",
   "metadata": {},
   "source": [
    "### Qual foi o total de transações nessas vendas?"
   ]
  },
  {
   "cell_type": "code",
   "execution_count": 13,
   "id": "e0e83591-6074-41d1-a3f9-4f144e347f75",
   "metadata": {},
   "outputs": [
    {
     "data": {
      "text/plain": [
       "102528"
      ]
     },
     "execution_count": 13,
     "metadata": {},
     "output_type": "execute_result"
    }
   ],
   "source": [
    "pagamentos.payment_installments.count()"
   ]
  },
  {
   "cell_type": "markdown",
   "id": "ef7b0c2c-2f8f-4a64-8b7b-7df5437a1a42",
   "metadata": {},
   "source": [
    "### Como podems contar a quantidade de vendas por cada tipo de pagamento?"
   ]
  },
  {
   "cell_type": "code",
   "execution_count": 14,
   "id": "69fd12b6-4740-4e00-b247-68e1ea808672",
   "metadata": {},
   "outputs": [
    {
     "data": {
      "text/plain": [
       "1     51817\n",
       "2     12255\n",
       "3     10335\n",
       "4      7015\n",
       "10     5247\n",
       "5      5184\n",
       "8      4232\n",
       "6      3872\n",
       "7      1598\n",
       "9       637\n",
       "12      132\n",
       "15       72\n",
       "18       27\n",
       "11       22\n",
       "24       18\n",
       "20       17\n",
       "13       15\n",
       "14       15\n",
       "17        7\n",
       "16        4\n",
       "21        3\n",
       "0         2\n",
       "23        1\n",
       "22        1\n",
       "Name: payment_installments, dtype: int64"
      ]
     },
     "execution_count": 14,
     "metadata": {},
     "output_type": "execute_result"
    }
   ],
   "source": [
    "pagamentos.payment_installments.value_counts()"
   ]
  },
  {
   "cell_type": "markdown",
   "id": "f21c7885-4b34-486f-844a-0b6012fac8d3",
   "metadata": {
    "tags": []
   },
   "source": [
    "#### Obs: Nesse caso vamo assumir que se em uma transação teve mais de um tipo de pagamento, vamos considerar a contagem de cada uma deles mesmo que sejam do mesmmo tipo."
   ]
  },
  {
   "cell_type": "markdown",
   "id": "b56e9615-7f52-4b99-a22b-e3e9167c4cac",
   "metadata": {
    "tags": []
   },
   "source": [
    "## Como eu poderia calcular a % da transação por tipo de pagamento?"
   ]
  },
  {
   "cell_type": "markdown",
   "id": "15a3c49b-a749-4b8b-8c1c-7eb95c996250",
   "metadata": {},
   "source": [
    "### Salvando o total de transações em uma variável"
   ]
  },
  {
   "cell_type": "code",
   "execution_count": 15,
   "id": "f29a7d60-ada9-4d17-af16-51c8a0b54fd9",
   "metadata": {},
   "outputs": [],
   "source": [
    "transacoes_total = pagamentos.payment_type.count()"
   ]
  },
  {
   "cell_type": "markdown",
   "id": "36afc132-4cff-4d81-a9ef-cfae4c9702e5",
   "metadata": {},
   "source": [
    "### E as transações por tipo de pagamentos em outro"
   ]
  },
  {
   "cell_type": "code",
   "execution_count": 16,
   "id": "a410ff18-47a3-446b-b95a-0492d5c0886d",
   "metadata": {},
   "outputs": [],
   "source": [
    "transacoes_tipo = pagamentos.payment_type.value_counts()"
   ]
  },
  {
   "cell_type": "markdown",
   "id": "4429890d-03eb-4b36-9b9b-e857a7c95985",
   "metadata": {},
   "source": [
    "### Podemos dividir as transações por cada tipo pelo total e multiplicar por 100"
   ]
  },
  {
   "cell_type": "code",
   "execution_count": 17,
   "id": "bc0a180d-7be1-405f-a939-d1aeeeb742ed",
   "metadata": {},
   "outputs": [
    {
     "data": {
      "text/plain": [
       "credit_card    73.94\n",
       "boleto         19.06\n",
       "voucher         5.55\n",
       "debit_card      1.45\n",
       "Name: payment_type, dtype: float64"
      ]
     },
     "execution_count": 17,
     "metadata": {},
     "output_type": "execute_result"
    }
   ],
   "source": [
    "round((transacoes_tipo/transacoes_total)*100,2)"
   ]
  },
  {
   "cell_type": "markdown",
   "id": "3feab1ea-6245-45f9-8ec7-912db4a18248",
   "metadata": {},
   "source": [
    "### Como eu poderia acessar a quantidade de transações por cartão de crédito?"
   ]
  },
  {
   "cell_type": "code",
   "execution_count": 18,
   "id": "11b818b3-091b-434f-abb8-f7729a8585ad",
   "metadata": {},
   "outputs": [
    {
     "data": {
      "text/plain": [
       "75809"
      ]
     },
     "execution_count": 18,
     "metadata": {},
     "output_type": "execute_result"
    }
   ],
   "source": [
    "transacoes_tipo.credit_card"
   ]
  },
  {
   "cell_type": "markdown",
   "id": "dd67205d-50f0-4fc6-8d6e-ee59eb1efe80",
   "metadata": {},
   "source": [
    "### E a quantidade de transações por boleto?"
   ]
  },
  {
   "cell_type": "code",
   "execution_count": 19,
   "id": "034085e7-1bed-4eaa-95a8-ac4be87208d3",
   "metadata": {},
   "outputs": [
    {
     "data": {
      "text/plain": [
       "19543"
      ]
     },
     "execution_count": 19,
     "metadata": {},
     "output_type": "execute_result"
    }
   ],
   "source": [
    "transacoes_tipo.boleto"
   ]
  },
  {
   "cell_type": "markdown",
   "id": "b89b2c50-dad6-4c2b-a74e-3451a0185b3c",
   "metadata": {},
   "source": [
    "### Quantas vezes maior é o número de transações por cartão de crédito?"
   ]
  },
  {
   "cell_type": "code",
   "execution_count": 20,
   "id": "e2d21490-2762-479b-9ef8-16f64a3d03db",
   "metadata": {},
   "outputs": [
    {
     "data": {
      "text/plain": [
       "3.8790871411758685"
      ]
     },
     "execution_count": 20,
     "metadata": {},
     "output_type": "execute_result"
    }
   ],
   "source": [
    "transacoes_tipo.credit_card/transacoes_tipo.boleto"
   ]
  },
  {
   "cell_type": "markdown",
   "id": "14a6f0cf-d38d-4e4a-8cbc-62b8871a82a1",
   "metadata": {},
   "source": [
    "### E como seria possível exibir o tipo de pagamento de forma visual?"
   ]
  },
  {
   "cell_type": "code",
   "execution_count": 21,
   "id": "401772b9-e002-40de-ad2d-21f54d8becfe",
   "metadata": {},
   "outputs": [
    {
     "data": {
      "image/png": "[encoded data removed]",
      "text/plain": [
       "<Figure size 432x288 with 1 Axes>"
      ]
     },
     "metadata": {
      "needs_background": "light"
     },
     "output_type": "display_data"
    }
   ],
   "source": [
    "transacoes_tipo.plot();"
   ]
  },
  {
   "cell_type": "markdown",
   "id": "1c772f3c-3714-4b27-bf14-8ccded2998c5",
   "metadata": {},
   "source": [
    "### E se eu quiser mostrar como um grafico de barras?"
   ]
  },
  {
   "cell_type": "code",
   "execution_count": 22,
   "id": "0b36980f-9df7-49b2-9305-eff276b8b9b4",
   "metadata": {},
   "outputs": [
    {
     "data": {
      "image/png": "[encoded data removed]",
      "text/plain": [
       "<Figure size 432x288 with 1 Axes>"
      ]
     },
     "metadata": {
      "needs_background": "light"
     },
     "output_type": "display_data"
    }
   ],
   "source": [
    "transacoes_tipo.plot.bar();"
   ]
  },
  {
   "cell_type": "markdown",
   "id": "8dc2497b-78a9-4c72-9132-8c1ef15bb8f1",
   "metadata": {},
   "source": [
    "### E podemos salvar isso como imagem para então colocar em um Power Point"
   ]
  },
  {
   "cell_type": "markdown",
   "id": "e2dfb703-723d-4b2d-8994-fc3fe5b64523",
   "metadata": {},
   "source": [
    "## Primeiro vamos importar o matplotlib"
   ]
  },
  {
   "cell_type": "code",
   "execution_count": 23,
   "id": "d85558f1-64b7-47ed-871a-2afc17007f4d",
   "metadata": {},
   "outputs": [],
   "source": [
    "import matplotlib.pyplot as plt"
   ]
  },
  {
   "cell_type": "markdown",
   "id": "348eda67-47ce-4461-88e7-36603eda4f5d",
   "metadata": {},
   "source": [
    "### E então salvar essa figura"
   ]
  },
  {
   "cell_type": "code",
   "execution_count": 24,
   "id": "bace65f7-8955-4d62-981d-0eefb1fc12cf",
   "metadata": {},
   "outputs": [
    {
     "data": {
      "image/png": "[encoded data removed]",
      "text/plain": [
       "<Figure size 432x288 with 1 Axes>"
      ]
     },
     "metadata": {
      "needs_background": "light"
     },
     "output_type": "display_data"
    }
   ],
   "source": [
    "transacoes_tipo.plot.bar();\n",
    "plt.savefig('transacoes_tipo')"
   ]
  },
  {
   "cell_type": "markdown",
   "id": "331b925b-c744-4cce-93b7-452265eb4b8f",
   "metadata": {},
   "source": [
    "## Podemos também ajustar os parâmetros da imagem"
   ]
  },
  {
   "cell_type": "markdown",
   "id": "5d38ee6c-5542-4199-95bf-5b87067fc7c5",
   "metadata": {},
   "source": [
    "### Podemos ajustar a figura que importamos e retirrar os fundos"
   ]
  },
  {
   "cell_type": "code",
   "execution_count": 25,
   "id": "5f255afe-089f-4f45-baf5-d1a71db06c8a",
   "metadata": {},
   "outputs": [
    {
     "data": {
      "image/png": "[encoded data removed]",
      "text/plain": [
       "<Figure size 432x288 with 1 Axes>"
      ]
     },
     "metadata": {
      "needs_background": "light"
     },
     "output_type": "display_data"
    }
   ],
   "source": [
    "transacoes_tipo.plot.bar();\n",
    "plt.savefig('transacoes_tipo', bbox_inches='tight',transparent=True)"
   ]
  },
  {
   "cell_type": "markdown",
   "id": "d729ad89-a3b2-40f2-a351-ea1f7333cedf",
   "metadata": {},
   "source": [
    "### Agora vamos usar o .value_counts() com o número de parcelas"
   ]
  },
  {
   "cell_type": "code",
   "execution_count": 26,
   "id": "17119e5e-ab17-4363-ad8d-46906959b8e1",
   "metadata": {},
   "outputs": [
    {
     "data": {
      "text/plain": [
       "1     51817\n",
       "2     12255\n",
       "3     10335\n",
       "4      7015\n",
       "10     5247\n",
       "5      5184\n",
       "8      4232\n",
       "6      3872\n",
       "7      1598\n",
       "9       637\n",
       "12      132\n",
       "15       72\n",
       "18       27\n",
       "11       22\n",
       "24       18\n",
       "20       17\n",
       "13       15\n",
       "14       15\n",
       "17        7\n",
       "16        4\n",
       "21        3\n",
       "0         2\n",
       "23        1\n",
       "22        1\n",
       "Name: payment_installments, dtype: int64"
      ]
     },
     "execution_count": 26,
     "metadata": {},
     "output_type": "execute_result"
    }
   ],
   "source": [
    "pagamentos.payment_installments.value_counts()"
   ]
  },
  {
   "cell_type": "markdown",
   "id": "3dce53d6-70b6-4a7d-b9bd-c32e9d37d012",
   "metadata": {},
   "source": [
    "### Vamos novamente visualizar a base"
   ]
  },
  {
   "cell_type": "code",
   "execution_count": 27,
   "id": "2edee816-5088-4957-9ce7-14621efcacee",
   "metadata": {},
   "outputs": [
    {
     "data": {
      "text/html": [
       "<div>\n",
       "<style scoped>\n",
       "    .dataframe tbody tr th:only-of-type {\n",
       "        vertical-align: middle;\n",
       "    }\n",
       "\n",
       "    .dataframe tbody tr th {\n",
       "        vertical-align: top;\n",
       "    }\n",
       "\n",
       "    .dataframe thead th {\n",
       "        text-align: right;\n",
       "    }\n",
       "</style>\n",
       "<table border=\"1\" class=\"dataframe\">\n",
       "  <thead>\n",
       "    <tr style=\"text-align: right;\">\n",
       "      <th></th>\n",
       "      <th>order_id</th>\n",
       "      <th>customer_id</th>\n",
       "      <th>order_status</th>\n",
       "      <th>order_purchase_timestamp</th>\n",
       "      <th>order_approved_at</th>\n",
       "      <th>order_delivered_carrier_date</th>\n",
       "      <th>order_delivered_customer_date</th>\n",
       "      <th>order_estimated_delivery_date</th>\n",
       "      <th>payment_sequential</th>\n",
       "      <th>payment_type</th>\n",
       "      <th>payment_installments</th>\n",
       "      <th>payment_value</th>\n",
       "    </tr>\n",
       "  </thead>\n",
       "  <tbody>\n",
       "    <tr>\n",
       "      <th>0</th>\n",
       "      <td>e481f51cbdc54678b7cc49136f2d6af7</td>\n",
       "      <td>9ef432eb6251297304e76186b10a928d</td>\n",
       "      <td>delivered</td>\n",
       "      <td>2017-10-02</td>\n",
       "      <td>2017-10-02</td>\n",
       "      <td>2017-10-04</td>\n",
       "      <td>2017-10-10</td>\n",
       "      <td>2017-10-18</td>\n",
       "      <td>1</td>\n",
       "      <td>credit_card</td>\n",
       "      <td>1</td>\n",
       "      <td>18.12</td>\n",
       "    </tr>\n",
       "    <tr>\n",
       "      <th>1</th>\n",
       "      <td>e481f51cbdc54678b7cc49136f2d6af7</td>\n",
       "      <td>9ef432eb6251297304e76186b10a928d</td>\n",
       "      <td>delivered</td>\n",
       "      <td>2017-10-02</td>\n",
       "      <td>2017-10-02</td>\n",
       "      <td>2017-10-04</td>\n",
       "      <td>2017-10-10</td>\n",
       "      <td>2017-10-18</td>\n",
       "      <td>2</td>\n",
       "      <td>voucher</td>\n",
       "      <td>1</td>\n",
       "      <td>18.59</td>\n",
       "    </tr>\n",
       "    <tr>\n",
       "      <th>2</th>\n",
       "      <td>e481f51cbdc54678b7cc49136f2d6af7</td>\n",
       "      <td>9ef432eb6251297304e76186b10a928d</td>\n",
       "      <td>delivered</td>\n",
       "      <td>2017-10-02</td>\n",
       "      <td>2017-10-02</td>\n",
       "      <td>2017-10-04</td>\n",
       "      <td>2017-10-10</td>\n",
       "      <td>2017-10-18</td>\n",
       "      <td>3</td>\n",
       "      <td>voucher</td>\n",
       "      <td>1</td>\n",
       "      <td>2.00</td>\n",
       "    </tr>\n",
       "    <tr>\n",
       "      <th>3</th>\n",
       "      <td>53cdb2fc8bc7dce0b6741e2150273451</td>\n",
       "      <td>b0830fb4747a6c6d20dea0b8c802d7ef</td>\n",
       "      <td>delivered</td>\n",
       "      <td>2018-07-24</td>\n",
       "      <td>2018-07-26</td>\n",
       "      <td>2018-07-26</td>\n",
       "      <td>2018-08-07</td>\n",
       "      <td>2018-08-13</td>\n",
       "      <td>1</td>\n",
       "      <td>boleto</td>\n",
       "      <td>1</td>\n",
       "      <td>141.46</td>\n",
       "    </tr>\n",
       "    <tr>\n",
       "      <th>4</th>\n",
       "      <td>47770eb9100c2d0c44946d9cf07ec65d</td>\n",
       "      <td>41ce2a54c0b03bf3443c3d931a367089</td>\n",
       "      <td>delivered</td>\n",
       "      <td>2018-08-08</td>\n",
       "      <td>2018-08-08</td>\n",
       "      <td>2018-08-08</td>\n",
       "      <td>2018-08-17</td>\n",
       "      <td>2018-09-04</td>\n",
       "      <td>1</td>\n",
       "      <td>credit_card</td>\n",
       "      <td>3</td>\n",
       "      <td>179.12</td>\n",
       "    </tr>\n",
       "  </tbody>\n",
       "</table>\n",
       "</div>"
      ],
      "text/plain": [
       "                           order_id                       customer_id  \\\n",
       "0  e481f51cbdc54678b7cc49136f2d6af7  9ef432eb6251297304e76186b10a928d   \n",
       "1  e481f51cbdc54678b7cc49136f2d6af7  9ef432eb6251297304e76186b10a928d   \n",
       "2  e481f51cbdc54678b7cc49136f2d6af7  9ef432eb6251297304e76186b10a928d   \n",
       "3  53cdb2fc8bc7dce0b6741e2150273451  b0830fb4747a6c6d20dea0b8c802d7ef   \n",
       "4  47770eb9100c2d0c44946d9cf07ec65d  41ce2a54c0b03bf3443c3d931a367089   \n",
       "\n",
       "  order_status order_purchase_timestamp order_approved_at  \\\n",
       "0    delivered               2017-10-02        2017-10-02   \n",
       "1    delivered               2017-10-02        2017-10-02   \n",
       "2    delivered               2017-10-02        2017-10-02   \n",
       "3    delivered               2018-07-24        2018-07-26   \n",
       "4    delivered               2018-08-08        2018-08-08   \n",
       "\n",
       "  order_delivered_carrier_date order_delivered_customer_date  \\\n",
       "0                   2017-10-04                    2017-10-10   \n",
       "1                   2017-10-04                    2017-10-10   \n",
       "2                   2017-10-04                    2017-10-10   \n",
       "3                   2018-07-26                    2018-08-07   \n",
       "4                   2018-08-08                    2018-08-17   \n",
       "\n",
       "  order_estimated_delivery_date  payment_sequential payment_type  \\\n",
       "0                    2017-10-18                   1  credit_card   \n",
       "1                    2017-10-18                   2      voucher   \n",
       "2                    2017-10-18                   3      voucher   \n",
       "3                    2018-08-13                   1       boleto   \n",
       "4                    2018-09-04                   1  credit_card   \n",
       "\n",
       "   payment_installments  payment_value  \n",
       "0                     1          18.12  \n",
       "1                     1          18.59  \n",
       "2                     1           2.00  \n",
       "3                     1         141.46  \n",
       "4                     3         179.12  "
      ]
     },
     "execution_count": 27,
     "metadata": {},
     "output_type": "execute_result"
    }
   ],
   "source": [
    "pagamentos.head(5)"
   ]
  },
  {
   "cell_type": "markdown",
   "id": "8658ee72-fb96-40e5-8fcc-01ed598c82cc",
   "metadata": {},
   "source": [
    "### Vamos, antes de fazer o .value_counts(), filtrar a base apenas para as transações em crédito"
   ]
  },
  {
   "cell_type": "code",
   "execution_count": 28,
   "id": "95e5d215-2b9b-4e9d-8afa-aa0a77d8885d",
   "metadata": {},
   "outputs": [
    {
     "data": {
      "text/html": [
       "<div>\n",
       "<style scoped>\n",
       "    .dataframe tbody tr th:only-of-type {\n",
       "        vertical-align: middle;\n",
       "    }\n",
       "\n",
       "    .dataframe tbody tr th {\n",
       "        vertical-align: top;\n",
       "    }\n",
       "\n",
       "    .dataframe thead th {\n",
       "        text-align: right;\n",
       "    }\n",
       "</style>\n",
       "<table border=\"1\" class=\"dataframe\">\n",
       "  <thead>\n",
       "    <tr style=\"text-align: right;\">\n",
       "      <th></th>\n",
       "      <th>order_id</th>\n",
       "      <th>customer_id</th>\n",
       "      <th>order_status</th>\n",
       "      <th>order_purchase_timestamp</th>\n",
       "      <th>order_approved_at</th>\n",
       "      <th>order_delivered_carrier_date</th>\n",
       "      <th>order_delivered_customer_date</th>\n",
       "      <th>order_estimated_delivery_date</th>\n",
       "      <th>payment_sequential</th>\n",
       "      <th>payment_type</th>\n",
       "      <th>payment_installments</th>\n",
       "      <th>payment_value</th>\n",
       "    </tr>\n",
       "  </thead>\n",
       "  <tbody>\n",
       "    <tr>\n",
       "      <th>0</th>\n",
       "      <td>e481f51cbdc54678b7cc49136f2d6af7</td>\n",
       "      <td>9ef432eb6251297304e76186b10a928d</td>\n",
       "      <td>delivered</td>\n",
       "      <td>2017-10-02</td>\n",
       "      <td>2017-10-02</td>\n",
       "      <td>2017-10-04</td>\n",
       "      <td>2017-10-10</td>\n",
       "      <td>2017-10-18</td>\n",
       "      <td>1</td>\n",
       "      <td>credit_card</td>\n",
       "      <td>1</td>\n",
       "      <td>18.12</td>\n",
       "    </tr>\n",
       "    <tr>\n",
       "      <th>4</th>\n",
       "      <td>47770eb9100c2d0c44946d9cf07ec65d</td>\n",
       "      <td>41ce2a54c0b03bf3443c3d931a367089</td>\n",
       "      <td>delivered</td>\n",
       "      <td>2018-08-08</td>\n",
       "      <td>2018-08-08</td>\n",
       "      <td>2018-08-08</td>\n",
       "      <td>2018-08-17</td>\n",
       "      <td>2018-09-04</td>\n",
       "      <td>1</td>\n",
       "      <td>credit_card</td>\n",
       "      <td>3</td>\n",
       "      <td>179.12</td>\n",
       "    </tr>\n",
       "    <tr>\n",
       "      <th>5</th>\n",
       "      <td>949d5b44dbf5de918fe9c16f97b45f8a</td>\n",
       "      <td>f88197465ea7920adcdbec7375364d82</td>\n",
       "      <td>delivered</td>\n",
       "      <td>2017-11-18</td>\n",
       "      <td>2017-11-18</td>\n",
       "      <td>2017-11-22</td>\n",
       "      <td>2017-12-02</td>\n",
       "      <td>2017-12-15</td>\n",
       "      <td>1</td>\n",
       "      <td>credit_card</td>\n",
       "      <td>1</td>\n",
       "      <td>72.20</td>\n",
       "    </tr>\n",
       "    <tr>\n",
       "      <th>6</th>\n",
       "      <td>ad21c59c0840e6cb83a9ceb5573f8159</td>\n",
       "      <td>8ab97904e6daea8866dbdbc4fb7aad2c</td>\n",
       "      <td>delivered</td>\n",
       "      <td>2018-02-13</td>\n",
       "      <td>2018-02-13</td>\n",
       "      <td>2018-02-14</td>\n",
       "      <td>2018-02-16</td>\n",
       "      <td>2018-02-26</td>\n",
       "      <td>1</td>\n",
       "      <td>credit_card</td>\n",
       "      <td>1</td>\n",
       "      <td>28.62</td>\n",
       "    </tr>\n",
       "    <tr>\n",
       "      <th>7</th>\n",
       "      <td>a4591c265e18cb1dcee52889e2d8acc3</td>\n",
       "      <td>503740e9ca751ccdda7ba28e9ab8f608</td>\n",
       "      <td>delivered</td>\n",
       "      <td>2017-07-09</td>\n",
       "      <td>2017-07-09</td>\n",
       "      <td>2017-07-11</td>\n",
       "      <td>2017-07-26</td>\n",
       "      <td>2017-08-01</td>\n",
       "      <td>1</td>\n",
       "      <td>credit_card</td>\n",
       "      <td>6</td>\n",
       "      <td>175.26</td>\n",
       "    </tr>\n",
       "    <tr>\n",
       "      <th>...</th>\n",
       "      <td>...</td>\n",
       "      <td>...</td>\n",
       "      <td>...</td>\n",
       "      <td>...</td>\n",
       "      <td>...</td>\n",
       "      <td>...</td>\n",
       "      <td>...</td>\n",
       "      <td>...</td>\n",
       "      <td>...</td>\n",
       "      <td>...</td>\n",
       "      <td>...</td>\n",
       "      <td>...</td>\n",
       "    </tr>\n",
       "    <tr>\n",
       "      <th>102522</th>\n",
       "      <td>880675dff2150932f1601e1c07eadeeb</td>\n",
       "      <td>47cd45a6ac7b9fb16537df2ccffeb5ac</td>\n",
       "      <td>delivered</td>\n",
       "      <td>2017-02-23</td>\n",
       "      <td>2017-02-23</td>\n",
       "      <td>2017-03-01</td>\n",
       "      <td>2017-03-06</td>\n",
       "      <td>2017-03-22</td>\n",
       "      <td>1</td>\n",
       "      <td>credit_card</td>\n",
       "      <td>3</td>\n",
       "      <td>155.99</td>\n",
       "    </tr>\n",
       "    <tr>\n",
       "      <th>102523</th>\n",
       "      <td>9c5dedf39a927c1b2549525ed64a053c</td>\n",
       "      <td>39bd1228ee8140590ac3aca26f2dfe00</td>\n",
       "      <td>delivered</td>\n",
       "      <td>2017-03-09</td>\n",
       "      <td>2017-03-09</td>\n",
       "      <td>2017-03-10</td>\n",
       "      <td>2017-03-17</td>\n",
       "      <td>2017-03-28</td>\n",
       "      <td>1</td>\n",
       "      <td>credit_card</td>\n",
       "      <td>3</td>\n",
       "      <td>85.08</td>\n",
       "    </tr>\n",
       "    <tr>\n",
       "      <th>102524</th>\n",
       "      <td>63943bddc261676b46f01ca7ac2f7bd8</td>\n",
       "      <td>1fca14ff2861355f6e5f14306ff977a7</td>\n",
       "      <td>delivered</td>\n",
       "      <td>2018-02-06</td>\n",
       "      <td>2018-02-06</td>\n",
       "      <td>2018-02-07</td>\n",
       "      <td>2018-02-28</td>\n",
       "      <td>2018-03-02</td>\n",
       "      <td>1</td>\n",
       "      <td>credit_card</td>\n",
       "      <td>3</td>\n",
       "      <td>195.00</td>\n",
       "    </tr>\n",
       "    <tr>\n",
       "      <th>102525</th>\n",
       "      <td>83c1379a015df1e13d02aae0204711ab</td>\n",
       "      <td>1aa71eb042121263aafbe80c1b562c9c</td>\n",
       "      <td>delivered</td>\n",
       "      <td>2017-08-27</td>\n",
       "      <td>2017-08-27</td>\n",
       "      <td>2017-08-28</td>\n",
       "      <td>2017-09-21</td>\n",
       "      <td>2017-09-27</td>\n",
       "      <td>1</td>\n",
       "      <td>credit_card</td>\n",
       "      <td>5</td>\n",
       "      <td>271.01</td>\n",
       "    </tr>\n",
       "    <tr>\n",
       "      <th>102526</th>\n",
       "      <td>11c177c8e97725db2631073c19f07b62</td>\n",
       "      <td>b331b74b18dc79bcdf6532d51e1637c1</td>\n",
       "      <td>delivered</td>\n",
       "      <td>2018-01-08</td>\n",
       "      <td>2018-01-08</td>\n",
       "      <td>2018-01-12</td>\n",
       "      <td>2018-01-25</td>\n",
       "      <td>2018-02-15</td>\n",
       "      <td>1</td>\n",
       "      <td>credit_card</td>\n",
       "      <td>4</td>\n",
       "      <td>441.16</td>\n",
       "    </tr>\n",
       "  </tbody>\n",
       "</table>\n",
       "<p>75809 rows × 12 columns</p>\n",
       "</div>"
      ],
      "text/plain": [
       "                                order_id                       customer_id  \\\n",
       "0       e481f51cbdc54678b7cc49136f2d6af7  9ef432eb6251297304e76186b10a928d   \n",
       "4       47770eb9100c2d0c44946d9cf07ec65d  41ce2a54c0b03bf3443c3d931a367089   \n",
       "5       949d5b44dbf5de918fe9c16f97b45f8a  f88197465ea7920adcdbec7375364d82   \n",
       "6       ad21c59c0840e6cb83a9ceb5573f8159  8ab97904e6daea8866dbdbc4fb7aad2c   \n",
       "7       a4591c265e18cb1dcee52889e2d8acc3  503740e9ca751ccdda7ba28e9ab8f608   \n",
       "...                                  ...                               ...   \n",
       "102522  880675dff2150932f1601e1c07eadeeb  47cd45a6ac7b9fb16537df2ccffeb5ac   \n",
       "102523  9c5dedf39a927c1b2549525ed64a053c  39bd1228ee8140590ac3aca26f2dfe00   \n",
       "102524  63943bddc261676b46f01ca7ac2f7bd8  1fca14ff2861355f6e5f14306ff977a7   \n",
       "102525  83c1379a015df1e13d02aae0204711ab  1aa71eb042121263aafbe80c1b562c9c   \n",
       "102526  11c177c8e97725db2631073c19f07b62  b331b74b18dc79bcdf6532d51e1637c1   \n",
       "\n",
       "       order_status order_purchase_timestamp order_approved_at  \\\n",
       "0         delivered               2017-10-02        2017-10-02   \n",
       "4         delivered               2018-08-08        2018-08-08   \n",
       "5         delivered               2017-11-18        2017-11-18   \n",
       "6         delivered               2018-02-13        2018-02-13   \n",
       "7         delivered               2017-07-09        2017-07-09   \n",
       "...             ...                      ...               ...   \n",
       "102522    delivered               2017-02-23        2017-02-23   \n",
       "102523    delivered               2017-03-09        2017-03-09   \n",
       "102524    delivered               2018-02-06        2018-02-06   \n",
       "102525    delivered               2017-08-27        2017-08-27   \n",
       "102526    delivered               2018-01-08        2018-01-08   \n",
       "\n",
       "       order_delivered_carrier_date order_delivered_customer_date  \\\n",
       "0                        2017-10-04                    2017-10-10   \n",
       "4                        2018-08-08                    2018-08-17   \n",
       "5                        2017-11-22                    2017-12-02   \n",
       "6                        2018-02-14                    2018-02-16   \n",
       "7                        2017-07-11                    2017-07-26   \n",
       "...                             ...                           ...   \n",
       "102522                   2017-03-01                    2017-03-06   \n",
       "102523                   2017-03-10                    2017-03-17   \n",
       "102524                   2018-02-07                    2018-02-28   \n",
       "102525                   2017-08-28                    2017-09-21   \n",
       "102526                   2018-01-12                    2018-01-25   \n",
       "\n",
       "       order_estimated_delivery_date  payment_sequential payment_type  \\\n",
       "0                         2017-10-18                   1  credit_card   \n",
       "4                         2018-09-04                   1  credit_card   \n",
       "5                         2017-12-15                   1  credit_card   \n",
       "6                         2018-02-26                   1  credit_card   \n",
       "7                         2017-08-01                   1  credit_card   \n",
       "...                              ...                 ...          ...   \n",
       "102522                    2017-03-22                   1  credit_card   \n",
       "102523                    2017-03-28                   1  credit_card   \n",
       "102524                    2018-03-02                   1  credit_card   \n",
       "102525                    2017-09-27                   1  credit_card   \n",
       "102526                    2018-02-15                   1  credit_card   \n",
       "\n",
       "        payment_installments  payment_value  \n",
       "0                          1          18.12  \n",
       "4                          3         179.12  \n",
       "5                          1          72.20  \n",
       "6                          1          28.62  \n",
       "7                          6         175.26  \n",
       "...                      ...            ...  \n",
       "102522                     3         155.99  \n",
       "102523                     3          85.08  \n",
       "102524                     3         195.00  \n",
       "102525                     5         271.01  \n",
       "102526                     4         441.16  \n",
       "\n",
       "[75809 rows x 12 columns]"
      ]
     },
     "execution_count": 28,
     "metadata": {},
     "output_type": "execute_result"
    }
   ],
   "source": [
    "pagamentos.loc[pagamentos.payment_type == 'credit_card']"
   ]
  },
  {
   "cell_type": "markdown",
   "id": "af3a53bb-5027-471e-bda4-7973b2c54fa7",
   "metadata": {},
   "source": [
    "### Agora vamos pegar apenas a coluna de número de parcelas"
   ]
  },
  {
   "cell_type": "code",
   "execution_count": 29,
   "id": "27d18e87-70df-4bb1-81f7-53c5e399de4f",
   "metadata": {},
   "outputs": [
    {
     "data": {
      "text/plain": [
       "0         1\n",
       "4         3\n",
       "5         1\n",
       "6         1\n",
       "7         6\n",
       "         ..\n",
       "102522    3\n",
       "102523    3\n",
       "102524    3\n",
       "102525    5\n",
       "102526    4\n",
       "Name: payment_installments, Length: 75809, dtype: int64"
      ]
     },
     "execution_count": 29,
     "metadata": {},
     "output_type": "execute_result"
    }
   ],
   "source": [
    "pagamentos.loc[pagamentos.payment_type == 'credit_card','payment_installments']"
   ]
  },
  {
   "cell_type": "markdown",
   "id": "198b58ff-1023-4621-bdd7-c49e8278c12e",
   "metadata": {},
   "source": [
    "### E só então fazer o .value_counts()"
   ]
  },
  {
   "cell_type": "code",
   "execution_count": 30,
   "id": "495e8ba0-606b-4d6d-a173-5b57d987099f",
   "metadata": {},
   "outputs": [
    {
     "data": {
      "text/plain": [
       "1     25098\n",
       "2     12255\n",
       "3     10335\n",
       "4      7015\n",
       "10     5247\n",
       "5      5184\n",
       "8      4232\n",
       "6      3872\n",
       "7      1598\n",
       "9       637\n",
       "12      132\n",
       "15       72\n",
       "18       27\n",
       "11       22\n",
       "24       18\n",
       "20       17\n",
       "13       15\n",
       "14       15\n",
       "17        7\n",
       "16        4\n",
       "21        3\n",
       "0         2\n",
       "23        1\n",
       "22        1\n",
       "Name: payment_installments, dtype: int64"
      ]
     },
     "execution_count": 30,
     "metadata": {},
     "output_type": "execute_result"
    }
   ],
   "source": [
    "pagamentos.loc[pagamentos.payment_type == 'credit_card','payment_installments'].value_counts()"
   ]
  },
  {
   "cell_type": "markdown",
   "id": "2ee7c1cd-fb06-419b-a96b-944bd00b4b56",
   "metadata": {
    "tags": []
   },
   "source": [
    "### Para visualizar melhor podemos ordenar pelo index usando o .sort_index()"
   ]
  },
  {
   "cell_type": "code",
   "execution_count": 31,
   "id": "8add7c71-dfd7-4b77-9083-ab8931b759fc",
   "metadata": {},
   "outputs": [],
   "source": [
    "pagamento_parcelado = pagamentos.loc[pagamentos.payment_type == 'credit_card','payment_installments'].value_counts().sort_index()"
   ]
  },
  {
   "cell_type": "markdown",
   "id": "acfa7baa-e059-4af4-a549-9784104d55d5",
   "metadata": {},
   "source": [
    "### Podems também visualizar de forma gráfica"
   ]
  },
  {
   "cell_type": "code",
   "execution_count": 32,
   "id": "19f55a2c-f952-4c88-816a-7f0332b71fbe",
   "metadata": {},
   "outputs": [
    {
     "data": {
      "image/png": "[encoded data removed]",
      "text/plain": [
       "<Figure size 720x360 with 1 Axes>"
      ]
     },
     "metadata": {
      "needs_background": "light"
     },
     "output_type": "display_data"
    }
   ],
   "source": [
    "pagamento_parcelado.plot.bar(figsize=(10,5));"
   ]
  },
  {
   "cell_type": "markdown",
   "id": "13c798a5-4242-4e7a-be16-813f814b1e35",
   "metadata": {},
   "source": [
    "### E exportar essa figura"
   ]
  },
  {
   "cell_type": "code",
   "execution_count": 33,
   "id": "f0f8ab77-3961-4ebf-87b9-b9d5ff628a1f",
   "metadata": {},
   "outputs": [
    {
     "data": {
      "image/png": "[encoded data removed]",
      "text/plain": [
       "<Figure size 720x360 with 1 Axes>"
      ]
     },
     "metadata": {
      "needs_background": "light"
     },
     "output_type": "display_data"
    }
   ],
   "source": [
    "pagamento_parcelado.plot.bar(figsize=(10,5));\n",
    "plt.savefig('transacoes_parcelas',bbox_inches='tight',transparent=True)"
   ]
  },
  {
   "cell_type": "markdown",
   "id": "b57865e4-d388-4fc2-9559-96428e97df6d",
   "metadata": {},
   "source": [
    "### Como eu poderia calcular o % de cada quantidade de parcelas?"
   ]
  },
  {
   "cell_type": "markdown",
   "id": "60e03554-279a-49fb-87e9-2bd04622f9fa",
   "metadata": {},
   "source": [
    "### Salvando o total de transações parceladas em uma variável"
   ]
  },
  {
   "cell_type": "code",
   "execution_count": 34,
   "id": "7d00750b-07c8-4042-bbca-032d8ab14fdc",
   "metadata": {},
   "outputs": [],
   "source": [
    "total_parcelado = pagamento_parcelado.sum()"
   ]
  },
  {
   "cell_type": "markdown",
   "id": "2d61d941-c7ca-4e0d-a0ad-594db8a55bde",
   "metadata": {},
   "source": [
    "### E o número de parcelas em outra"
   ]
  },
  {
   "cell_type": "code",
   "execution_count": 35,
   "id": "b5c6d51b-4288-4210-bb6f-18eadd816cc9",
   "metadata": {},
   "outputs": [
    {
     "data": {
      "text/plain": [
       "0         2\n",
       "1     25098\n",
       "2     12255\n",
       "3     10335\n",
       "4      7015\n",
       "5      5184\n",
       "6      3872\n",
       "7      1598\n",
       "8      4232\n",
       "9       637\n",
       "10     5247\n",
       "11       22\n",
       "12      132\n",
       "13       15\n",
       "14       15\n",
       "15       72\n",
       "16        4\n",
       "17        7\n",
       "18       27\n",
       "20       17\n",
       "21        3\n",
       "22        1\n",
       "23        1\n",
       "24       18\n",
       "Name: payment_installments, dtype: int64"
      ]
     },
     "execution_count": 35,
     "metadata": {},
     "output_type": "execute_result"
    }
   ],
   "source": [
    "pagamento_parcelado"
   ]
  },
  {
   "cell_type": "markdown",
   "id": "1857f8c5-505f-4af5-90c8-423022681c27",
   "metadata": {},
   "source": [
    "### Visualizando em %"
   ]
  },
  {
   "cell_type": "code",
   "execution_count": 36,
   "id": "c4a3b2b4-e56f-4e0f-9c42-ca9ddb8c4608",
   "metadata": {},
   "outputs": [
    {
     "data": {
      "image/png": "[encoded data removed]",
      "text/plain": [
       "<Figure size 432x288 with 1 Axes>"
      ]
     },
     "metadata": {
      "needs_background": "light"
     },
     "output_type": "display_data"
    }
   ],
   "source": [
    "round((pagamento_parcelado/total_parcelado)*100,2).plot.bar();"
   ]
  },
  {
   "cell_type": "markdown",
   "id": "3472d690-e9f3-46f9-bd63-85798006ca55",
   "metadata": {},
   "source": [
    "# Agora vamos começar a analisar o valor das parcelas"
   ]
  },
  {
   "cell_type": "markdown",
   "id": "469f39f7-501b-461f-a5b6-c2774337bd75",
   "metadata": {},
   "source": [
    "### Relembrando, verificando a quantidade comprada"
   ]
  },
  {
   "cell_type": "code",
   "execution_count": 37,
   "id": "a1a9be87-dbad-4ca9-a2be-6849238f29e0",
   "metadata": {},
   "outputs": [
    {
     "data": {
      "text/plain": [
       "102528"
      ]
     },
     "execution_count": 37,
     "metadata": {},
     "output_type": "execute_result"
    }
   ],
   "source": [
    "pagamentos.payment_value.count()"
   ]
  },
  {
   "cell_type": "markdown",
   "id": "c3422f3a-f3f3-4d9c-ad12-356db3e1958d",
   "metadata": {},
   "source": [
    "### E agora vendo o valor total da compra"
   ]
  },
  {
   "cell_type": "code",
   "execution_count": 38,
   "id": "cd08d939-7cd0-40ea-b6a0-64a72620fab2",
   "metadata": {},
   "outputs": [
    {
     "data": {
      "text/plain": [
       "15821063.889999997"
      ]
     },
     "execution_count": 38,
     "metadata": {},
     "output_type": "execute_result"
    }
   ],
   "source": [
    "pagamentos.payment_value.sum()"
   ]
  },
  {
   "cell_type": "markdown",
   "id": "14e773bf-a2b0-49f8-ab6c-b1c5e1f22803",
   "metadata": {},
   "source": [
    "### Calculando o valor médio da parcela"
   ]
  },
  {
   "cell_type": "code",
   "execution_count": 39,
   "id": "bb291dbf-124f-45c6-8b0b-c2807b0cce76",
   "metadata": {},
   "outputs": [
    {
     "data": {
      "text/plain": [
       "154.30968993835828"
      ]
     },
     "execution_count": 39,
     "metadata": {},
     "output_type": "execute_result"
    }
   ],
   "source": [
    "pagamentos.payment_value.sum()/pagamentos.payment_value.count()"
   ]
  },
  {
   "cell_type": "markdown",
   "id": "66c49936-1151-4b50-a1d9-726e66b3229d",
   "metadata": {},
   "source": [
    "### Calculando diretamente a média"
   ]
  },
  {
   "cell_type": "code",
   "execution_count": 40,
   "id": "4b290be8-b958-4565-8beb-e50ee0ede398",
   "metadata": {},
   "outputs": [
    {
     "data": {
      "text/plain": [
       "154.30968993835037"
      ]
     },
     "execution_count": 40,
     "metadata": {},
     "output_type": "execute_result"
    }
   ],
   "source": [
    "pagamentos.payment_value.mean()"
   ]
  },
  {
   "cell_type": "code",
   "execution_count": 41,
   "id": "15f9d8b4-5f62-4e67-a669-296b0a9bd77c",
   "metadata": {},
   "outputs": [
    {
     "data": {
      "text/html": [
       "<div>\n",
       "<style scoped>\n",
       "    .dataframe tbody tr th:only-of-type {\n",
       "        vertical-align: middle;\n",
       "    }\n",
       "\n",
       "    .dataframe tbody tr th {\n",
       "        vertical-align: top;\n",
       "    }\n",
       "\n",
       "    .dataframe thead th {\n",
       "        text-align: right;\n",
       "    }\n",
       "</style>\n",
       "<table border=\"1\" class=\"dataframe\">\n",
       "  <thead>\n",
       "    <tr style=\"text-align: right;\">\n",
       "      <th></th>\n",
       "      <th>order_id</th>\n",
       "      <th>customer_id</th>\n",
       "      <th>order_status</th>\n",
       "      <th>order_purchase_timestamp</th>\n",
       "      <th>order_approved_at</th>\n",
       "      <th>order_delivered_carrier_date</th>\n",
       "      <th>order_delivered_customer_date</th>\n",
       "      <th>order_estimated_delivery_date</th>\n",
       "      <th>payment_sequential</th>\n",
       "      <th>payment_type</th>\n",
       "      <th>payment_installments</th>\n",
       "      <th>payment_value</th>\n",
       "    </tr>\n",
       "  </thead>\n",
       "  <tbody>\n",
       "    <tr>\n",
       "      <th>0</th>\n",
       "      <td>e481f51cbdc54678b7cc49136f2d6af7</td>\n",
       "      <td>9ef432eb6251297304e76186b10a928d</td>\n",
       "      <td>delivered</td>\n",
       "      <td>2017-10-02</td>\n",
       "      <td>2017-10-02</td>\n",
       "      <td>2017-10-04</td>\n",
       "      <td>2017-10-10</td>\n",
       "      <td>2017-10-18</td>\n",
       "      <td>1</td>\n",
       "      <td>credit_card</td>\n",
       "      <td>1</td>\n",
       "      <td>18.12</td>\n",
       "    </tr>\n",
       "    <tr>\n",
       "      <th>1</th>\n",
       "      <td>e481f51cbdc54678b7cc49136f2d6af7</td>\n",
       "      <td>9ef432eb6251297304e76186b10a928d</td>\n",
       "      <td>delivered</td>\n",
       "      <td>2017-10-02</td>\n",
       "      <td>2017-10-02</td>\n",
       "      <td>2017-10-04</td>\n",
       "      <td>2017-10-10</td>\n",
       "      <td>2017-10-18</td>\n",
       "      <td>2</td>\n",
       "      <td>voucher</td>\n",
       "      <td>1</td>\n",
       "      <td>18.59</td>\n",
       "    </tr>\n",
       "    <tr>\n",
       "      <th>2</th>\n",
       "      <td>e481f51cbdc54678b7cc49136f2d6af7</td>\n",
       "      <td>9ef432eb6251297304e76186b10a928d</td>\n",
       "      <td>delivered</td>\n",
       "      <td>2017-10-02</td>\n",
       "      <td>2017-10-02</td>\n",
       "      <td>2017-10-04</td>\n",
       "      <td>2017-10-10</td>\n",
       "      <td>2017-10-18</td>\n",
       "      <td>3</td>\n",
       "      <td>voucher</td>\n",
       "      <td>1</td>\n",
       "      <td>2.00</td>\n",
       "    </tr>\n",
       "    <tr>\n",
       "      <th>3</th>\n",
       "      <td>53cdb2fc8bc7dce0b6741e2150273451</td>\n",
       "      <td>b0830fb4747a6c6d20dea0b8c802d7ef</td>\n",
       "      <td>delivered</td>\n",
       "      <td>2018-07-24</td>\n",
       "      <td>2018-07-26</td>\n",
       "      <td>2018-07-26</td>\n",
       "      <td>2018-08-07</td>\n",
       "      <td>2018-08-13</td>\n",
       "      <td>1</td>\n",
       "      <td>boleto</td>\n",
       "      <td>1</td>\n",
       "      <td>141.46</td>\n",
       "    </tr>\n",
       "    <tr>\n",
       "      <th>4</th>\n",
       "      <td>47770eb9100c2d0c44946d9cf07ec65d</td>\n",
       "      <td>41ce2a54c0b03bf3443c3d931a367089</td>\n",
       "      <td>delivered</td>\n",
       "      <td>2018-08-08</td>\n",
       "      <td>2018-08-08</td>\n",
       "      <td>2018-08-08</td>\n",
       "      <td>2018-08-17</td>\n",
       "      <td>2018-09-04</td>\n",
       "      <td>1</td>\n",
       "      <td>credit_card</td>\n",
       "      <td>3</td>\n",
       "      <td>179.12</td>\n",
       "    </tr>\n",
       "  </tbody>\n",
       "</table>\n",
       "</div>"
      ],
      "text/plain": [
       "                           order_id                       customer_id  \\\n",
       "0  e481f51cbdc54678b7cc49136f2d6af7  9ef432eb6251297304e76186b10a928d   \n",
       "1  e481f51cbdc54678b7cc49136f2d6af7  9ef432eb6251297304e76186b10a928d   \n",
       "2  e481f51cbdc54678b7cc49136f2d6af7  9ef432eb6251297304e76186b10a928d   \n",
       "3  53cdb2fc8bc7dce0b6741e2150273451  b0830fb4747a6c6d20dea0b8c802d7ef   \n",
       "4  47770eb9100c2d0c44946d9cf07ec65d  41ce2a54c0b03bf3443c3d931a367089   \n",
       "\n",
       "  order_status order_purchase_timestamp order_approved_at  \\\n",
       "0    delivered               2017-10-02        2017-10-02   \n",
       "1    delivered               2017-10-02        2017-10-02   \n",
       "2    delivered               2017-10-02        2017-10-02   \n",
       "3    delivered               2018-07-24        2018-07-26   \n",
       "4    delivered               2018-08-08        2018-08-08   \n",
       "\n",
       "  order_delivered_carrier_date order_delivered_customer_date  \\\n",
       "0                   2017-10-04                    2017-10-10   \n",
       "1                   2017-10-04                    2017-10-10   \n",
       "2                   2017-10-04                    2017-10-10   \n",
       "3                   2018-07-26                    2018-08-07   \n",
       "4                   2018-08-08                    2018-08-17   \n",
       "\n",
       "  order_estimated_delivery_date  payment_sequential payment_type  \\\n",
       "0                    2017-10-18                   1  credit_card   \n",
       "1                    2017-10-18                   2      voucher   \n",
       "2                    2017-10-18                   3      voucher   \n",
       "3                    2018-08-13                   1       boleto   \n",
       "4                    2018-09-04                   1  credit_card   \n",
       "\n",
       "   payment_installments  payment_value  \n",
       "0                     1          18.12  \n",
       "1                     1          18.59  \n",
       "2                     1           2.00  \n",
       "3                     1         141.46  \n",
       "4                     3         179.12  "
      ]
     },
     "execution_count": 41,
     "metadata": {},
     "output_type": "execute_result"
    }
   ],
   "source": [
    "pagamentos.head()"
   ]
  },
  {
   "cell_type": "markdown",
   "id": "52e8100c-b5ad-45d5-b001-94e0b41feb5e",
   "metadata": {},
   "source": [
    "### Qual seria a média por tipo de pagamento?"
   ]
  },
  {
   "cell_type": "code",
   "execution_count": 42,
   "id": "02572f16-29a2-4e8e-bea7-ab3eaf8c01f3",
   "metadata": {},
   "outputs": [
    {
     "data": {
      "text/plain": [
       "payment_type\n",
       "boleto         145.430333\n",
       "credit_card    163.530169\n",
       "debit_card     143.290572\n",
       "voucher         64.838404\n",
       "Name: payment_value, dtype: float64"
      ]
     },
     "execution_count": 42,
     "metadata": {},
     "output_type": "execute_result"
    }
   ],
   "source": [
    "pagamentos.groupby('payment_type')['payment_value'].mean()"
   ]
  },
  {
   "cell_type": "markdown",
   "id": "51120426-571f-42ff-a365-3fdf22e92e1d",
   "metadata": {},
   "source": [
    "### Qual seria o valor total por tipo de pagamento?"
   ]
  },
  {
   "cell_type": "code",
   "execution_count": 43,
   "id": "3ea7d75d-2112-46d0-ad56-d254ea249f3a",
   "metadata": {},
   "outputs": [
    {
     "data": {
      "text/plain": [
       "payment_type\n",
       "credit_card    12397058.59\n",
       "boleto          2842144.99\n",
       "voucher          368930.52\n",
       "debit_card       212929.79\n",
       "Name: payment_value, dtype: float64"
      ]
     },
     "execution_count": 43,
     "metadata": {},
     "output_type": "execute_result"
    }
   ],
   "source": [
    "pagamentos.groupby('payment_type')['payment_value'].sum().sort_values(ascending=False)"
   ]
  },
  {
   "cell_type": "markdown",
   "id": "ba28f240-72dc-4672-a41d-15c80254d04e",
   "metadata": {},
   "source": [
    "### Visualizando de forma gráfica"
   ]
  },
  {
   "cell_type": "code",
   "execution_count": 44,
   "id": "faa61551-b43f-4023-bd47-2fa8b471a741",
   "metadata": {},
   "outputs": [
    {
     "data": {
      "image/png": "[encoded data removed]",
      "text/plain": [
       "<Figure size 432x288 with 1 Axes>"
      ]
     },
     "metadata": {
      "needs_background": "light"
     },
     "output_type": "display_data"
    }
   ],
   "source": [
    "pagamentos.groupby('payment_type')['payment_value'].sum().sort_values(ascending=False).plot.bar();"
   ]
  },
  {
   "cell_type": "markdown",
   "id": "9c11debf-d8cf-4eef-8f5b-01cb72c2a06c",
   "metadata": {},
   "source": [
    "### Exportando esse visual"
   ]
  },
  {
   "cell_type": "code",
   "execution_count": 45,
   "id": "e13eda6a-af27-4cbe-9e88-b16c744c8fae",
   "metadata": {},
   "outputs": [
    {
     "data": {
      "image/png": "[encoded data removed]",
      "text/plain": [
       "<Figure size 432x288 with 1 Axes>"
      ]
     },
     "metadata": {
      "needs_background": "light"
     },
     "output_type": "display_data"
    }
   ],
   "source": [
    "pagamentos.groupby('payment_type')['payment_value'].sum().sort_values(ascending=False).plot.bar();\n",
    "plt.savefig('transacoes_valor',bbox_inches='tight',transparent=True)"
   ]
  },
  {
   "cell_type": "code",
   "execution_count": 46,
   "id": "81647668-3efa-4ef1-bf02-bc24dbf1c56b",
   "metadata": {},
   "outputs": [
    {
     "data": {
      "text/html": [
       "<div>\n",
       "<style scoped>\n",
       "    .dataframe tbody tr th:only-of-type {\n",
       "        vertical-align: middle;\n",
       "    }\n",
       "\n",
       "    .dataframe tbody tr th {\n",
       "        vertical-align: top;\n",
       "    }\n",
       "\n",
       "    .dataframe thead th {\n",
       "        text-align: right;\n",
       "    }\n",
       "</style>\n",
       "<table border=\"1\" class=\"dataframe\">\n",
       "  <thead>\n",
       "    <tr style=\"text-align: right;\">\n",
       "      <th></th>\n",
       "      <th>order_id</th>\n",
       "      <th>customer_id</th>\n",
       "      <th>order_status</th>\n",
       "      <th>order_purchase_timestamp</th>\n",
       "      <th>order_approved_at</th>\n",
       "      <th>order_delivered_carrier_date</th>\n",
       "      <th>order_delivered_customer_date</th>\n",
       "      <th>order_estimated_delivery_date</th>\n",
       "      <th>payment_sequential</th>\n",
       "      <th>payment_type</th>\n",
       "      <th>payment_installments</th>\n",
       "      <th>payment_value</th>\n",
       "    </tr>\n",
       "  </thead>\n",
       "  <tbody>\n",
       "    <tr>\n",
       "      <th>0</th>\n",
       "      <td>e481f51cbdc54678b7cc49136f2d6af7</td>\n",
       "      <td>9ef432eb6251297304e76186b10a928d</td>\n",
       "      <td>delivered</td>\n",
       "      <td>2017-10-02</td>\n",
       "      <td>2017-10-02</td>\n",
       "      <td>2017-10-04</td>\n",
       "      <td>2017-10-10</td>\n",
       "      <td>2017-10-18</td>\n",
       "      <td>1</td>\n",
       "      <td>credit_card</td>\n",
       "      <td>1</td>\n",
       "      <td>18.12</td>\n",
       "    </tr>\n",
       "    <tr>\n",
       "      <th>1</th>\n",
       "      <td>e481f51cbdc54678b7cc49136f2d6af7</td>\n",
       "      <td>9ef432eb6251297304e76186b10a928d</td>\n",
       "      <td>delivered</td>\n",
       "      <td>2017-10-02</td>\n",
       "      <td>2017-10-02</td>\n",
       "      <td>2017-10-04</td>\n",
       "      <td>2017-10-10</td>\n",
       "      <td>2017-10-18</td>\n",
       "      <td>2</td>\n",
       "      <td>voucher</td>\n",
       "      <td>1</td>\n",
       "      <td>18.59</td>\n",
       "    </tr>\n",
       "  </tbody>\n",
       "</table>\n",
       "</div>"
      ],
      "text/plain": [
       "                           order_id                       customer_id  \\\n",
       "0  e481f51cbdc54678b7cc49136f2d6af7  9ef432eb6251297304e76186b10a928d   \n",
       "1  e481f51cbdc54678b7cc49136f2d6af7  9ef432eb6251297304e76186b10a928d   \n",
       "\n",
       "  order_status order_purchase_timestamp order_approved_at  \\\n",
       "0    delivered               2017-10-02        2017-10-02   \n",
       "1    delivered               2017-10-02        2017-10-02   \n",
       "\n",
       "  order_delivered_carrier_date order_delivered_customer_date  \\\n",
       "0                   2017-10-04                    2017-10-10   \n",
       "1                   2017-10-04                    2017-10-10   \n",
       "\n",
       "  order_estimated_delivery_date  payment_sequential payment_type  \\\n",
       "0                    2017-10-18                   1  credit_card   \n",
       "1                    2017-10-18                   2      voucher   \n",
       "\n",
       "   payment_installments  payment_value  \n",
       "0                     1          18.12  \n",
       "1                     1          18.59  "
      ]
     },
     "execution_count": 46,
     "metadata": {},
     "output_type": "execute_result"
    }
   ],
   "source": [
    "pagamentos.head(2)"
   ]
  },
  {
   "cell_type": "markdown",
   "id": "0e285238-a5ce-467f-8d56-9202c63283f6",
   "metadata": {},
   "source": [
    "### Será que a média em 10 parcelas é maior que nos outros parcelamentos?"
   ]
  },
  {
   "cell_type": "code",
   "execution_count": 47,
   "id": "0e8b8e19-66eb-45f2-841c-49405b245cad",
   "metadata": {},
   "outputs": [
    {
     "data": {
      "text/plain": [
       "payment_installments\n",
       "0      94.315000\n",
       "1      96.133129\n",
       "2     127.260781\n",
       "3     142.776074\n",
       "4     164.268574\n",
       "5     183.344851\n",
       "6     210.148698\n",
       "7     188.499869\n",
       "8     308.104910\n",
       "9     203.799953\n",
       "10    414.834061\n",
       "11    125.478636\n",
       "12    323.144470\n",
       "13    151.318000\n",
       "14    167.962667\n",
       "15    451.722083\n",
       "16    285.677500\n",
       "17    174.224286\n",
       "18    486.483333\n",
       "20    615.801765\n",
       "21    243.700000\n",
       "22    228.710000\n",
       "23    236.480000\n",
       "24    610.048889\n",
       "Name: payment_value, dtype: float64"
      ]
     },
     "execution_count": 47,
     "metadata": {},
     "output_type": "execute_result"
    }
   ],
   "source": [
    "pagamentos[pagamentos.payment_type == 'credit_card'].groupby('payment_installments')['payment_value'].mean()"
   ]
  },
  {
   "cell_type": "markdown",
   "id": "d2a11ef1-c775-456e-be0a-1faa7e140a44",
   "metadata": {},
   "source": [
    "# Sobre as vendas"
   ]
  },
  {
   "cell_type": "markdown",
   "id": "f18cce9f-faaa-4360-a35a-9d5a23c9aced",
   "metadata": {},
   "source": [
    "### Visualizando novamente a base"
   ]
  },
  {
   "cell_type": "code",
   "execution_count": 48,
   "id": "28e1b339-b01c-457e-8365-c7445c6a6442",
   "metadata": {},
   "outputs": [
    {
     "data": {
      "text/html": [
       "<div>\n",
       "<style scoped>\n",
       "    .dataframe tbody tr th:only-of-type {\n",
       "        vertical-align: middle;\n",
       "    }\n",
       "\n",
       "    .dataframe tbody tr th {\n",
       "        vertical-align: top;\n",
       "    }\n",
       "\n",
       "    .dataframe thead th {\n",
       "        text-align: right;\n",
       "    }\n",
       "</style>\n",
       "<table border=\"1\" class=\"dataframe\">\n",
       "  <thead>\n",
       "    <tr style=\"text-align: right;\">\n",
       "      <th></th>\n",
       "      <th>order_id</th>\n",
       "      <th>customer_id</th>\n",
       "      <th>order_status</th>\n",
       "      <th>order_purchase_timestamp</th>\n",
       "      <th>order_approved_at</th>\n",
       "      <th>order_delivered_carrier_date</th>\n",
       "      <th>order_delivered_customer_date</th>\n",
       "      <th>order_estimated_delivery_date</th>\n",
       "      <th>order_item_id</th>\n",
       "      <th>product_id</th>\n",
       "      <th>...</th>\n",
       "      <th>price</th>\n",
       "      <th>freight_value</th>\n",
       "      <th>product_category_name</th>\n",
       "      <th>customer_unique_id</th>\n",
       "      <th>customer_city</th>\n",
       "      <th>customer_state</th>\n",
       "      <th>dia_compra</th>\n",
       "      <th>mes_compra</th>\n",
       "      <th>ano_compra</th>\n",
       "      <th>ano_mes</th>\n",
       "    </tr>\n",
       "  </thead>\n",
       "  <tbody>\n",
       "    <tr>\n",
       "      <th>0</th>\n",
       "      <td>e481f51cbdc54678b7cc49136f2d6af7</td>\n",
       "      <td>9ef432eb6251297304e76186b10a928d</td>\n",
       "      <td>delivered</td>\n",
       "      <td>2017-10-02</td>\n",
       "      <td>2017-10-02</td>\n",
       "      <td>2017-10-04</td>\n",
       "      <td>2017-10-10</td>\n",
       "      <td>2017-10-18</td>\n",
       "      <td>1.0</td>\n",
       "      <td>87285b34884572647811a353c7ac498a</td>\n",
       "      <td>...</td>\n",
       "      <td>29.99</td>\n",
       "      <td>8.72</td>\n",
       "      <td>utilidades_domesticas</td>\n",
       "      <td>7c396fd4830fd04220f754e42b4e5bff</td>\n",
       "      <td>sao paulo</td>\n",
       "      <td>SP</td>\n",
       "      <td>2</td>\n",
       "      <td>10</td>\n",
       "      <td>2017</td>\n",
       "      <td>2017-10</td>\n",
       "    </tr>\n",
       "    <tr>\n",
       "      <th>1</th>\n",
       "      <td>53cdb2fc8bc7dce0b6741e2150273451</td>\n",
       "      <td>b0830fb4747a6c6d20dea0b8c802d7ef</td>\n",
       "      <td>delivered</td>\n",
       "      <td>2018-07-24</td>\n",
       "      <td>2018-07-26</td>\n",
       "      <td>2018-07-26</td>\n",
       "      <td>2018-08-07</td>\n",
       "      <td>2018-08-13</td>\n",
       "      <td>1.0</td>\n",
       "      <td>595fac2a385ac33a80bd5114aec74eb8</td>\n",
       "      <td>...</td>\n",
       "      <td>118.70</td>\n",
       "      <td>22.76</td>\n",
       "      <td>perfumaria</td>\n",
       "      <td>af07308b275d755c9edb36a90c618231</td>\n",
       "      <td>barreiras</td>\n",
       "      <td>BA</td>\n",
       "      <td>24</td>\n",
       "      <td>7</td>\n",
       "      <td>2018</td>\n",
       "      <td>2018-07</td>\n",
       "    </tr>\n",
       "    <tr>\n",
       "      <th>2</th>\n",
       "      <td>47770eb9100c2d0c44946d9cf07ec65d</td>\n",
       "      <td>41ce2a54c0b03bf3443c3d931a367089</td>\n",
       "      <td>delivered</td>\n",
       "      <td>2018-08-08</td>\n",
       "      <td>2018-08-08</td>\n",
       "      <td>2018-08-08</td>\n",
       "      <td>2018-08-17</td>\n",
       "      <td>2018-09-04</td>\n",
       "      <td>1.0</td>\n",
       "      <td>aa4383b373c6aca5d8797843e5594415</td>\n",
       "      <td>...</td>\n",
       "      <td>159.90</td>\n",
       "      <td>19.22</td>\n",
       "      <td>automotivo</td>\n",
       "      <td>3a653a41f6f9fc3d2a113cf8398680e8</td>\n",
       "      <td>vianopolis</td>\n",
       "      <td>GO</td>\n",
       "      <td>8</td>\n",
       "      <td>8</td>\n",
       "      <td>2018</td>\n",
       "      <td>2018-08</td>\n",
       "    </tr>\n",
       "  </tbody>\n",
       "</table>\n",
       "<p>3 rows × 22 columns</p>\n",
       "</div>"
      ],
      "text/plain": [
       "                           order_id                       customer_id  \\\n",
       "0  e481f51cbdc54678b7cc49136f2d6af7  9ef432eb6251297304e76186b10a928d   \n",
       "1  53cdb2fc8bc7dce0b6741e2150273451  b0830fb4747a6c6d20dea0b8c802d7ef   \n",
       "2  47770eb9100c2d0c44946d9cf07ec65d  41ce2a54c0b03bf3443c3d931a367089   \n",
       "\n",
       "  order_status order_purchase_timestamp order_approved_at  \\\n",
       "0    delivered               2017-10-02        2017-10-02   \n",
       "1    delivered               2018-07-24        2018-07-26   \n",
       "2    delivered               2018-08-08        2018-08-08   \n",
       "\n",
       "  order_delivered_carrier_date order_delivered_customer_date  \\\n",
       "0                   2017-10-04                    2017-10-10   \n",
       "1                   2018-07-26                    2018-08-07   \n",
       "2                   2018-08-08                    2018-08-17   \n",
       "\n",
       "  order_estimated_delivery_date  order_item_id  \\\n",
       "0                    2017-10-18            1.0   \n",
       "1                    2018-08-13            1.0   \n",
       "2                    2018-09-04            1.0   \n",
       "\n",
       "                         product_id  ...   price freight_value  \\\n",
       "0  87285b34884572647811a353c7ac498a  ...   29.99          8.72   \n",
       "1  595fac2a385ac33a80bd5114aec74eb8  ...  118.70         22.76   \n",
       "2  aa4383b373c6aca5d8797843e5594415  ...  159.90         19.22   \n",
       "\n",
       "   product_category_name                customer_unique_id customer_city  \\\n",
       "0  utilidades_domesticas  7c396fd4830fd04220f754e42b4e5bff     sao paulo   \n",
       "1             perfumaria  af07308b275d755c9edb36a90c618231     barreiras   \n",
       "2             automotivo  3a653a41f6f9fc3d2a113cf8398680e8    vianopolis   \n",
       "\n",
       "  customer_state dia_compra mes_compra  ano_compra  ano_mes  \n",
       "0             SP          2         10        2017  2017-10  \n",
       "1             BA         24          7        2018  2018-07  \n",
       "2             GO          8          8        2018  2018-08  \n",
       "\n",
       "[3 rows x 22 columns]"
      ]
     },
     "execution_count": 48,
     "metadata": {},
     "output_type": "execute_result"
    }
   ],
   "source": [
    "vendas.head(3)"
   ]
  },
  {
   "cell_type": "markdown",
   "id": "f1e5972b-cef4-420c-b870-20115a3fb8c3",
   "metadata": {},
   "source": [
    "### Verificando se existem valores nulos"
   ]
  },
  {
   "cell_type": "code",
   "execution_count": 49,
   "id": "8cb8c303-e77b-436c-87d4-75b692d317d3",
   "metadata": {},
   "outputs": [
    {
     "data": {
      "text/plain": [
       "order_id                            0\n",
       "customer_id                         0\n",
       "order_status                        0\n",
       "order_purchase_timestamp            0\n",
       "order_approved_at                 115\n",
       "order_delivered_carrier_date     1873\n",
       "order_delivered_customer_date    3119\n",
       "order_estimated_delivery_date       0\n",
       "order_item_id                     717\n",
       "product_id                        717\n",
       "seller_id                         717\n",
       "shipping_limit_date               717\n",
       "price                             717\n",
       "freight_value                     717\n",
       "product_category_name            2315\n",
       "customer_unique_id                  0\n",
       "customer_city                       0\n",
       "customer_state                      0\n",
       "dia_compra                          0\n",
       "mes_compra                          0\n",
       "ano_compra                          0\n",
       "ano_mes                             0\n",
       "dtype: int64"
      ]
     },
     "execution_count": 49,
     "metadata": {},
     "output_type": "execute_result"
    }
   ],
   "source": [
    "vendas.isnull().sum()"
   ]
  },
  {
   "cell_type": "markdown",
   "id": "53317d0d-5435-44a4-b852-316d4a954ecb",
   "metadata": {},
   "source": [
    "### Verificando a soma do preço pago pelo cliente"
   ]
  },
  {
   "cell_type": "code",
   "execution_count": 53,
   "id": "c6f93212-ab21-4aaf-8e51-9c958a43a865",
   "metadata": {},
   "outputs": [
    {
     "data": {
      "text/plain": [
       "13438795.230000002"
      ]
     },
     "execution_count": 53,
     "metadata": {},
     "output_type": "execute_result"
    }
   ],
   "source": [
    "preco = vendas.price.sum()\n",
    "preco"
   ]
  },
  {
   "cell_type": "markdown",
   "id": "4f045d98-c42b-4fbf-823c-b16c9cac7409",
   "metadata": {},
   "source": [
    "### Relembrando a soma do valor total na base de pagamentos"
   ]
  },
  {
   "cell_type": "code",
   "execution_count": 55,
   "id": "c04966e4-7d6e-4f73-b736-683d240ba683",
   "metadata": {},
   "outputs": [
    {
     "data": {
      "text/plain": [
       "15821063.889999997"
      ]
     },
     "execution_count": 55,
     "metadata": {},
     "output_type": "execute_result"
    }
   ],
   "source": [
    "pagamentos.payment_value.sum()"
   ]
  },
  {
   "cell_type": "markdown",
   "id": "96327df0-d79d-40d4-9bfa-9072a3fc922b",
   "metadata": {},
   "source": [
    "### Essa diferença é dada pelo frete?"
   ]
  },
  {
   "cell_type": "code",
   "execution_count": 58,
   "id": "b367d6ea-f3dc-4ab3-894a-a138ae47ce1a",
   "metadata": {},
   "outputs": [
    {
     "data": {
      "text/plain": [
       "2227687.37"
      ]
     },
     "execution_count": 58,
     "metadata": {},
     "output_type": "execute_result"
    }
   ],
   "source": [
    "frete = vendas.freight_value.sum()\n",
    "frete"
   ]
  },
  {
   "cell_type": "markdown",
   "id": "bc870e7f-b319-4178-b3c4-f4631a30048b",
   "metadata": {},
   "source": [
    "### Somando esses dois valores"
   ]
  },
  {
   "cell_type": "code",
   "execution_count": 59,
   "id": "9cb279db-25bb-4bf4-86f9-2e0a0f79f7a7",
   "metadata": {},
   "outputs": [
    {
     "data": {
      "text/plain": [
       "15666482.600000001"
      ]
     },
     "execution_count": 59,
     "metadata": {},
     "output_type": "execute_result"
    }
   ],
   "source": [
    "preco+frete"
   ]
  },
  {
   "cell_type": "markdown",
   "id": "c77eb65b-45bf-48f1-b642-6de2bc6b3bcd",
   "metadata": {},
   "source": [
    "### Então vamos entender os valores onde o preço é nulo"
   ]
  },
  {
   "cell_type": "code",
   "execution_count": 60,
   "id": "48c5b53b-26a0-4e0f-ba74-86161e0b6793",
   "metadata": {},
   "outputs": [
    {
     "data": {
      "text/plain": [
       "300       8e24261a7e58791d10cb1bf9da94df5c\n",
       "658       c272bcd21c287498b4883c7512019702\n",
       "778       37553832a3a89c9b2db59701c357ca67\n",
       "834       d57e15fb07fd180f06ab3926b39edcd2\n",
       "1302      2f634e2cebf8c0283e7ef0989f77d217\n",
       "                        ...               \n",
       "111597    6cf5c427fb11bc5fe8abefa86aa7ba0b\n",
       "111691    1c7c8ab324927f5b6e52338bd110bef4\n",
       "111709    aaab15da689073f8f9aa978a390a69d1\n",
       "111824    a69ba794cc7deb415c3e15a0a3877e69\n",
       "111895    5fabc81b6322c8443648e1b21a6fef21\n",
       "Name: order_id, Length: 717, dtype: object"
      ]
     },
     "execution_count": 60,
     "metadata": {},
     "output_type": "execute_result"
    }
   ],
   "source": [
    "vendas.loc[vendas.price.isnull(),'order_id']"
   ]
  },
  {
   "cell_type": "markdown",
   "id": "8868aad1-5e92-4ff4-8d53-00f8932bb4ca",
   "metadata": {},
   "source": [
    "### Podemos olhar esses IDs de pagamentos de forma manual"
   ]
  },
  {
   "cell_type": "code",
   "execution_count": 63,
   "id": "56868d53-c111-410f-a4c9-7c35fb8a0433",
   "metadata": {},
   "outputs": [
    {
     "data": {
      "text/html": [
       "<div>\n",
       "<style scoped>\n",
       "    .dataframe tbody tr th:only-of-type {\n",
       "        vertical-align: middle;\n",
       "    }\n",
       "\n",
       "    .dataframe tbody tr th {\n",
       "        vertical-align: top;\n",
       "    }\n",
       "\n",
       "    .dataframe thead th {\n",
       "        text-align: right;\n",
       "    }\n",
       "</style>\n",
       "<table border=\"1\" class=\"dataframe\">\n",
       "  <thead>\n",
       "    <tr style=\"text-align: right;\">\n",
       "      <th></th>\n",
       "      <th>order_id</th>\n",
       "      <th>customer_id</th>\n",
       "      <th>order_status</th>\n",
       "      <th>order_purchase_timestamp</th>\n",
       "      <th>order_approved_at</th>\n",
       "      <th>order_delivered_carrier_date</th>\n",
       "      <th>order_delivered_customer_date</th>\n",
       "      <th>order_estimated_delivery_date</th>\n",
       "      <th>payment_sequential</th>\n",
       "      <th>payment_type</th>\n",
       "      <th>payment_installments</th>\n",
       "      <th>payment_value</th>\n",
       "    </tr>\n",
       "  </thead>\n",
       "  <tbody>\n",
       "    <tr>\n",
       "      <th>275</th>\n",
       "      <td>8e24261a7e58791d10cb1bf9da94df5c</td>\n",
       "      <td>64a254d30eed42cd0e6c36dddb88adf0</td>\n",
       "      <td>unavailable</td>\n",
       "      <td>2017-11-16</td>\n",
       "      <td>2017-11-16</td>\n",
       "      <td>NaT</td>\n",
       "      <td>NaT</td>\n",
       "      <td>2017-12-05</td>\n",
       "      <td>1</td>\n",
       "      <td>credit_card</td>\n",
       "      <td>5</td>\n",
       "      <td>84.0</td>\n",
       "    </tr>\n",
       "  </tbody>\n",
       "</table>\n",
       "</div>"
      ],
      "text/plain": [
       "                             order_id                       customer_id  \\\n",
       "275  8e24261a7e58791d10cb1bf9da94df5c  64a254d30eed42cd0e6c36dddb88adf0   \n",
       "\n",
       "    order_status order_purchase_timestamp order_approved_at  \\\n",
       "275  unavailable               2017-11-16        2017-11-16   \n",
       "\n",
       "    order_delivered_carrier_date order_delivered_customer_date  \\\n",
       "275                          NaT                           NaT   \n",
       "\n",
       "    order_estimated_delivery_date  payment_sequential payment_type  \\\n",
       "275                    2017-12-05                   1  credit_card   \n",
       "\n",
       "     payment_installments  payment_value  \n",
       "275                     5           84.0  "
      ]
     },
     "execution_count": 63,
     "metadata": {},
     "output_type": "execute_result"
    }
   ],
   "source": [
    "pagamentos[pagamentos.order_id == '8e24261a7e58791d10cb1bf9da94df5c']"
   ]
  },
  {
   "cell_type": "markdown",
   "id": "30e045ea-d9f5-44fd-ac19-74febc8f4f05",
   "metadata": {},
   "source": [
    "## Para analisar de forma mais escalável, podemos utilizar o .isin() Para filtar todos esses IDs"
   ]
  },
  {
   "cell_type": "markdown",
   "id": "5f30947e-770d-44bc-9185-946806f7cf49",
   "metadata": {},
   "source": [
    "### Selecionando todos os order_ids onde o preço é nulo"
   ]
  },
  {
   "cell_type": "code",
   "execution_count": 64,
   "id": "85bbb405-de43-4bf9-8c05-1198c16c472f",
   "metadata": {},
   "outputs": [],
   "source": [
    "ids =vendas.loc[vendas.price.isnull(),'order_id']"
   ]
  },
  {
   "cell_type": "markdown",
   "id": "98057d27-bd6f-4f1b-b38e-04d22ca5f0ca",
   "metadata": {},
   "source": [
    "### Filtrando esses IDs na base de pagamento"
   ]
  },
  {
   "cell_type": "code",
   "execution_count": 65,
   "id": "c6129d38-9198-469d-96ea-3a19ed7e82d8",
   "metadata": {},
   "outputs": [
    {
     "data": {
      "text/html": [
       "<div>\n",
       "<style scoped>\n",
       "    .dataframe tbody tr th:only-of-type {\n",
       "        vertical-align: middle;\n",
       "    }\n",
       "\n",
       "    .dataframe tbody tr th {\n",
       "        vertical-align: top;\n",
       "    }\n",
       "\n",
       "    .dataframe thead th {\n",
       "        text-align: right;\n",
       "    }\n",
       "</style>\n",
       "<table border=\"1\" class=\"dataframe\">\n",
       "  <thead>\n",
       "    <tr style=\"text-align: right;\">\n",
       "      <th></th>\n",
       "      <th>order_id</th>\n",
       "      <th>customer_id</th>\n",
       "      <th>order_status</th>\n",
       "      <th>order_purchase_timestamp</th>\n",
       "      <th>order_approved_at</th>\n",
       "      <th>order_delivered_carrier_date</th>\n",
       "      <th>order_delivered_customer_date</th>\n",
       "      <th>order_estimated_delivery_date</th>\n",
       "      <th>payment_sequential</th>\n",
       "      <th>payment_type</th>\n",
       "      <th>payment_installments</th>\n",
       "      <th>payment_value</th>\n",
       "    </tr>\n",
       "  </thead>\n",
       "  <tbody>\n",
       "    <tr>\n",
       "      <th>275</th>\n",
       "      <td>8e24261a7e58791d10cb1bf9da94df5c</td>\n",
       "      <td>64a254d30eed42cd0e6c36dddb88adf0</td>\n",
       "      <td>unavailable</td>\n",
       "      <td>2017-11-16</td>\n",
       "      <td>2017-11-16</td>\n",
       "      <td>NaT</td>\n",
       "      <td>NaT</td>\n",
       "      <td>2017-12-05</td>\n",
       "      <td>1</td>\n",
       "      <td>credit_card</td>\n",
       "      <td>5</td>\n",
       "      <td>84.00</td>\n",
       "    </tr>\n",
       "    <tr>\n",
       "      <th>603</th>\n",
       "      <td>c272bcd21c287498b4883c7512019702</td>\n",
       "      <td>9582c5bbecc65eb568e2c1d839b5cba1</td>\n",
       "      <td>unavailable</td>\n",
       "      <td>2018-01-31</td>\n",
       "      <td>2018-01-31</td>\n",
       "      <td>NaT</td>\n",
       "      <td>NaT</td>\n",
       "      <td>2018-02-16</td>\n",
       "      <td>1</td>\n",
       "      <td>credit_card</td>\n",
       "      <td>1</td>\n",
       "      <td>97.68</td>\n",
       "    </tr>\n",
       "    <tr>\n",
       "      <th>705</th>\n",
       "      <td>37553832a3a89c9b2db59701c357ca67</td>\n",
       "      <td>7607cd563696c27ede287e515812d528</td>\n",
       "      <td>unavailable</td>\n",
       "      <td>2017-08-14</td>\n",
       "      <td>2017-08-17</td>\n",
       "      <td>NaT</td>\n",
       "      <td>NaT</td>\n",
       "      <td>2017-09-05</td>\n",
       "      <td>1</td>\n",
       "      <td>boleto</td>\n",
       "      <td>1</td>\n",
       "      <td>132.46</td>\n",
       "    </tr>\n",
       "    <tr>\n",
       "      <th>753</th>\n",
       "      <td>d57e15fb07fd180f06ab3926b39edcd2</td>\n",
       "      <td>470b93b3f1cde85550fc74cd3a476c78</td>\n",
       "      <td>unavailable</td>\n",
       "      <td>2018-01-08</td>\n",
       "      <td>2018-01-09</td>\n",
       "      <td>NaT</td>\n",
       "      <td>NaT</td>\n",
       "      <td>2018-02-06</td>\n",
       "      <td>1</td>\n",
       "      <td>boleto</td>\n",
       "      <td>1</td>\n",
       "      <td>134.38</td>\n",
       "    </tr>\n",
       "    <tr>\n",
       "      <th>1184</th>\n",
       "      <td>2f634e2cebf8c0283e7ef0989f77d217</td>\n",
       "      <td>7353b0fb8e8d9675e3a704c60ca44ebe</td>\n",
       "      <td>unavailable</td>\n",
       "      <td>2017-09-27</td>\n",
       "      <td>2017-09-28</td>\n",
       "      <td>NaT</td>\n",
       "      <td>NaT</td>\n",
       "      <td>2017-10-27</td>\n",
       "      <td>1</td>\n",
       "      <td>credit_card</td>\n",
       "      <td>12</td>\n",
       "      <td>615.53</td>\n",
       "    </tr>\n",
       "    <tr>\n",
       "      <th>...</th>\n",
       "      <td>...</td>\n",
       "      <td>...</td>\n",
       "      <td>...</td>\n",
       "      <td>...</td>\n",
       "      <td>...</td>\n",
       "      <td>...</td>\n",
       "      <td>...</td>\n",
       "      <td>...</td>\n",
       "      <td>...</td>\n",
       "      <td>...</td>\n",
       "      <td>...</td>\n",
       "      <td>...</td>\n",
       "    </tr>\n",
       "    <tr>\n",
       "      <th>102320</th>\n",
       "      <td>1c7c8ab324927f5b6e52338bd110bef4</td>\n",
       "      <td>95b1767df51d6fa09402267d8de314df</td>\n",
       "      <td>unavailable</td>\n",
       "      <td>2017-12-23</td>\n",
       "      <td>2017-12-23</td>\n",
       "      <td>NaT</td>\n",
       "      <td>NaT</td>\n",
       "      <td>2018-01-19</td>\n",
       "      <td>1</td>\n",
       "      <td>credit_card</td>\n",
       "      <td>3</td>\n",
       "      <td>110.09</td>\n",
       "    </tr>\n",
       "    <tr>\n",
       "      <th>102321</th>\n",
       "      <td>1c7c8ab324927f5b6e52338bd110bef4</td>\n",
       "      <td>95b1767df51d6fa09402267d8de314df</td>\n",
       "      <td>unavailable</td>\n",
       "      <td>2017-12-23</td>\n",
       "      <td>2017-12-23</td>\n",
       "      <td>NaT</td>\n",
       "      <td>NaT</td>\n",
       "      <td>2018-01-19</td>\n",
       "      <td>2</td>\n",
       "      <td>voucher</td>\n",
       "      <td>1</td>\n",
       "      <td>824.00</td>\n",
       "    </tr>\n",
       "    <tr>\n",
       "      <th>102339</th>\n",
       "      <td>aaab15da689073f8f9aa978a390a69d1</td>\n",
       "      <td>df20748206e4b865b2f14a5eabbfcf34</td>\n",
       "      <td>unavailable</td>\n",
       "      <td>2018-01-16</td>\n",
       "      <td>2018-01-17</td>\n",
       "      <td>NaT</td>\n",
       "      <td>NaT</td>\n",
       "      <td>2018-02-06</td>\n",
       "      <td>1</td>\n",
       "      <td>boleto</td>\n",
       "      <td>1</td>\n",
       "      <td>210.09</td>\n",
       "    </tr>\n",
       "    <tr>\n",
       "      <th>102434</th>\n",
       "      <td>a69ba794cc7deb415c3e15a0a3877e69</td>\n",
       "      <td>726f0894b5becdf952ea537d5266e543</td>\n",
       "      <td>unavailable</td>\n",
       "      <td>2017-08-23</td>\n",
       "      <td>2017-08-28</td>\n",
       "      <td>NaT</td>\n",
       "      <td>NaT</td>\n",
       "      <td>2017-09-15</td>\n",
       "      <td>1</td>\n",
       "      <td>credit_card</td>\n",
       "      <td>2</td>\n",
       "      <td>195.91</td>\n",
       "    </tr>\n",
       "    <tr>\n",
       "      <th>102500</th>\n",
       "      <td>5fabc81b6322c8443648e1b21a6fef21</td>\n",
       "      <td>32c9df889d41b0ee8309a5efb6855dcb</td>\n",
       "      <td>unavailable</td>\n",
       "      <td>2017-10-10</td>\n",
       "      <td>2017-10-14</td>\n",
       "      <td>NaT</td>\n",
       "      <td>NaT</td>\n",
       "      <td>2017-10-23</td>\n",
       "      <td>1</td>\n",
       "      <td>boleto</td>\n",
       "      <td>1</td>\n",
       "      <td>133.97</td>\n",
       "    </tr>\n",
       "  </tbody>\n",
       "</table>\n",
       "<p>772 rows × 12 columns</p>\n",
       "</div>"
      ],
      "text/plain": [
       "                                order_id                       customer_id  \\\n",
       "275     8e24261a7e58791d10cb1bf9da94df5c  64a254d30eed42cd0e6c36dddb88adf0   \n",
       "603     c272bcd21c287498b4883c7512019702  9582c5bbecc65eb568e2c1d839b5cba1   \n",
       "705     37553832a3a89c9b2db59701c357ca67  7607cd563696c27ede287e515812d528   \n",
       "753     d57e15fb07fd180f06ab3926b39edcd2  470b93b3f1cde85550fc74cd3a476c78   \n",
       "1184    2f634e2cebf8c0283e7ef0989f77d217  7353b0fb8e8d9675e3a704c60ca44ebe   \n",
       "...                                  ...                               ...   \n",
       "102320  1c7c8ab324927f5b6e52338bd110bef4  95b1767df51d6fa09402267d8de314df   \n",
       "102321  1c7c8ab324927f5b6e52338bd110bef4  95b1767df51d6fa09402267d8de314df   \n",
       "102339  aaab15da689073f8f9aa978a390a69d1  df20748206e4b865b2f14a5eabbfcf34   \n",
       "102434  a69ba794cc7deb415c3e15a0a3877e69  726f0894b5becdf952ea537d5266e543   \n",
       "102500  5fabc81b6322c8443648e1b21a6fef21  32c9df889d41b0ee8309a5efb6855dcb   \n",
       "\n",
       "       order_status order_purchase_timestamp order_approved_at  \\\n",
       "275     unavailable               2017-11-16        2017-11-16   \n",
       "603     unavailable               2018-01-31        2018-01-31   \n",
       "705     unavailable               2017-08-14        2017-08-17   \n",
       "753     unavailable               2018-01-08        2018-01-09   \n",
       "1184    unavailable               2017-09-27        2017-09-28   \n",
       "...             ...                      ...               ...   \n",
       "102320  unavailable               2017-12-23        2017-12-23   \n",
       "102321  unavailable               2017-12-23        2017-12-23   \n",
       "102339  unavailable               2018-01-16        2018-01-17   \n",
       "102434  unavailable               2017-08-23        2017-08-28   \n",
       "102500  unavailable               2017-10-10        2017-10-14   \n",
       "\n",
       "       order_delivered_carrier_date order_delivered_customer_date  \\\n",
       "275                             NaT                           NaT   \n",
       "603                             NaT                           NaT   \n",
       "705                             NaT                           NaT   \n",
       "753                             NaT                           NaT   \n",
       "1184                            NaT                           NaT   \n",
       "...                             ...                           ...   \n",
       "102320                          NaT                           NaT   \n",
       "102321                          NaT                           NaT   \n",
       "102339                          NaT                           NaT   \n",
       "102434                          NaT                           NaT   \n",
       "102500                          NaT                           NaT   \n",
       "\n",
       "       order_estimated_delivery_date  payment_sequential payment_type  \\\n",
       "275                       2017-12-05                   1  credit_card   \n",
       "603                       2018-02-16                   1  credit_card   \n",
       "705                       2017-09-05                   1       boleto   \n",
       "753                       2018-02-06                   1       boleto   \n",
       "1184                      2017-10-27                   1  credit_card   \n",
       "...                              ...                 ...          ...   \n",
       "102320                    2018-01-19                   1  credit_card   \n",
       "102321                    2018-01-19                   2      voucher   \n",
       "102339                    2018-02-06                   1       boleto   \n",
       "102434                    2017-09-15                   1  credit_card   \n",
       "102500                    2017-10-23                   1       boleto   \n",
       "\n",
       "        payment_installments  payment_value  \n",
       "275                        5          84.00  \n",
       "603                        1          97.68  \n",
       "705                        1         132.46  \n",
       "753                        1         134.38  \n",
       "1184                      12         615.53  \n",
       "...                      ...            ...  \n",
       "102320                     3         110.09  \n",
       "102321                     1         824.00  \n",
       "102339                     1         210.09  \n",
       "102434                     2         195.91  \n",
       "102500                     1         133.97  \n",
       "\n",
       "[772 rows x 12 columns]"
      ]
     },
     "execution_count": 65,
     "metadata": {},
     "output_type": "execute_result"
    }
   ],
   "source": [
    "pagamentos[pagamentos.order_id.isin(ids)]"
   ]
  },
  {
   "cell_type": "markdown",
   "id": "125925ca-b1f8-4e51-9078-95dd89cec25e",
   "metadata": {},
   "source": [
    "### Qual o valor total desses IDs?"
   ]
  },
  {
   "cell_type": "code",
   "execution_count": 66,
   "id": "0f4f2285-3019-42c5-b3f3-296f89e1578a",
   "metadata": {},
   "outputs": [],
   "source": [
    "diferenca_nulos = pagamentos.loc[pagamentos.order_id.isin(ids),'payment_value'].sum()"
   ]
  },
  {
   "cell_type": "markdown",
   "id": "d4794b79-1878-487c-96bd-ae44218bfe1a",
   "metadata": {},
   "source": [
    "### Já encontramos toda a diferença?"
   ]
  },
  {
   "cell_type": "code",
   "execution_count": 68,
   "id": "027e93ad-1d30-43a7-93fe-681a313df450",
   "metadata": {},
   "outputs": [
    {
     "data": {
      "text/plain": [
       "15818217.510000002"
      ]
     },
     "execution_count": 68,
     "metadata": {},
     "output_type": "execute_result"
    }
   ],
   "source": [
    "preco+frete+diferenca_nulos"
   ]
  },
  {
   "cell_type": "markdown",
   "id": "b726bed5-f909-495f-9734-af5e419a2ae2",
   "metadata": {},
   "source": [
    "### Exemplos de ordens\n",
    "###### 5fabc81b6322c8443648e1b21a6fef21\n",
    "###### 1c7c8ab324927f5b6e52338bd110bef4\n",
    "###### 32c9df889d41b0ee8309a5efb6855dcb\t"
   ]
  },
  {
   "cell_type": "markdown",
   "id": "03cf5a14-1fcf-47f2-9a25-30d95257df69",
   "metadata": {},
   "source": [
    "### Verificando essa ordem na base de vendas"
   ]
  },
  {
   "cell_type": "code",
   "execution_count": 70,
   "id": "9223643b-46f4-4923-88fa-65ffc4a0528c",
   "metadata": {},
   "outputs": [
    {
     "data": {
      "text/html": [
       "<div>\n",
       "<style scoped>\n",
       "    .dataframe tbody tr th:only-of-type {\n",
       "        vertical-align: middle;\n",
       "    }\n",
       "\n",
       "    .dataframe tbody tr th {\n",
       "        vertical-align: top;\n",
       "    }\n",
       "\n",
       "    .dataframe thead th {\n",
       "        text-align: right;\n",
       "    }\n",
       "</style>\n",
       "<table border=\"1\" class=\"dataframe\">\n",
       "  <thead>\n",
       "    <tr style=\"text-align: right;\">\n",
       "      <th></th>\n",
       "      <th>order_id</th>\n",
       "      <th>customer_id</th>\n",
       "      <th>order_status</th>\n",
       "      <th>order_purchase_timestamp</th>\n",
       "      <th>order_approved_at</th>\n",
       "      <th>order_delivered_carrier_date</th>\n",
       "      <th>order_delivered_customer_date</th>\n",
       "      <th>order_estimated_delivery_date</th>\n",
       "      <th>order_item_id</th>\n",
       "      <th>product_id</th>\n",
       "      <th>...</th>\n",
       "      <th>price</th>\n",
       "      <th>freight_value</th>\n",
       "      <th>product_category_name</th>\n",
       "      <th>customer_unique_id</th>\n",
       "      <th>customer_city</th>\n",
       "      <th>customer_state</th>\n",
       "      <th>dia_compra</th>\n",
       "      <th>mes_compra</th>\n",
       "      <th>ano_compra</th>\n",
       "      <th>ano_mes</th>\n",
       "    </tr>\n",
       "  </thead>\n",
       "  <tbody>\n",
       "  </tbody>\n",
       "</table>\n",
       "<p>0 rows × 22 columns</p>\n",
       "</div>"
      ],
      "text/plain": [
       "Empty DataFrame\n",
       "Columns: [order_id, customer_id, order_status, order_purchase_timestamp, order_approved_at, order_delivered_carrier_date, order_delivered_customer_date, order_estimated_delivery_date, order_item_id, product_id, seller_id, shipping_limit_date, price, freight_value, product_category_name, customer_unique_id, customer_city, customer_state, dia_compra, mes_compra, ano_compra, ano_mes]\n",
       "Index: []\n",
       "\n",
       "[0 rows x 22 columns]"
      ]
     },
     "execution_count": 70,
     "metadata": {},
     "output_type": "execute_result"
    }
   ],
   "source": [
    "vendas[vendas.order_id == '32c9df889d41b0ee8309a5efb6855dcb']"
   ]
  },
  {
   "cell_type": "markdown",
   "id": "9efa2e80-2b9b-48e6-8d33-1902d82ba6e2",
   "metadata": {},
   "source": [
    "### Agora verificando na base de pagamentos"
   ]
  },
  {
   "cell_type": "code",
   "execution_count": 72,
   "id": "1d519b40-0df5-4db7-8d66-5ec1242ddde8",
   "metadata": {},
   "outputs": [
    {
     "data": {
      "text/html": [
       "<div>\n",
       "<style scoped>\n",
       "    .dataframe tbody tr th:only-of-type {\n",
       "        vertical-align: middle;\n",
       "    }\n",
       "\n",
       "    .dataframe tbody tr th {\n",
       "        vertical-align: top;\n",
       "    }\n",
       "\n",
       "    .dataframe thead th {\n",
       "        text-align: right;\n",
       "    }\n",
       "</style>\n",
       "<table border=\"1\" class=\"dataframe\">\n",
       "  <thead>\n",
       "    <tr style=\"text-align: right;\">\n",
       "      <th></th>\n",
       "      <th>order_id</th>\n",
       "      <th>customer_id</th>\n",
       "      <th>order_status</th>\n",
       "      <th>order_purchase_timestamp</th>\n",
       "      <th>order_approved_at</th>\n",
       "      <th>order_delivered_carrier_date</th>\n",
       "      <th>order_delivered_customer_date</th>\n",
       "      <th>order_estimated_delivery_date</th>\n",
       "      <th>payment_sequential</th>\n",
       "      <th>payment_type</th>\n",
       "      <th>payment_installments</th>\n",
       "      <th>payment_value</th>\n",
       "    </tr>\n",
       "  </thead>\n",
       "  <tbody>\n",
       "    <tr>\n",
       "      <th>102500</th>\n",
       "      <td>5fabc81b6322c8443648e1b21a6fef21</td>\n",
       "      <td>32c9df889d41b0ee8309a5efb6855dcb</td>\n",
       "      <td>unavailable</td>\n",
       "      <td>2017-10-10</td>\n",
       "      <td>2017-10-14</td>\n",
       "      <td>NaT</td>\n",
       "      <td>NaT</td>\n",
       "      <td>2017-10-23</td>\n",
       "      <td>1</td>\n",
       "      <td>boleto</td>\n",
       "      <td>1</td>\n",
       "      <td>133.97</td>\n",
       "    </tr>\n",
       "  </tbody>\n",
       "</table>\n",
       "</div>"
      ],
      "text/plain": [
       "                                order_id                       customer_id  \\\n",
       "102500  5fabc81b6322c8443648e1b21a6fef21  32c9df889d41b0ee8309a5efb6855dcb   \n",
       "\n",
       "       order_status order_purchase_timestamp order_approved_at  \\\n",
       "102500  unavailable               2017-10-10        2017-10-14   \n",
       "\n",
       "       order_delivered_carrier_date order_delivered_customer_date  \\\n",
       "102500                          NaT                           NaT   \n",
       "\n",
       "       order_estimated_delivery_date  payment_sequential payment_type  \\\n",
       "102500                    2017-10-23                   1       boleto   \n",
       "\n",
       "        payment_installments  payment_value  \n",
       "102500                     1         133.97  "
      ]
     },
     "execution_count": 72,
     "metadata": {},
     "output_type": "execute_result"
    }
   ],
   "source": [
    "pagamentos[pagamentos.order_id ==  '5fabc81b6322c8443648e1b21a6fef21']"
   ]
  },
  {
   "cell_type": "markdown",
   "id": "6e072fba-64c3-4e04-a20f-82e62ad1e0d6",
   "metadata": {},
   "source": [
    "### Retirando da base de vendas valores com o preço igual a nulo"
   ]
  },
  {
   "cell_type": "code",
   "execution_count": 74,
   "id": "0b32c2e3-bbe9-4026-9c8f-2fb05cca870a",
   "metadata": {},
   "outputs": [
    {
     "data": {
      "text/html": [
       "<div>\n",
       "<style scoped>\n",
       "    .dataframe tbody tr th:only-of-type {\n",
       "        vertical-align: middle;\n",
       "    }\n",
       "\n",
       "    .dataframe tbody tr th {\n",
       "        vertical-align: top;\n",
       "    }\n",
       "\n",
       "    .dataframe thead th {\n",
       "        text-align: right;\n",
       "    }\n",
       "</style>\n",
       "<table border=\"1\" class=\"dataframe\">\n",
       "  <thead>\n",
       "    <tr style=\"text-align: right;\">\n",
       "      <th></th>\n",
       "      <th>order_id</th>\n",
       "      <th>customer_id</th>\n",
       "      <th>order_status</th>\n",
       "      <th>order_purchase_timestamp</th>\n",
       "      <th>order_approved_at</th>\n",
       "      <th>order_delivered_carrier_date</th>\n",
       "      <th>order_delivered_customer_date</th>\n",
       "      <th>order_estimated_delivery_date</th>\n",
       "      <th>order_item_id</th>\n",
       "      <th>product_id</th>\n",
       "      <th>...</th>\n",
       "      <th>price</th>\n",
       "      <th>freight_value</th>\n",
       "      <th>product_category_name</th>\n",
       "      <th>customer_unique_id</th>\n",
       "      <th>customer_city</th>\n",
       "      <th>customer_state</th>\n",
       "      <th>dia_compra</th>\n",
       "      <th>mes_compra</th>\n",
       "      <th>ano_compra</th>\n",
       "      <th>ano_mes</th>\n",
       "    </tr>\n",
       "  </thead>\n",
       "  <tbody>\n",
       "    <tr>\n",
       "      <th>0</th>\n",
       "      <td>e481f51cbdc54678b7cc49136f2d6af7</td>\n",
       "      <td>9ef432eb6251297304e76186b10a928d</td>\n",
       "      <td>delivered</td>\n",
       "      <td>2017-10-02</td>\n",
       "      <td>2017-10-02</td>\n",
       "      <td>2017-10-04</td>\n",
       "      <td>2017-10-10</td>\n",
       "      <td>2017-10-18</td>\n",
       "      <td>1.0</td>\n",
       "      <td>87285b34884572647811a353c7ac498a</td>\n",
       "      <td>...</td>\n",
       "      <td>29.99</td>\n",
       "      <td>8.72</td>\n",
       "      <td>utilidades_domesticas</td>\n",
       "      <td>7c396fd4830fd04220f754e42b4e5bff</td>\n",
       "      <td>sao paulo</td>\n",
       "      <td>SP</td>\n",
       "      <td>2</td>\n",
       "      <td>10</td>\n",
       "      <td>2017</td>\n",
       "      <td>2017-10</td>\n",
       "    </tr>\n",
       "    <tr>\n",
       "      <th>1</th>\n",
       "      <td>53cdb2fc8bc7dce0b6741e2150273451</td>\n",
       "      <td>b0830fb4747a6c6d20dea0b8c802d7ef</td>\n",
       "      <td>delivered</td>\n",
       "      <td>2018-07-24</td>\n",
       "      <td>2018-07-26</td>\n",
       "      <td>2018-07-26</td>\n",
       "      <td>2018-08-07</td>\n",
       "      <td>2018-08-13</td>\n",
       "      <td>1.0</td>\n",
       "      <td>595fac2a385ac33a80bd5114aec74eb8</td>\n",
       "      <td>...</td>\n",
       "      <td>118.70</td>\n",
       "      <td>22.76</td>\n",
       "      <td>perfumaria</td>\n",
       "      <td>af07308b275d755c9edb36a90c618231</td>\n",
       "      <td>barreiras</td>\n",
       "      <td>BA</td>\n",
       "      <td>24</td>\n",
       "      <td>7</td>\n",
       "      <td>2018</td>\n",
       "      <td>2018-07</td>\n",
       "    </tr>\n",
       "    <tr>\n",
       "      <th>2</th>\n",
       "      <td>47770eb9100c2d0c44946d9cf07ec65d</td>\n",
       "      <td>41ce2a54c0b03bf3443c3d931a367089</td>\n",
       "      <td>delivered</td>\n",
       "      <td>2018-08-08</td>\n",
       "      <td>2018-08-08</td>\n",
       "      <td>2018-08-08</td>\n",
       "      <td>2018-08-17</td>\n",
       "      <td>2018-09-04</td>\n",
       "      <td>1.0</td>\n",
       "      <td>aa4383b373c6aca5d8797843e5594415</td>\n",
       "      <td>...</td>\n",
       "      <td>159.90</td>\n",
       "      <td>19.22</td>\n",
       "      <td>automotivo</td>\n",
       "      <td>3a653a41f6f9fc3d2a113cf8398680e8</td>\n",
       "      <td>vianopolis</td>\n",
       "      <td>GO</td>\n",
       "      <td>8</td>\n",
       "      <td>8</td>\n",
       "      <td>2018</td>\n",
       "      <td>2018-08</td>\n",
       "    </tr>\n",
       "    <tr>\n",
       "      <th>3</th>\n",
       "      <td>949d5b44dbf5de918fe9c16f97b45f8a</td>\n",
       "      <td>f88197465ea7920adcdbec7375364d82</td>\n",
       "      <td>delivered</td>\n",
       "      <td>2017-11-18</td>\n",
       "      <td>2017-11-18</td>\n",
       "      <td>2017-11-22</td>\n",
       "      <td>2017-12-02</td>\n",
       "      <td>2017-12-15</td>\n",
       "      <td>1.0</td>\n",
       "      <td>d0b61bfb1de832b15ba9d266ca96e5b0</td>\n",
       "      <td>...</td>\n",
       "      <td>45.00</td>\n",
       "      <td>27.20</td>\n",
       "      <td>pet_shop</td>\n",
       "      <td>7c142cf63193a1473d2e66489a9ae977</td>\n",
       "      <td>sao goncalo do amarante</td>\n",
       "      <td>RN</td>\n",
       "      <td>18</td>\n",
       "      <td>11</td>\n",
       "      <td>2017</td>\n",
       "      <td>2017-11</td>\n",
       "    </tr>\n",
       "    <tr>\n",
       "      <th>4</th>\n",
       "      <td>ad21c59c0840e6cb83a9ceb5573f8159</td>\n",
       "      <td>8ab97904e6daea8866dbdbc4fb7aad2c</td>\n",
       "      <td>delivered</td>\n",
       "      <td>2018-02-13</td>\n",
       "      <td>2018-02-13</td>\n",
       "      <td>2018-02-14</td>\n",
       "      <td>2018-02-16</td>\n",
       "      <td>2018-02-26</td>\n",
       "      <td>1.0</td>\n",
       "      <td>65266b2da20d04dbe00c5c2d3bb7859e</td>\n",
       "      <td>...</td>\n",
       "      <td>19.90</td>\n",
       "      <td>8.72</td>\n",
       "      <td>papelaria</td>\n",
       "      <td>72632f0f9dd73dfee390c9b22eb56dd6</td>\n",
       "      <td>santo andre</td>\n",
       "      <td>SP</td>\n",
       "      <td>13</td>\n",
       "      <td>2</td>\n",
       "      <td>2018</td>\n",
       "      <td>2018-02</td>\n",
       "    </tr>\n",
       "    <tr>\n",
       "      <th>...</th>\n",
       "      <td>...</td>\n",
       "      <td>...</td>\n",
       "      <td>...</td>\n",
       "      <td>...</td>\n",
       "      <td>...</td>\n",
       "      <td>...</td>\n",
       "      <td>...</td>\n",
       "      <td>...</td>\n",
       "      <td>...</td>\n",
       "      <td>...</td>\n",
       "      <td>...</td>\n",
       "      <td>...</td>\n",
       "      <td>...</td>\n",
       "      <td>...</td>\n",
       "      <td>...</td>\n",
       "      <td>...</td>\n",
       "      <td>...</td>\n",
       "      <td>...</td>\n",
       "      <td>...</td>\n",
       "      <td>...</td>\n",
       "      <td>...</td>\n",
       "    </tr>\n",
       "    <tr>\n",
       "      <th>111918</th>\n",
       "      <td>63943bddc261676b46f01ca7ac2f7bd8</td>\n",
       "      <td>1fca14ff2861355f6e5f14306ff977a7</td>\n",
       "      <td>delivered</td>\n",
       "      <td>2018-02-06</td>\n",
       "      <td>2018-02-06</td>\n",
       "      <td>2018-02-07</td>\n",
       "      <td>2018-02-28</td>\n",
       "      <td>2018-03-02</td>\n",
       "      <td>1.0</td>\n",
       "      <td>f1d4ce8c6dd66c47bbaa8c6781c2a923</td>\n",
       "      <td>...</td>\n",
       "      <td>174.90</td>\n",
       "      <td>20.10</td>\n",
       "      <td>bebes</td>\n",
       "      <td>da62f9e57a76d978d02ab5362c509660</td>\n",
       "      <td>praia grande</td>\n",
       "      <td>SP</td>\n",
       "      <td>6</td>\n",
       "      <td>2</td>\n",
       "      <td>2018</td>\n",
       "      <td>2018-02</td>\n",
       "    </tr>\n",
       "    <tr>\n",
       "      <th>111919</th>\n",
       "      <td>83c1379a015df1e13d02aae0204711ab</td>\n",
       "      <td>1aa71eb042121263aafbe80c1b562c9c</td>\n",
       "      <td>delivered</td>\n",
       "      <td>2017-08-27</td>\n",
       "      <td>2017-08-27</td>\n",
       "      <td>2017-08-28</td>\n",
       "      <td>2017-09-21</td>\n",
       "      <td>2017-09-27</td>\n",
       "      <td>1.0</td>\n",
       "      <td>b80910977a37536adeddd63663f916ad</td>\n",
       "      <td>...</td>\n",
       "      <td>205.99</td>\n",
       "      <td>65.02</td>\n",
       "      <td>eletrodomesticos_2</td>\n",
       "      <td>737520a9aad80b3fbbdad19b66b37b30</td>\n",
       "      <td>nova vicosa</td>\n",
       "      <td>BA</td>\n",
       "      <td>27</td>\n",
       "      <td>8</td>\n",
       "      <td>2017</td>\n",
       "      <td>2017-08</td>\n",
       "    </tr>\n",
       "    <tr>\n",
       "      <th>111920</th>\n",
       "      <td>11c177c8e97725db2631073c19f07b62</td>\n",
       "      <td>b331b74b18dc79bcdf6532d51e1637c1</td>\n",
       "      <td>delivered</td>\n",
       "      <td>2018-01-08</td>\n",
       "      <td>2018-01-08</td>\n",
       "      <td>2018-01-12</td>\n",
       "      <td>2018-01-25</td>\n",
       "      <td>2018-02-15</td>\n",
       "      <td>1.0</td>\n",
       "      <td>d1c427060a0f73f6b889a5c7c61f2ac4</td>\n",
       "      <td>...</td>\n",
       "      <td>179.99</td>\n",
       "      <td>40.59</td>\n",
       "      <td>informatica_acessorios</td>\n",
       "      <td>5097a5312c8b157bb7be58ae360ef43c</td>\n",
       "      <td>japuiba</td>\n",
       "      <td>RJ</td>\n",
       "      <td>8</td>\n",
       "      <td>1</td>\n",
       "      <td>2018</td>\n",
       "      <td>2018-01</td>\n",
       "    </tr>\n",
       "    <tr>\n",
       "      <th>111921</th>\n",
       "      <td>11c177c8e97725db2631073c19f07b62</td>\n",
       "      <td>b331b74b18dc79bcdf6532d51e1637c1</td>\n",
       "      <td>delivered</td>\n",
       "      <td>2018-01-08</td>\n",
       "      <td>2018-01-08</td>\n",
       "      <td>2018-01-12</td>\n",
       "      <td>2018-01-25</td>\n",
       "      <td>2018-02-15</td>\n",
       "      <td>2.0</td>\n",
       "      <td>d1c427060a0f73f6b889a5c7c61f2ac4</td>\n",
       "      <td>...</td>\n",
       "      <td>179.99</td>\n",
       "      <td>40.59</td>\n",
       "      <td>informatica_acessorios</td>\n",
       "      <td>5097a5312c8b157bb7be58ae360ef43c</td>\n",
       "      <td>japuiba</td>\n",
       "      <td>RJ</td>\n",
       "      <td>8</td>\n",
       "      <td>1</td>\n",
       "      <td>2018</td>\n",
       "      <td>2018-01</td>\n",
       "    </tr>\n",
       "    <tr>\n",
       "      <th>111922</th>\n",
       "      <td>66dea50a8b16d9b4dee7af250b4be1a5</td>\n",
       "      <td>edb027a75a1449115f6b43211ae02a24</td>\n",
       "      <td>delivered</td>\n",
       "      <td>2018-03-08</td>\n",
       "      <td>2018-03-09</td>\n",
       "      <td>2018-03-09</td>\n",
       "      <td>2018-03-16</td>\n",
       "      <td>2018-04-03</td>\n",
       "      <td>1.0</td>\n",
       "      <td>006619bbed68b000c8ba3f8725d5409e</td>\n",
       "      <td>...</td>\n",
       "      <td>68.50</td>\n",
       "      <td>18.36</td>\n",
       "      <td>beleza_saude</td>\n",
       "      <td>60350aa974b26ff12caad89e55993bd6</td>\n",
       "      <td>lapa</td>\n",
       "      <td>PR</td>\n",
       "      <td>8</td>\n",
       "      <td>3</td>\n",
       "      <td>2018</td>\n",
       "      <td>2018-03</td>\n",
       "    </tr>\n",
       "  </tbody>\n",
       "</table>\n",
       "<p>111206 rows × 22 columns</p>\n",
       "</div>"
      ],
      "text/plain": [
       "                                order_id                       customer_id  \\\n",
       "0       e481f51cbdc54678b7cc49136f2d6af7  9ef432eb6251297304e76186b10a928d   \n",
       "1       53cdb2fc8bc7dce0b6741e2150273451  b0830fb4747a6c6d20dea0b8c802d7ef   \n",
       "2       47770eb9100c2d0c44946d9cf07ec65d  41ce2a54c0b03bf3443c3d931a367089   \n",
       "3       949d5b44dbf5de918fe9c16f97b45f8a  f88197465ea7920adcdbec7375364d82   \n",
       "4       ad21c59c0840e6cb83a9ceb5573f8159  8ab97904e6daea8866dbdbc4fb7aad2c   \n",
       "...                                  ...                               ...   \n",
       "111918  63943bddc261676b46f01ca7ac2f7bd8  1fca14ff2861355f6e5f14306ff977a7   \n",
       "111919  83c1379a015df1e13d02aae0204711ab  1aa71eb042121263aafbe80c1b562c9c   \n",
       "111920  11c177c8e97725db2631073c19f07b62  b331b74b18dc79bcdf6532d51e1637c1   \n",
       "111921  11c177c8e97725db2631073c19f07b62  b331b74b18dc79bcdf6532d51e1637c1   \n",
       "111922  66dea50a8b16d9b4dee7af250b4be1a5  edb027a75a1449115f6b43211ae02a24   \n",
       "\n",
       "       order_status order_purchase_timestamp order_approved_at  \\\n",
       "0         delivered               2017-10-02        2017-10-02   \n",
       "1         delivered               2018-07-24        2018-07-26   \n",
       "2         delivered               2018-08-08        2018-08-08   \n",
       "3         delivered               2017-11-18        2017-11-18   \n",
       "4         delivered               2018-02-13        2018-02-13   \n",
       "...             ...                      ...               ...   \n",
       "111918    delivered               2018-02-06        2018-02-06   \n",
       "111919    delivered               2017-08-27        2017-08-27   \n",
       "111920    delivered               2018-01-08        2018-01-08   \n",
       "111921    delivered               2018-01-08        2018-01-08   \n",
       "111922    delivered               2018-03-08        2018-03-09   \n",
       "\n",
       "       order_delivered_carrier_date order_delivered_customer_date  \\\n",
       "0                        2017-10-04                    2017-10-10   \n",
       "1                        2018-07-26                    2018-08-07   \n",
       "2                        2018-08-08                    2018-08-17   \n",
       "3                        2017-11-22                    2017-12-02   \n",
       "4                        2018-02-14                    2018-02-16   \n",
       "...                             ...                           ...   \n",
       "111918                   2018-02-07                    2018-02-28   \n",
       "111919                   2017-08-28                    2017-09-21   \n",
       "111920                   2018-01-12                    2018-01-25   \n",
       "111921                   2018-01-12                    2018-01-25   \n",
       "111922                   2018-03-09                    2018-03-16   \n",
       "\n",
       "       order_estimated_delivery_date  order_item_id  \\\n",
       "0                         2017-10-18            1.0   \n",
       "1                         2018-08-13            1.0   \n",
       "2                         2018-09-04            1.0   \n",
       "3                         2017-12-15            1.0   \n",
       "4                         2018-02-26            1.0   \n",
       "...                              ...            ...   \n",
       "111918                    2018-03-02            1.0   \n",
       "111919                    2017-09-27            1.0   \n",
       "111920                    2018-02-15            1.0   \n",
       "111921                    2018-02-15            2.0   \n",
       "111922                    2018-04-03            1.0   \n",
       "\n",
       "                              product_id  ...   price freight_value  \\\n",
       "0       87285b34884572647811a353c7ac498a  ...   29.99          8.72   \n",
       "1       595fac2a385ac33a80bd5114aec74eb8  ...  118.70         22.76   \n",
       "2       aa4383b373c6aca5d8797843e5594415  ...  159.90         19.22   \n",
       "3       d0b61bfb1de832b15ba9d266ca96e5b0  ...   45.00         27.20   \n",
       "4       65266b2da20d04dbe00c5c2d3bb7859e  ...   19.90          8.72   \n",
       "...                                  ...  ...     ...           ...   \n",
       "111918  f1d4ce8c6dd66c47bbaa8c6781c2a923  ...  174.90         20.10   \n",
       "111919  b80910977a37536adeddd63663f916ad  ...  205.99         65.02   \n",
       "111920  d1c427060a0f73f6b889a5c7c61f2ac4  ...  179.99         40.59   \n",
       "111921  d1c427060a0f73f6b889a5c7c61f2ac4  ...  179.99         40.59   \n",
       "111922  006619bbed68b000c8ba3f8725d5409e  ...   68.50         18.36   \n",
       "\n",
       "         product_category_name                customer_unique_id  \\\n",
       "0        utilidades_domesticas  7c396fd4830fd04220f754e42b4e5bff   \n",
       "1                   perfumaria  af07308b275d755c9edb36a90c618231   \n",
       "2                   automotivo  3a653a41f6f9fc3d2a113cf8398680e8   \n",
       "3                     pet_shop  7c142cf63193a1473d2e66489a9ae977   \n",
       "4                    papelaria  72632f0f9dd73dfee390c9b22eb56dd6   \n",
       "...                        ...                               ...   \n",
       "111918                   bebes  da62f9e57a76d978d02ab5362c509660   \n",
       "111919      eletrodomesticos_2  737520a9aad80b3fbbdad19b66b37b30   \n",
       "111920  informatica_acessorios  5097a5312c8b157bb7be58ae360ef43c   \n",
       "111921  informatica_acessorios  5097a5312c8b157bb7be58ae360ef43c   \n",
       "111922            beleza_saude  60350aa974b26ff12caad89e55993bd6   \n",
       "\n",
       "                  customer_city customer_state dia_compra mes_compra  \\\n",
       "0                     sao paulo             SP          2         10   \n",
       "1                     barreiras             BA         24          7   \n",
       "2                    vianopolis             GO          8          8   \n",
       "3       sao goncalo do amarante             RN         18         11   \n",
       "4                   santo andre             SP         13          2   \n",
       "...                         ...            ...        ...        ...   \n",
       "111918             praia grande             SP          6          2   \n",
       "111919              nova vicosa             BA         27          8   \n",
       "111920                  japuiba             RJ          8          1   \n",
       "111921                  japuiba             RJ          8          1   \n",
       "111922                     lapa             PR          8          3   \n",
       "\n",
       "        ano_compra  ano_mes  \n",
       "0             2017  2017-10  \n",
       "1             2018  2018-07  \n",
       "2             2018  2018-08  \n",
       "3             2017  2017-11  \n",
       "4             2018  2018-02  \n",
       "...            ...      ...  \n",
       "111918        2018  2018-02  \n",
       "111919        2017  2017-08  \n",
       "111920        2018  2018-01  \n",
       "111921        2018  2018-01  \n",
       "111922        2018  2018-03  \n",
       "\n",
       "[111206 rows x 22 columns]"
      ]
     },
     "execution_count": 74,
     "metadata": {},
     "output_type": "execute_result"
    }
   ],
   "source": [
    "vendas =  vendas[vendas.price.notnull()]\n",
    "vendas"
   ]
  },
  {
   "cell_type": "markdown",
   "id": "a23758d6-de6d-4eae-8322-b399111ad31a",
   "metadata": {},
   "source": [
    "### verificando novamente os valores nulos"
   ]
  },
  {
   "cell_type": "code",
   "execution_count": 76,
   "id": "d8cac379-2be6-4f59-b102-5a7c589e828e",
   "metadata": {},
   "outputs": [
    {
     "data": {
      "text/plain": [
       "order_id                            0\n",
       "customer_id                         0\n",
       "order_status                        0\n",
       "order_purchase_timestamp            0\n",
       "order_approved_at                  15\n",
       "order_delivered_carrier_date     1156\n",
       "order_delivered_customer_date    2402\n",
       "order_estimated_delivery_date       0\n",
       "order_item_id                       0\n",
       "product_id                          0\n",
       "seller_id                           0\n",
       "shipping_limit_date                 0\n",
       "price                               0\n",
       "freight_value                       0\n",
       "product_category_name            1598\n",
       "customer_unique_id                  0\n",
       "customer_city                       0\n",
       "customer_state                      0\n",
       "dia_compra                          0\n",
       "mes_compra                          0\n",
       "ano_compra                          0\n",
       "ano_mes                             0\n",
       "dtype: int64"
      ]
     },
     "execution_count": 76,
     "metadata": {},
     "output_type": "execute_result"
    }
   ],
   "source": [
    "vendas.isnull().sum()"
   ]
  },
  {
   "cell_type": "markdown",
   "id": "75914bcb-eee6-40aa-a3f7-173e53f873aa",
   "metadata": {},
   "source": [
    "### Entendendo o status com a coluna order_delivered_customer date nulo"
   ]
  },
  {
   "cell_type": "code",
   "execution_count": 77,
   "id": "1d2ffff2-487c-4154-97a8-181c9625fa0d",
   "metadata": {},
   "outputs": [
    {
     "data": {
      "text/html": [
       "<div>\n",
       "<style scoped>\n",
       "    .dataframe tbody tr th:only-of-type {\n",
       "        vertical-align: middle;\n",
       "    }\n",
       "\n",
       "    .dataframe tbody tr th {\n",
       "        vertical-align: top;\n",
       "    }\n",
       "\n",
       "    .dataframe thead th {\n",
       "        text-align: right;\n",
       "    }\n",
       "</style>\n",
       "<table border=\"1\" class=\"dataframe\">\n",
       "  <thead>\n",
       "    <tr style=\"text-align: right;\">\n",
       "      <th></th>\n",
       "      <th>order_id</th>\n",
       "      <th>customer_id</th>\n",
       "      <th>order_status</th>\n",
       "      <th>order_purchase_timestamp</th>\n",
       "      <th>order_approved_at</th>\n",
       "      <th>order_delivered_carrier_date</th>\n",
       "      <th>order_delivered_customer_date</th>\n",
       "      <th>order_estimated_delivery_date</th>\n",
       "      <th>order_item_id</th>\n",
       "      <th>product_id</th>\n",
       "      <th>...</th>\n",
       "      <th>price</th>\n",
       "      <th>freight_value</th>\n",
       "      <th>product_category_name</th>\n",
       "      <th>customer_unique_id</th>\n",
       "      <th>customer_city</th>\n",
       "      <th>customer_state</th>\n",
       "      <th>dia_compra</th>\n",
       "      <th>mes_compra</th>\n",
       "      <th>ano_compra</th>\n",
       "      <th>ano_mes</th>\n",
       "    </tr>\n",
       "  </thead>\n",
       "  <tbody>\n",
       "    <tr>\n",
       "      <th>6</th>\n",
       "      <td>136cce7faa42fdb2cefd53fdc79a6098</td>\n",
       "      <td>ed0271e0b7da060a393796590e7b737a</td>\n",
       "      <td>invoiced</td>\n",
       "      <td>2017-04-11</td>\n",
       "      <td>2017-04-13</td>\n",
       "      <td>NaT</td>\n",
       "      <td>NaT</td>\n",
       "      <td>2017-05-09</td>\n",
       "      <td>1.0</td>\n",
       "      <td>a1804276d9941ac0733cfd409f5206eb</td>\n",
       "      <td>...</td>\n",
       "      <td>49.90</td>\n",
       "      <td>16.05</td>\n",
       "      <td>NaN</td>\n",
       "      <td>36edbb3fb164b1f16485364b6fb04c73</td>\n",
       "      <td>santa rosa</td>\n",
       "      <td>RS</td>\n",
       "      <td>11</td>\n",
       "      <td>4</td>\n",
       "      <td>2017</td>\n",
       "      <td>2017-04</td>\n",
       "    </tr>\n",
       "    <tr>\n",
       "      <th>46</th>\n",
       "      <td>ee64d42b8cf066f35eac1cf57de1aa85</td>\n",
       "      <td>caded193e8e47b8362864762a83db3c5</td>\n",
       "      <td>shipped</td>\n",
       "      <td>2018-06-04</td>\n",
       "      <td>2018-06-05</td>\n",
       "      <td>2018-06-05</td>\n",
       "      <td>NaT</td>\n",
       "      <td>2018-06-28</td>\n",
       "      <td>1.0</td>\n",
       "      <td>c50ca07e9e4db9ea5011f06802c0aea0</td>\n",
       "      <td>...</td>\n",
       "      <td>14.49</td>\n",
       "      <td>7.87</td>\n",
       "      <td>beleza_saude</td>\n",
       "      <td>08fb46d35bb3ab4037202c23592d1259</td>\n",
       "      <td>jundiai</td>\n",
       "      <td>SP</td>\n",
       "      <td>4</td>\n",
       "      <td>6</td>\n",
       "      <td>2018</td>\n",
       "      <td>2018-06</td>\n",
       "    </tr>\n",
       "    <tr>\n",
       "      <th>115</th>\n",
       "      <td>0760a852e4e9d89eb77bf631eaaf1c84</td>\n",
       "      <td>d2a79636084590b7465af8ab374a8cf5</td>\n",
       "      <td>invoiced</td>\n",
       "      <td>2018-08-03</td>\n",
       "      <td>2018-08-07</td>\n",
       "      <td>NaT</td>\n",
       "      <td>NaT</td>\n",
       "      <td>2018-08-21</td>\n",
       "      <td>1.0</td>\n",
       "      <td>1522589c64efd46731d3522568e5bc83</td>\n",
       "      <td>...</td>\n",
       "      <td>35.00</td>\n",
       "      <td>15.35</td>\n",
       "      <td>artigos_de_natal</td>\n",
       "      <td>c7f8d7b1fffc946d7069574f74c39f4e</td>\n",
       "      <td>santo amaro da imperatriz</td>\n",
       "      <td>SC</td>\n",
       "      <td>3</td>\n",
       "      <td>8</td>\n",
       "      <td>2018</td>\n",
       "      <td>2018-08</td>\n",
       "    </tr>\n",
       "    <tr>\n",
       "      <th>143</th>\n",
       "      <td>15bed8e2fec7fdbadb186b57c46c92f2</td>\n",
       "      <td>f3f0e613e0bdb9c7cee75504f0f90679</td>\n",
       "      <td>processing</td>\n",
       "      <td>2017-09-03</td>\n",
       "      <td>2017-09-03</td>\n",
       "      <td>NaT</td>\n",
       "      <td>NaT</td>\n",
       "      <td>2017-10-03</td>\n",
       "      <td>1.0</td>\n",
       "      <td>61d52f4882421048afd530db53d6f230</td>\n",
       "      <td>...</td>\n",
       "      <td>125.90</td>\n",
       "      <td>12.38</td>\n",
       "      <td>perfumaria</td>\n",
       "      <td>9f269af9c49244f6ba4a46985a3cfc2e</td>\n",
       "      <td>sao paulo</td>\n",
       "      <td>SP</td>\n",
       "      <td>3</td>\n",
       "      <td>9</td>\n",
       "      <td>2017</td>\n",
       "      <td>2017-09</td>\n",
       "    </tr>\n",
       "    <tr>\n",
       "      <th>180</th>\n",
       "      <td>6942b8da583c2f9957e990d028607019</td>\n",
       "      <td>52006a9383bf149a4fb24226b173106f</td>\n",
       "      <td>shipped</td>\n",
       "      <td>2018-01-10</td>\n",
       "      <td>2018-01-11</td>\n",
       "      <td>2018-01-11</td>\n",
       "      <td>NaT</td>\n",
       "      <td>2018-02-07</td>\n",
       "      <td>1.0</td>\n",
       "      <td>ee0c1cf2fbeae95205b4aa506f1469f0</td>\n",
       "      <td>...</td>\n",
       "      <td>53.99</td>\n",
       "      <td>15.13</td>\n",
       "      <td>perfumaria</td>\n",
       "      <td>528b011eb7fab3d59c336cc7248eed3a</td>\n",
       "      <td>paracatu</td>\n",
       "      <td>MG</td>\n",
       "      <td>10</td>\n",
       "      <td>1</td>\n",
       "      <td>2018</td>\n",
       "      <td>2018-01</td>\n",
       "    </tr>\n",
       "    <tr>\n",
       "      <th>...</th>\n",
       "      <td>...</td>\n",
       "      <td>...</td>\n",
       "      <td>...</td>\n",
       "      <td>...</td>\n",
       "      <td>...</td>\n",
       "      <td>...</td>\n",
       "      <td>...</td>\n",
       "      <td>...</td>\n",
       "      <td>...</td>\n",
       "      <td>...</td>\n",
       "      <td>...</td>\n",
       "      <td>...</td>\n",
       "      <td>...</td>\n",
       "      <td>...</td>\n",
       "      <td>...</td>\n",
       "      <td>...</td>\n",
       "      <td>...</td>\n",
       "      <td>...</td>\n",
       "      <td>...</td>\n",
       "      <td>...</td>\n",
       "      <td>...</td>\n",
       "    </tr>\n",
       "    <tr>\n",
       "      <th>111583</th>\n",
       "      <td>aea0db338150b526dde24f6fd953a5ed</td>\n",
       "      <td>379a02efdc6a56bd27f99b95fc2f6c06</td>\n",
       "      <td>processing</td>\n",
       "      <td>2017-12-26</td>\n",
       "      <td>2017-12-26</td>\n",
       "      <td>NaT</td>\n",
       "      <td>NaT</td>\n",
       "      <td>2018-01-26</td>\n",
       "      <td>1.0</td>\n",
       "      <td>aa428a8e4d587520f90d37a08030a812</td>\n",
       "      <td>...</td>\n",
       "      <td>96.90</td>\n",
       "      <td>16.44</td>\n",
       "      <td>brinquedos</td>\n",
       "      <td>43fb4e33ebe4ac765e99c7b57e5d6940</td>\n",
       "      <td>aquidauana</td>\n",
       "      <td>MS</td>\n",
       "      <td>26</td>\n",
       "      <td>12</td>\n",
       "      <td>2017</td>\n",
       "      <td>2017-12</td>\n",
       "    </tr>\n",
       "    <tr>\n",
       "      <th>111592</th>\n",
       "      <td>6560fb10610771449cb0463c5ba12199</td>\n",
       "      <td>0d07d0a588caf93cc66b7a8aff86d2fe</td>\n",
       "      <td>canceled</td>\n",
       "      <td>2017-10-01</td>\n",
       "      <td>2017-10-01</td>\n",
       "      <td>NaT</td>\n",
       "      <td>NaT</td>\n",
       "      <td>2017-10-27</td>\n",
       "      <td>1.0</td>\n",
       "      <td>dc2410804cf782c5d87dbcd201b74e9b</td>\n",
       "      <td>...</td>\n",
       "      <td>150.00</td>\n",
       "      <td>16.81</td>\n",
       "      <td>informatica_acessorios</td>\n",
       "      <td>0f75924cbbe60142068f4029d744b724</td>\n",
       "      <td>curitiba</td>\n",
       "      <td>PR</td>\n",
       "      <td>1</td>\n",
       "      <td>10</td>\n",
       "      <td>2017</td>\n",
       "      <td>2017-10</td>\n",
       "    </tr>\n",
       "    <tr>\n",
       "      <th>111593</th>\n",
       "      <td>6560fb10610771449cb0463c5ba12199</td>\n",
       "      <td>0d07d0a588caf93cc66b7a8aff86d2fe</td>\n",
       "      <td>canceled</td>\n",
       "      <td>2017-10-01</td>\n",
       "      <td>2017-10-01</td>\n",
       "      <td>NaT</td>\n",
       "      <td>NaT</td>\n",
       "      <td>2017-10-27</td>\n",
       "      <td>2.0</td>\n",
       "      <td>dc2410804cf782c5d87dbcd201b74e9b</td>\n",
       "      <td>...</td>\n",
       "      <td>150.00</td>\n",
       "      <td>16.81</td>\n",
       "      <td>informatica_acessorios</td>\n",
       "      <td>0f75924cbbe60142068f4029d744b724</td>\n",
       "      <td>curitiba</td>\n",
       "      <td>PR</td>\n",
       "      <td>1</td>\n",
       "      <td>10</td>\n",
       "      <td>2017</td>\n",
       "      <td>2017-10</td>\n",
       "    </tr>\n",
       "    <tr>\n",
       "      <th>111635</th>\n",
       "      <td>636cdd02667dc8d76d9296bf20a6890a</td>\n",
       "      <td>c162256b133c76f79181ce61d66545db</td>\n",
       "      <td>shipped</td>\n",
       "      <td>2018-02-17</td>\n",
       "      <td>2018-02-20</td>\n",
       "      <td>2018-02-20</td>\n",
       "      <td>NaT</td>\n",
       "      <td>2018-03-14</td>\n",
       "      <td>1.0</td>\n",
       "      <td>52c80cedd4e90108bf4fa6a206ef6b03</td>\n",
       "      <td>...</td>\n",
       "      <td>179.00</td>\n",
       "      <td>45.71</td>\n",
       "      <td>ferramentas_jardim</td>\n",
       "      <td>39552b92919b5aacffcd326b13af0397</td>\n",
       "      <td>taubate</td>\n",
       "      <td>SP</td>\n",
       "      <td>17</td>\n",
       "      <td>2</td>\n",
       "      <td>2018</td>\n",
       "      <td>2018-02</td>\n",
       "    </tr>\n",
       "    <tr>\n",
       "      <th>111787</th>\n",
       "      <td>e9e64a17afa9653aacf2616d94c005b8</td>\n",
       "      <td>b4cd0522e632e481f8eaf766a2646e86</td>\n",
       "      <td>processing</td>\n",
       "      <td>2018-01-05</td>\n",
       "      <td>2018-01-09</td>\n",
       "      <td>NaT</td>\n",
       "      <td>NaT</td>\n",
       "      <td>2018-02-06</td>\n",
       "      <td>1.0</td>\n",
       "      <td>0a57f7d2c983bcf8188589a5fea4a8da</td>\n",
       "      <td>...</td>\n",
       "      <td>129.90</td>\n",
       "      <td>14.66</td>\n",
       "      <td>relogios_presentes</td>\n",
       "      <td>965191786b70912f793e4a777fd623cd</td>\n",
       "      <td>campinas</td>\n",
       "      <td>SP</td>\n",
       "      <td>5</td>\n",
       "      <td>1</td>\n",
       "      <td>2018</td>\n",
       "      <td>2018-01</td>\n",
       "    </tr>\n",
       "  </tbody>\n",
       "</table>\n",
       "<p>2402 rows × 22 columns</p>\n",
       "</div>"
      ],
      "text/plain": [
       "                                order_id                       customer_id  \\\n",
       "6       136cce7faa42fdb2cefd53fdc79a6098  ed0271e0b7da060a393796590e7b737a   \n",
       "46      ee64d42b8cf066f35eac1cf57de1aa85  caded193e8e47b8362864762a83db3c5   \n",
       "115     0760a852e4e9d89eb77bf631eaaf1c84  d2a79636084590b7465af8ab374a8cf5   \n",
       "143     15bed8e2fec7fdbadb186b57c46c92f2  f3f0e613e0bdb9c7cee75504f0f90679   \n",
       "180     6942b8da583c2f9957e990d028607019  52006a9383bf149a4fb24226b173106f   \n",
       "...                                  ...                               ...   \n",
       "111583  aea0db338150b526dde24f6fd953a5ed  379a02efdc6a56bd27f99b95fc2f6c06   \n",
       "111592  6560fb10610771449cb0463c5ba12199  0d07d0a588caf93cc66b7a8aff86d2fe   \n",
       "111593  6560fb10610771449cb0463c5ba12199  0d07d0a588caf93cc66b7a8aff86d2fe   \n",
       "111635  636cdd02667dc8d76d9296bf20a6890a  c162256b133c76f79181ce61d66545db   \n",
       "111787  e9e64a17afa9653aacf2616d94c005b8  b4cd0522e632e481f8eaf766a2646e86   \n",
       "\n",
       "       order_status order_purchase_timestamp order_approved_at  \\\n",
       "6          invoiced               2017-04-11        2017-04-13   \n",
       "46          shipped               2018-06-04        2018-06-05   \n",
       "115        invoiced               2018-08-03        2018-08-07   \n",
       "143      processing               2017-09-03        2017-09-03   \n",
       "180         shipped               2018-01-10        2018-01-11   \n",
       "...             ...                      ...               ...   \n",
       "111583   processing               2017-12-26        2017-12-26   \n",
       "111592     canceled               2017-10-01        2017-10-01   \n",
       "111593     canceled               2017-10-01        2017-10-01   \n",
       "111635      shipped               2018-02-17        2018-02-20   \n",
       "111787   processing               2018-01-05        2018-01-09   \n",
       "\n",
       "       order_delivered_carrier_date order_delivered_customer_date  \\\n",
       "6                               NaT                           NaT   \n",
       "46                       2018-06-05                           NaT   \n",
       "115                             NaT                           NaT   \n",
       "143                             NaT                           NaT   \n",
       "180                      2018-01-11                           NaT   \n",
       "...                             ...                           ...   \n",
       "111583                          NaT                           NaT   \n",
       "111592                          NaT                           NaT   \n",
       "111593                          NaT                           NaT   \n",
       "111635                   2018-02-20                           NaT   \n",
       "111787                          NaT                           NaT   \n",
       "\n",
       "       order_estimated_delivery_date  order_item_id  \\\n",
       "6                         2017-05-09            1.0   \n",
       "46                        2018-06-28            1.0   \n",
       "115                       2018-08-21            1.0   \n",
       "143                       2017-10-03            1.0   \n",
       "180                       2018-02-07            1.0   \n",
       "...                              ...            ...   \n",
       "111583                    2018-01-26            1.0   \n",
       "111592                    2017-10-27            1.0   \n",
       "111593                    2017-10-27            2.0   \n",
       "111635                    2018-03-14            1.0   \n",
       "111787                    2018-02-06            1.0   \n",
       "\n",
       "                              product_id  ...   price freight_value  \\\n",
       "6       a1804276d9941ac0733cfd409f5206eb  ...   49.90         16.05   \n",
       "46      c50ca07e9e4db9ea5011f06802c0aea0  ...   14.49          7.87   \n",
       "115     1522589c64efd46731d3522568e5bc83  ...   35.00         15.35   \n",
       "143     61d52f4882421048afd530db53d6f230  ...  125.90         12.38   \n",
       "180     ee0c1cf2fbeae95205b4aa506f1469f0  ...   53.99         15.13   \n",
       "...                                  ...  ...     ...           ...   \n",
       "111583  aa428a8e4d587520f90d37a08030a812  ...   96.90         16.44   \n",
       "111592  dc2410804cf782c5d87dbcd201b74e9b  ...  150.00         16.81   \n",
       "111593  dc2410804cf782c5d87dbcd201b74e9b  ...  150.00         16.81   \n",
       "111635  52c80cedd4e90108bf4fa6a206ef6b03  ...  179.00         45.71   \n",
       "111787  0a57f7d2c983bcf8188589a5fea4a8da  ...  129.90         14.66   \n",
       "\n",
       "         product_category_name                customer_unique_id  \\\n",
       "6                          NaN  36edbb3fb164b1f16485364b6fb04c73   \n",
       "46                beleza_saude  08fb46d35bb3ab4037202c23592d1259   \n",
       "115           artigos_de_natal  c7f8d7b1fffc946d7069574f74c39f4e   \n",
       "143                 perfumaria  9f269af9c49244f6ba4a46985a3cfc2e   \n",
       "180                 perfumaria  528b011eb7fab3d59c336cc7248eed3a   \n",
       "...                        ...                               ...   \n",
       "111583              brinquedos  43fb4e33ebe4ac765e99c7b57e5d6940   \n",
       "111592  informatica_acessorios  0f75924cbbe60142068f4029d744b724   \n",
       "111593  informatica_acessorios  0f75924cbbe60142068f4029d744b724   \n",
       "111635      ferramentas_jardim  39552b92919b5aacffcd326b13af0397   \n",
       "111787      relogios_presentes  965191786b70912f793e4a777fd623cd   \n",
       "\n",
       "                    customer_city customer_state dia_compra mes_compra  \\\n",
       "6                      santa rosa             RS         11          4   \n",
       "46                        jundiai             SP          4          6   \n",
       "115     santo amaro da imperatriz             SC          3          8   \n",
       "143                     sao paulo             SP          3          9   \n",
       "180                      paracatu             MG         10          1   \n",
       "...                           ...            ...        ...        ...   \n",
       "111583                 aquidauana             MS         26         12   \n",
       "111592                   curitiba             PR          1         10   \n",
       "111593                   curitiba             PR          1         10   \n",
       "111635                    taubate             SP         17          2   \n",
       "111787                   campinas             SP          5          1   \n",
       "\n",
       "        ano_compra  ano_mes  \n",
       "6             2017  2017-04  \n",
       "46            2018  2018-06  \n",
       "115           2018  2018-08  \n",
       "143           2017  2017-09  \n",
       "180           2018  2018-01  \n",
       "...            ...      ...  \n",
       "111583        2017  2017-12  \n",
       "111592        2017  2017-10  \n",
       "111593        2017  2017-10  \n",
       "111635        2018  2018-02  \n",
       "111787        2018  2018-01  \n",
       "\n",
       "[2402 rows x 22 columns]"
      ]
     },
     "execution_count": 77,
     "metadata": {},
     "output_type": "execute_result"
    }
   ],
   "source": [
    "vendas[vendas.order_delivered_customer_date.isnull()]"
   ]
  },
  {
   "cell_type": "markdown",
   "id": "afb5a750-2943-4751-a326-f7d4a7eb141d",
   "metadata": {},
   "source": [
    "### Verificando todos os status"
   ]
  },
  {
   "cell_type": "code",
   "execution_count": 78,
   "id": "6c97227e-a6a5-4781-883e-d7bcd1a831d7",
   "metadata": {},
   "outputs": [
    {
     "data": {
      "text/plain": [
       "shipped       1171\n",
       "canceled       525\n",
       "processing     355\n",
       "invoiced       340\n",
       "delivered        8\n",
       "approved         3\n",
       "Name: order_status, dtype: int64"
      ]
     },
     "execution_count": 78,
     "metadata": {},
     "output_type": "execute_result"
    }
   ],
   "source": [
    "vendas.loc[vendas.order_delivered_customer_date.isnull(),'order_status'].value_counts()"
   ]
  },
  {
   "cell_type": "markdown",
   "id": "1d411344-2eb5-402b-9e63-7b1ae74ca0e7",
   "metadata": {},
   "source": [
    "### Retirando vendas onde o status seja cancelado"
   ]
  },
  {
   "cell_type": "code",
   "execution_count": 79,
   "id": "da4247bc-230c-4f9f-92c8-e0d21c8caf16",
   "metadata": {},
   "outputs": [],
   "source": [
    "vendas = vendas[vendas.order_status != 'canceled']"
   ]
  },
  {
   "cell_type": "markdown",
   "id": "add49209-189c-4169-9e41-7d7facbfc11e",
   "metadata": {},
   "source": [
    "### Verificando novamente os valores nulos"
   ]
  },
  {
   "cell_type": "code",
   "execution_count": 80,
   "id": "0072f3fe-fbeb-4621-9869-f61ad4d9c50f",
   "metadata": {},
   "outputs": [
    {
     "data": {
      "text/plain": [
       "order_id                            0\n",
       "customer_id                         0\n",
       "order_status                        0\n",
       "order_purchase_timestamp            0\n",
       "order_approved_at                  15\n",
       "order_delivered_carrier_date      700\n",
       "order_delivered_customer_date    1877\n",
       "order_estimated_delivery_date       0\n",
       "order_item_id                       0\n",
       "product_id                          0\n",
       "seller_id                           0\n",
       "shipping_limit_date                 0\n",
       "price                               0\n",
       "freight_value                       0\n",
       "product_category_name            1584\n",
       "customer_unique_id                  0\n",
       "customer_city                       0\n",
       "customer_state                      0\n",
       "dia_compra                          0\n",
       "mes_compra                          0\n",
       "ano_compra                          0\n",
       "ano_mes                             0\n",
       "dtype: int64"
      ]
     },
     "execution_count": 80,
     "metadata": {},
     "output_type": "execute_result"
    }
   ],
   "source": [
    "vendas.isnull().sum()"
   ]
  },
  {
   "cell_type": "markdown",
   "id": "a024ae24-d99c-4d26-acf0-16344d66df1c",
   "metadata": {},
   "source": [
    "## Podemos substituir produtos sem categoria por \"Outros\""
   ]
  },
  {
   "cell_type": "markdown",
   "id": "64e0e254-cd9a-4351-a388-98304a208568",
   "metadata": {},
   "source": [
    "### Primeiro filtrando a base apenas para produtos sem categoria"
   ]
  },
  {
   "cell_type": "code",
   "execution_count": 84,
   "id": "3c4fcc64-19b1-4b9a-bd22-d8fe897d86dc",
   "metadata": {},
   "outputs": [
    {
     "data": {
      "text/html": [
       "<div>\n",
       "<style scoped>\n",
       "    .dataframe tbody tr th:only-of-type {\n",
       "        vertical-align: middle;\n",
       "    }\n",
       "\n",
       "    .dataframe tbody tr th {\n",
       "        vertical-align: top;\n",
       "    }\n",
       "\n",
       "    .dataframe thead th {\n",
       "        text-align: right;\n",
       "    }\n",
       "</style>\n",
       "<table border=\"1\" class=\"dataframe\">\n",
       "  <thead>\n",
       "    <tr style=\"text-align: right;\">\n",
       "      <th></th>\n",
       "      <th>order_id</th>\n",
       "      <th>customer_id</th>\n",
       "      <th>order_status</th>\n",
       "      <th>order_purchase_timestamp</th>\n",
       "      <th>order_approved_at</th>\n",
       "      <th>order_delivered_carrier_date</th>\n",
       "      <th>order_delivered_customer_date</th>\n",
       "      <th>order_estimated_delivery_date</th>\n",
       "      <th>order_item_id</th>\n",
       "      <th>product_id</th>\n",
       "      <th>...</th>\n",
       "      <th>price</th>\n",
       "      <th>freight_value</th>\n",
       "      <th>product_category_name</th>\n",
       "      <th>customer_unique_id</th>\n",
       "      <th>customer_city</th>\n",
       "      <th>customer_state</th>\n",
       "      <th>dia_compra</th>\n",
       "      <th>mes_compra</th>\n",
       "      <th>ano_compra</th>\n",
       "      <th>ano_mes</th>\n",
       "    </tr>\n",
       "  </thead>\n",
       "  <tbody>\n",
       "    <tr>\n",
       "      <th>0</th>\n",
       "      <td>e481f51cbdc54678b7cc49136f2d6af7</td>\n",
       "      <td>9ef432eb6251297304e76186b10a928d</td>\n",
       "      <td>delivered</td>\n",
       "      <td>2017-10-02</td>\n",
       "      <td>2017-10-02</td>\n",
       "      <td>2017-10-04</td>\n",
       "      <td>2017-10-10</td>\n",
       "      <td>2017-10-18</td>\n",
       "      <td>1.0</td>\n",
       "      <td>87285b34884572647811a353c7ac498a</td>\n",
       "      <td>...</td>\n",
       "      <td>29.99</td>\n",
       "      <td>8.72</td>\n",
       "      <td>utilidades_domesticas</td>\n",
       "      <td>7c396fd4830fd04220f754e42b4e5bff</td>\n",
       "      <td>sao paulo</td>\n",
       "      <td>SP</td>\n",
       "      <td>2</td>\n",
       "      <td>10</td>\n",
       "      <td>2017</td>\n",
       "      <td>2017-10</td>\n",
       "    </tr>\n",
       "    <tr>\n",
       "      <th>1</th>\n",
       "      <td>53cdb2fc8bc7dce0b6741e2150273451</td>\n",
       "      <td>b0830fb4747a6c6d20dea0b8c802d7ef</td>\n",
       "      <td>delivered</td>\n",
       "      <td>2018-07-24</td>\n",
       "      <td>2018-07-26</td>\n",
       "      <td>2018-07-26</td>\n",
       "      <td>2018-08-07</td>\n",
       "      <td>2018-08-13</td>\n",
       "      <td>1.0</td>\n",
       "      <td>595fac2a385ac33a80bd5114aec74eb8</td>\n",
       "      <td>...</td>\n",
       "      <td>118.70</td>\n",
       "      <td>22.76</td>\n",
       "      <td>perfumaria</td>\n",
       "      <td>af07308b275d755c9edb36a90c618231</td>\n",
       "      <td>barreiras</td>\n",
       "      <td>BA</td>\n",
       "      <td>24</td>\n",
       "      <td>7</td>\n",
       "      <td>2018</td>\n",
       "      <td>2018-07</td>\n",
       "    </tr>\n",
       "    <tr>\n",
       "      <th>2</th>\n",
       "      <td>47770eb9100c2d0c44946d9cf07ec65d</td>\n",
       "      <td>41ce2a54c0b03bf3443c3d931a367089</td>\n",
       "      <td>delivered</td>\n",
       "      <td>2018-08-08</td>\n",
       "      <td>2018-08-08</td>\n",
       "      <td>2018-08-08</td>\n",
       "      <td>2018-08-17</td>\n",
       "      <td>2018-09-04</td>\n",
       "      <td>1.0</td>\n",
       "      <td>aa4383b373c6aca5d8797843e5594415</td>\n",
       "      <td>...</td>\n",
       "      <td>159.90</td>\n",
       "      <td>19.22</td>\n",
       "      <td>automotivo</td>\n",
       "      <td>3a653a41f6f9fc3d2a113cf8398680e8</td>\n",
       "      <td>vianopolis</td>\n",
       "      <td>GO</td>\n",
       "      <td>8</td>\n",
       "      <td>8</td>\n",
       "      <td>2018</td>\n",
       "      <td>2018-08</td>\n",
       "    </tr>\n",
       "    <tr>\n",
       "      <th>3</th>\n",
       "      <td>949d5b44dbf5de918fe9c16f97b45f8a</td>\n",
       "      <td>f88197465ea7920adcdbec7375364d82</td>\n",
       "      <td>delivered</td>\n",
       "      <td>2017-11-18</td>\n",
       "      <td>2017-11-18</td>\n",
       "      <td>2017-11-22</td>\n",
       "      <td>2017-12-02</td>\n",
       "      <td>2017-12-15</td>\n",
       "      <td>1.0</td>\n",
       "      <td>d0b61bfb1de832b15ba9d266ca96e5b0</td>\n",
       "      <td>...</td>\n",
       "      <td>45.00</td>\n",
       "      <td>27.20</td>\n",
       "      <td>pet_shop</td>\n",
       "      <td>7c142cf63193a1473d2e66489a9ae977</td>\n",
       "      <td>sao goncalo do amarante</td>\n",
       "      <td>RN</td>\n",
       "      <td>18</td>\n",
       "      <td>11</td>\n",
       "      <td>2017</td>\n",
       "      <td>2017-11</td>\n",
       "    </tr>\n",
       "    <tr>\n",
       "      <th>4</th>\n",
       "      <td>ad21c59c0840e6cb83a9ceb5573f8159</td>\n",
       "      <td>8ab97904e6daea8866dbdbc4fb7aad2c</td>\n",
       "      <td>delivered</td>\n",
       "      <td>2018-02-13</td>\n",
       "      <td>2018-02-13</td>\n",
       "      <td>2018-02-14</td>\n",
       "      <td>2018-02-16</td>\n",
       "      <td>2018-02-26</td>\n",
       "      <td>1.0</td>\n",
       "      <td>65266b2da20d04dbe00c5c2d3bb7859e</td>\n",
       "      <td>...</td>\n",
       "      <td>19.90</td>\n",
       "      <td>8.72</td>\n",
       "      <td>papelaria</td>\n",
       "      <td>72632f0f9dd73dfee390c9b22eb56dd6</td>\n",
       "      <td>santo andre</td>\n",
       "      <td>SP</td>\n",
       "      <td>13</td>\n",
       "      <td>2</td>\n",
       "      <td>2018</td>\n",
       "      <td>2018-02</td>\n",
       "    </tr>\n",
       "    <tr>\n",
       "      <th>...</th>\n",
       "      <td>...</td>\n",
       "      <td>...</td>\n",
       "      <td>...</td>\n",
       "      <td>...</td>\n",
       "      <td>...</td>\n",
       "      <td>...</td>\n",
       "      <td>...</td>\n",
       "      <td>...</td>\n",
       "      <td>...</td>\n",
       "      <td>...</td>\n",
       "      <td>...</td>\n",
       "      <td>...</td>\n",
       "      <td>...</td>\n",
       "      <td>...</td>\n",
       "      <td>...</td>\n",
       "      <td>...</td>\n",
       "      <td>...</td>\n",
       "      <td>...</td>\n",
       "      <td>...</td>\n",
       "      <td>...</td>\n",
       "      <td>...</td>\n",
       "    </tr>\n",
       "    <tr>\n",
       "      <th>111918</th>\n",
       "      <td>63943bddc261676b46f01ca7ac2f7bd8</td>\n",
       "      <td>1fca14ff2861355f6e5f14306ff977a7</td>\n",
       "      <td>delivered</td>\n",
       "      <td>2018-02-06</td>\n",
       "      <td>2018-02-06</td>\n",
       "      <td>2018-02-07</td>\n",
       "      <td>2018-02-28</td>\n",
       "      <td>2018-03-02</td>\n",
       "      <td>1.0</td>\n",
       "      <td>f1d4ce8c6dd66c47bbaa8c6781c2a923</td>\n",
       "      <td>...</td>\n",
       "      <td>174.90</td>\n",
       "      <td>20.10</td>\n",
       "      <td>bebes</td>\n",
       "      <td>da62f9e57a76d978d02ab5362c509660</td>\n",
       "      <td>praia grande</td>\n",
       "      <td>SP</td>\n",
       "      <td>6</td>\n",
       "      <td>2</td>\n",
       "      <td>2018</td>\n",
       "      <td>2018-02</td>\n",
       "    </tr>\n",
       "    <tr>\n",
       "      <th>111919</th>\n",
       "      <td>83c1379a015df1e13d02aae0204711ab</td>\n",
       "      <td>1aa71eb042121263aafbe80c1b562c9c</td>\n",
       "      <td>delivered</td>\n",
       "      <td>2017-08-27</td>\n",
       "      <td>2017-08-27</td>\n",
       "      <td>2017-08-28</td>\n",
       "      <td>2017-09-21</td>\n",
       "      <td>2017-09-27</td>\n",
       "      <td>1.0</td>\n",
       "      <td>b80910977a37536adeddd63663f916ad</td>\n",
       "      <td>...</td>\n",
       "      <td>205.99</td>\n",
       "      <td>65.02</td>\n",
       "      <td>eletrodomesticos_2</td>\n",
       "      <td>737520a9aad80b3fbbdad19b66b37b30</td>\n",
       "      <td>nova vicosa</td>\n",
       "      <td>BA</td>\n",
       "      <td>27</td>\n",
       "      <td>8</td>\n",
       "      <td>2017</td>\n",
       "      <td>2017-08</td>\n",
       "    </tr>\n",
       "    <tr>\n",
       "      <th>111920</th>\n",
       "      <td>11c177c8e97725db2631073c19f07b62</td>\n",
       "      <td>b331b74b18dc79bcdf6532d51e1637c1</td>\n",
       "      <td>delivered</td>\n",
       "      <td>2018-01-08</td>\n",
       "      <td>2018-01-08</td>\n",
       "      <td>2018-01-12</td>\n",
       "      <td>2018-01-25</td>\n",
       "      <td>2018-02-15</td>\n",
       "      <td>1.0</td>\n",
       "      <td>d1c427060a0f73f6b889a5c7c61f2ac4</td>\n",
       "      <td>...</td>\n",
       "      <td>179.99</td>\n",
       "      <td>40.59</td>\n",
       "      <td>informatica_acessorios</td>\n",
       "      <td>5097a5312c8b157bb7be58ae360ef43c</td>\n",
       "      <td>japuiba</td>\n",
       "      <td>RJ</td>\n",
       "      <td>8</td>\n",
       "      <td>1</td>\n",
       "      <td>2018</td>\n",
       "      <td>2018-01</td>\n",
       "    </tr>\n",
       "    <tr>\n",
       "      <th>111921</th>\n",
       "      <td>11c177c8e97725db2631073c19f07b62</td>\n",
       "      <td>b331b74b18dc79bcdf6532d51e1637c1</td>\n",
       "      <td>delivered</td>\n",
       "      <td>2018-01-08</td>\n",
       "      <td>2018-01-08</td>\n",
       "      <td>2018-01-12</td>\n",
       "      <td>2018-01-25</td>\n",
       "      <td>2018-02-15</td>\n",
       "      <td>2.0</td>\n",
       "      <td>d1c427060a0f73f6b889a5c7c61f2ac4</td>\n",
       "      <td>...</td>\n",
       "      <td>179.99</td>\n",
       "      <td>40.59</td>\n",
       "      <td>informatica_acessorios</td>\n",
       "      <td>5097a5312c8b157bb7be58ae360ef43c</td>\n",
       "      <td>japuiba</td>\n",
       "      <td>RJ</td>\n",
       "      <td>8</td>\n",
       "      <td>1</td>\n",
       "      <td>2018</td>\n",
       "      <td>2018-01</td>\n",
       "    </tr>\n",
       "    <tr>\n",
       "      <th>111922</th>\n",
       "      <td>66dea50a8b16d9b4dee7af250b4be1a5</td>\n",
       "      <td>edb027a75a1449115f6b43211ae02a24</td>\n",
       "      <td>delivered</td>\n",
       "      <td>2018-03-08</td>\n",
       "      <td>2018-03-09</td>\n",
       "      <td>2018-03-09</td>\n",
       "      <td>2018-03-16</td>\n",
       "      <td>2018-04-03</td>\n",
       "      <td>1.0</td>\n",
       "      <td>006619bbed68b000c8ba3f8725d5409e</td>\n",
       "      <td>...</td>\n",
       "      <td>68.50</td>\n",
       "      <td>18.36</td>\n",
       "      <td>beleza_saude</td>\n",
       "      <td>60350aa974b26ff12caad89e55993bd6</td>\n",
       "      <td>lapa</td>\n",
       "      <td>PR</td>\n",
       "      <td>8</td>\n",
       "      <td>3</td>\n",
       "      <td>2018</td>\n",
       "      <td>2018-03</td>\n",
       "    </tr>\n",
       "  </tbody>\n",
       "</table>\n",
       "<p>110680 rows × 22 columns</p>\n",
       "</div>"
      ],
      "text/plain": [
       "                                order_id                       customer_id  \\\n",
       "0       e481f51cbdc54678b7cc49136f2d6af7  9ef432eb6251297304e76186b10a928d   \n",
       "1       53cdb2fc8bc7dce0b6741e2150273451  b0830fb4747a6c6d20dea0b8c802d7ef   \n",
       "2       47770eb9100c2d0c44946d9cf07ec65d  41ce2a54c0b03bf3443c3d931a367089   \n",
       "3       949d5b44dbf5de918fe9c16f97b45f8a  f88197465ea7920adcdbec7375364d82   \n",
       "4       ad21c59c0840e6cb83a9ceb5573f8159  8ab97904e6daea8866dbdbc4fb7aad2c   \n",
       "...                                  ...                               ...   \n",
       "111918  63943bddc261676b46f01ca7ac2f7bd8  1fca14ff2861355f6e5f14306ff977a7   \n",
       "111919  83c1379a015df1e13d02aae0204711ab  1aa71eb042121263aafbe80c1b562c9c   \n",
       "111920  11c177c8e97725db2631073c19f07b62  b331b74b18dc79bcdf6532d51e1637c1   \n",
       "111921  11c177c8e97725db2631073c19f07b62  b331b74b18dc79bcdf6532d51e1637c1   \n",
       "111922  66dea50a8b16d9b4dee7af250b4be1a5  edb027a75a1449115f6b43211ae02a24   \n",
       "\n",
       "       order_status order_purchase_timestamp order_approved_at  \\\n",
       "0         delivered               2017-10-02        2017-10-02   \n",
       "1         delivered               2018-07-24        2018-07-26   \n",
       "2         delivered               2018-08-08        2018-08-08   \n",
       "3         delivered               2017-11-18        2017-11-18   \n",
       "4         delivered               2018-02-13        2018-02-13   \n",
       "...             ...                      ...               ...   \n",
       "111918    delivered               2018-02-06        2018-02-06   \n",
       "111919    delivered               2017-08-27        2017-08-27   \n",
       "111920    delivered               2018-01-08        2018-01-08   \n",
       "111921    delivered               2018-01-08        2018-01-08   \n",
       "111922    delivered               2018-03-08        2018-03-09   \n",
       "\n",
       "       order_delivered_carrier_date order_delivered_customer_date  \\\n",
       "0                        2017-10-04                    2017-10-10   \n",
       "1                        2018-07-26                    2018-08-07   \n",
       "2                        2018-08-08                    2018-08-17   \n",
       "3                        2017-11-22                    2017-12-02   \n",
       "4                        2018-02-14                    2018-02-16   \n",
       "...                             ...                           ...   \n",
       "111918                   2018-02-07                    2018-02-28   \n",
       "111919                   2017-08-28                    2017-09-21   \n",
       "111920                   2018-01-12                    2018-01-25   \n",
       "111921                   2018-01-12                    2018-01-25   \n",
       "111922                   2018-03-09                    2018-03-16   \n",
       "\n",
       "       order_estimated_delivery_date  order_item_id  \\\n",
       "0                         2017-10-18            1.0   \n",
       "1                         2018-08-13            1.0   \n",
       "2                         2018-09-04            1.0   \n",
       "3                         2017-12-15            1.0   \n",
       "4                         2018-02-26            1.0   \n",
       "...                              ...            ...   \n",
       "111918                    2018-03-02            1.0   \n",
       "111919                    2017-09-27            1.0   \n",
       "111920                    2018-02-15            1.0   \n",
       "111921                    2018-02-15            2.0   \n",
       "111922                    2018-04-03            1.0   \n",
       "\n",
       "                              product_id  ...   price freight_value  \\\n",
       "0       87285b34884572647811a353c7ac498a  ...   29.99          8.72   \n",
       "1       595fac2a385ac33a80bd5114aec74eb8  ...  118.70         22.76   \n",
       "2       aa4383b373c6aca5d8797843e5594415  ...  159.90         19.22   \n",
       "3       d0b61bfb1de832b15ba9d266ca96e5b0  ...   45.00         27.20   \n",
       "4       65266b2da20d04dbe00c5c2d3bb7859e  ...   19.90          8.72   \n",
       "...                                  ...  ...     ...           ...   \n",
       "111918  f1d4ce8c6dd66c47bbaa8c6781c2a923  ...  174.90         20.10   \n",
       "111919  b80910977a37536adeddd63663f916ad  ...  205.99         65.02   \n",
       "111920  d1c427060a0f73f6b889a5c7c61f2ac4  ...  179.99         40.59   \n",
       "111921  d1c427060a0f73f6b889a5c7c61f2ac4  ...  179.99         40.59   \n",
       "111922  006619bbed68b000c8ba3f8725d5409e  ...   68.50         18.36   \n",
       "\n",
       "         product_category_name                customer_unique_id  \\\n",
       "0        utilidades_domesticas  7c396fd4830fd04220f754e42b4e5bff   \n",
       "1                   perfumaria  af07308b275d755c9edb36a90c618231   \n",
       "2                   automotivo  3a653a41f6f9fc3d2a113cf8398680e8   \n",
       "3                     pet_shop  7c142cf63193a1473d2e66489a9ae977   \n",
       "4                    papelaria  72632f0f9dd73dfee390c9b22eb56dd6   \n",
       "...                        ...                               ...   \n",
       "111918                   bebes  da62f9e57a76d978d02ab5362c509660   \n",
       "111919      eletrodomesticos_2  737520a9aad80b3fbbdad19b66b37b30   \n",
       "111920  informatica_acessorios  5097a5312c8b157bb7be58ae360ef43c   \n",
       "111921  informatica_acessorios  5097a5312c8b157bb7be58ae360ef43c   \n",
       "111922            beleza_saude  60350aa974b26ff12caad89e55993bd6   \n",
       "\n",
       "                  customer_city customer_state dia_compra mes_compra  \\\n",
       "0                     sao paulo             SP          2         10   \n",
       "1                     barreiras             BA         24          7   \n",
       "2                    vianopolis             GO          8          8   \n",
       "3       sao goncalo do amarante             RN         18         11   \n",
       "4                   santo andre             SP         13          2   \n",
       "...                         ...            ...        ...        ...   \n",
       "111918             praia grande             SP          6          2   \n",
       "111919              nova vicosa             BA         27          8   \n",
       "111920                  japuiba             RJ          8          1   \n",
       "111921                  japuiba             RJ          8          1   \n",
       "111922                     lapa             PR          8          3   \n",
       "\n",
       "        ano_compra  ano_mes  \n",
       "0             2017  2017-10  \n",
       "1             2018  2018-07  \n",
       "2             2018  2018-08  \n",
       "3             2017  2017-11  \n",
       "4             2018  2018-02  \n",
       "...            ...      ...  \n",
       "111918        2018  2018-02  \n",
       "111919        2017  2017-08  \n",
       "111920        2018  2018-01  \n",
       "111921        2018  2018-01  \n",
       "111922        2018  2018-03  \n",
       "\n",
       "[110680 rows x 22 columns]"
      ]
     },
     "execution_count": 84,
     "metadata": {},
     "output_type": "execute_result"
    }
   ],
   "source": [
    "vendas.loc[vendas.product_category_name.isnull(),'product_category_name'] \n",
    "vendas"
   ]
  },
  {
   "cell_type": "markdown",
   "id": "98f3dfe8-5277-436e-94eb-3ebce5674483",
   "metadata": {},
   "source": [
    "### E então atribuir o valor outros"
   ]
  },
  {
   "cell_type": "code",
   "execution_count": 85,
   "id": "2d2edf1b-d9eb-4e6b-b8f0-66ffaef97ab7",
   "metadata": {},
   "outputs": [],
   "source": [
    "vendas.loc[vendas.product_category_name.isnull(),'product_category_name'] = 'outros'"
   ]
  },
  {
   "cell_type": "markdown",
   "id": "683dbf41-faaa-4ddc-a4fe-7375157b349d",
   "metadata": {},
   "source": [
    "### Quantos valores nulos ainda temos?"
   ]
  },
  {
   "cell_type": "code",
   "execution_count": 86,
   "id": "5d0f16f9-3f8a-4859-95f5-58cbf918d73d",
   "metadata": {},
   "outputs": [
    {
     "data": {
      "text/plain": [
       "order_id                            0\n",
       "customer_id                         0\n",
       "order_status                        0\n",
       "order_purchase_timestamp            0\n",
       "order_approved_at                  15\n",
       "order_delivered_carrier_date      700\n",
       "order_delivered_customer_date    1877\n",
       "order_estimated_delivery_date       0\n",
       "order_item_id                       0\n",
       "product_id                          0\n",
       "seller_id                           0\n",
       "shipping_limit_date                 0\n",
       "price                               0\n",
       "freight_value                       0\n",
       "product_category_name               0\n",
       "customer_unique_id                  0\n",
       "customer_city                       0\n",
       "customer_state                      0\n",
       "dia_compra                          0\n",
       "mes_compra                          0\n",
       "ano_compra                          0\n",
       "ano_mes                             0\n",
       "dtype: int64"
      ]
     },
     "execution_count": 86,
     "metadata": {},
     "output_type": "execute_result"
    }
   ],
   "source": [
    "vendas.isnull().sum()"
   ]
  },
  {
   "cell_type": "markdown",
   "id": "d3e61ceb-4575-433a-bb5e-ebc70edb8630",
   "metadata": {},
   "source": [
    "## depois de tratar valores vazios, ppodemos começar a visualizar as informações dessa base"
   ]
  },
  {
   "cell_type": "code",
   "execution_count": 87,
   "id": "f5aab2c9-6489-4b6a-b66f-25e829d57465",
   "metadata": {},
   "outputs": [
    {
     "data": {
      "text/html": [
       "<div>\n",
       "<style scoped>\n",
       "    .dataframe tbody tr th:only-of-type {\n",
       "        vertical-align: middle;\n",
       "    }\n",
       "\n",
       "    .dataframe tbody tr th {\n",
       "        vertical-align: top;\n",
       "    }\n",
       "\n",
       "    .dataframe thead th {\n",
       "        text-align: right;\n",
       "    }\n",
       "</style>\n",
       "<table border=\"1\" class=\"dataframe\">\n",
       "  <thead>\n",
       "    <tr style=\"text-align: right;\">\n",
       "      <th></th>\n",
       "      <th>order_id</th>\n",
       "      <th>customer_id</th>\n",
       "      <th>order_status</th>\n",
       "      <th>order_purchase_timestamp</th>\n",
       "      <th>order_approved_at</th>\n",
       "      <th>order_delivered_carrier_date</th>\n",
       "      <th>order_delivered_customer_date</th>\n",
       "      <th>order_estimated_delivery_date</th>\n",
       "      <th>order_item_id</th>\n",
       "      <th>product_id</th>\n",
       "      <th>...</th>\n",
       "      <th>price</th>\n",
       "      <th>freight_value</th>\n",
       "      <th>product_category_name</th>\n",
       "      <th>customer_unique_id</th>\n",
       "      <th>customer_city</th>\n",
       "      <th>customer_state</th>\n",
       "      <th>dia_compra</th>\n",
       "      <th>mes_compra</th>\n",
       "      <th>ano_compra</th>\n",
       "      <th>ano_mes</th>\n",
       "    </tr>\n",
       "  </thead>\n",
       "  <tbody>\n",
       "    <tr>\n",
       "      <th>0</th>\n",
       "      <td>e481f51cbdc54678b7cc49136f2d6af7</td>\n",
       "      <td>9ef432eb6251297304e76186b10a928d</td>\n",
       "      <td>delivered</td>\n",
       "      <td>2017-10-02</td>\n",
       "      <td>2017-10-02</td>\n",
       "      <td>2017-10-04</td>\n",
       "      <td>2017-10-10</td>\n",
       "      <td>2017-10-18</td>\n",
       "      <td>1.0</td>\n",
       "      <td>87285b34884572647811a353c7ac498a</td>\n",
       "      <td>...</td>\n",
       "      <td>29.99</td>\n",
       "      <td>8.72</td>\n",
       "      <td>utilidades_domesticas</td>\n",
       "      <td>7c396fd4830fd04220f754e42b4e5bff</td>\n",
       "      <td>sao paulo</td>\n",
       "      <td>SP</td>\n",
       "      <td>2</td>\n",
       "      <td>10</td>\n",
       "      <td>2017</td>\n",
       "      <td>2017-10</td>\n",
       "    </tr>\n",
       "    <tr>\n",
       "      <th>1</th>\n",
       "      <td>53cdb2fc8bc7dce0b6741e2150273451</td>\n",
       "      <td>b0830fb4747a6c6d20dea0b8c802d7ef</td>\n",
       "      <td>delivered</td>\n",
       "      <td>2018-07-24</td>\n",
       "      <td>2018-07-26</td>\n",
       "      <td>2018-07-26</td>\n",
       "      <td>2018-08-07</td>\n",
       "      <td>2018-08-13</td>\n",
       "      <td>1.0</td>\n",
       "      <td>595fac2a385ac33a80bd5114aec74eb8</td>\n",
       "      <td>...</td>\n",
       "      <td>118.70</td>\n",
       "      <td>22.76</td>\n",
       "      <td>perfumaria</td>\n",
       "      <td>af07308b275d755c9edb36a90c618231</td>\n",
       "      <td>barreiras</td>\n",
       "      <td>BA</td>\n",
       "      <td>24</td>\n",
       "      <td>7</td>\n",
       "      <td>2018</td>\n",
       "      <td>2018-07</td>\n",
       "    </tr>\n",
       "    <tr>\n",
       "      <th>2</th>\n",
       "      <td>47770eb9100c2d0c44946d9cf07ec65d</td>\n",
       "      <td>41ce2a54c0b03bf3443c3d931a367089</td>\n",
       "      <td>delivered</td>\n",
       "      <td>2018-08-08</td>\n",
       "      <td>2018-08-08</td>\n",
       "      <td>2018-08-08</td>\n",
       "      <td>2018-08-17</td>\n",
       "      <td>2018-09-04</td>\n",
       "      <td>1.0</td>\n",
       "      <td>aa4383b373c6aca5d8797843e5594415</td>\n",
       "      <td>...</td>\n",
       "      <td>159.90</td>\n",
       "      <td>19.22</td>\n",
       "      <td>automotivo</td>\n",
       "      <td>3a653a41f6f9fc3d2a113cf8398680e8</td>\n",
       "      <td>vianopolis</td>\n",
       "      <td>GO</td>\n",
       "      <td>8</td>\n",
       "      <td>8</td>\n",
       "      <td>2018</td>\n",
       "      <td>2018-08</td>\n",
       "    </tr>\n",
       "  </tbody>\n",
       "</table>\n",
       "<p>3 rows × 22 columns</p>\n",
       "</div>"
      ],
      "text/plain": [
       "                           order_id                       customer_id  \\\n",
       "0  e481f51cbdc54678b7cc49136f2d6af7  9ef432eb6251297304e76186b10a928d   \n",
       "1  53cdb2fc8bc7dce0b6741e2150273451  b0830fb4747a6c6d20dea0b8c802d7ef   \n",
       "2  47770eb9100c2d0c44946d9cf07ec65d  41ce2a54c0b03bf3443c3d931a367089   \n",
       "\n",
       "  order_status order_purchase_timestamp order_approved_at  \\\n",
       "0    delivered               2017-10-02        2017-10-02   \n",
       "1    delivered               2018-07-24        2018-07-26   \n",
       "2    delivered               2018-08-08        2018-08-08   \n",
       "\n",
       "  order_delivered_carrier_date order_delivered_customer_date  \\\n",
       "0                   2017-10-04                    2017-10-10   \n",
       "1                   2018-07-26                    2018-08-07   \n",
       "2                   2018-08-08                    2018-08-17   \n",
       "\n",
       "  order_estimated_delivery_date  order_item_id  \\\n",
       "0                    2017-10-18            1.0   \n",
       "1                    2018-08-13            1.0   \n",
       "2                    2018-09-04            1.0   \n",
       "\n",
       "                         product_id  ...   price freight_value  \\\n",
       "0  87285b34884572647811a353c7ac498a  ...   29.99          8.72   \n",
       "1  595fac2a385ac33a80bd5114aec74eb8  ...  118.70         22.76   \n",
       "2  aa4383b373c6aca5d8797843e5594415  ...  159.90         19.22   \n",
       "\n",
       "   product_category_name                customer_unique_id customer_city  \\\n",
       "0  utilidades_domesticas  7c396fd4830fd04220f754e42b4e5bff     sao paulo   \n",
       "1             perfumaria  af07308b275d755c9edb36a90c618231     barreiras   \n",
       "2             automotivo  3a653a41f6f9fc3d2a113cf8398680e8    vianopolis   \n",
       "\n",
       "  customer_state dia_compra mes_compra  ano_compra  ano_mes  \n",
       "0             SP          2         10        2017  2017-10  \n",
       "1             BA         24          7        2018  2018-07  \n",
       "2             GO          8          8        2018  2018-08  \n",
       "\n",
       "[3 rows x 22 columns]"
      ]
     },
     "execution_count": 87,
     "metadata": {},
     "output_type": "execute_result"
    }
   ],
   "source": [
    "vendas.head(3)"
   ]
  },
  {
   "cell_type": "markdown",
   "id": "2e1a0eee-1f03-40d5-b46a-1d4d80bccb16",
   "metadata": {},
   "source": [
    "### Verificando a soma da venda por dia"
   ]
  },
  {
   "cell_type": "code",
   "execution_count": 88,
   "id": "e8027a22-5ec3-414e-8145-c50c15ff2aa3",
   "metadata": {},
   "outputs": [
    {
     "data": {
      "text/plain": [
       "order_purchase_timestamp\n",
       "2017-01-06      916.38\n",
       "2017-01-07     1351.90\n",
       "2017-01-08      709.58\n",
       "2017-01-09      673.79\n",
       "2017-01-10     1434.87\n",
       "                ...   \n",
       "2018-08-16    35166.77\n",
       "2018-08-17    31683.18\n",
       "2018-08-18    24340.95\n",
       "2018-08-19    25487.39\n",
       "2018-08-20    34479.50\n",
       "Name: price, Length: 592, dtype: float64"
      ]
     },
     "execution_count": 88,
     "metadata": {},
     "output_type": "execute_result"
    }
   ],
   "source": [
    "vendas.groupby('order_purchase_timestamp')['price'].sum()"
   ]
  },
  {
   "cell_type": "markdown",
   "id": "edd76195-1eb0-49be-a563-f738a7bb18e8",
   "metadata": {},
   "source": [
    "### Mostrando de forma gráfica"
   ]
  },
  {
   "cell_type": "code",
   "execution_count": 89,
   "id": "769df2f1-aa12-4c19-9ed9-b833ee6dc14c",
   "metadata": {},
   "outputs": [
    {
     "data": {
      "image/png": "[encoded data removed]",
      "text/plain": [
       "<Figure size 432x288 with 1 Axes>"
      ]
     },
     "metadata": {
      "needs_background": "light"
     },
     "output_type": "display_data"
    }
   ],
   "source": [
    "vendas.groupby('order_purchase_timestamp')['price'].sum().plot();"
   ]
  },
  {
   "cell_type": "markdown",
   "id": "abb25e5b-e749-410c-ad4b-32060e9199c0",
   "metadata": {},
   "source": [
    "### Também podemos visualizar esses dados em um plotbox"
   ]
  },
  {
   "cell_type": "code",
   "execution_count": 90,
   "id": "c91714fc-d445-402f-b2cd-31670ab14589",
   "metadata": {},
   "outputs": [
    {
     "data": {
      "image/png": "[encoded data removed]",
      "text/plain": [
       "<Figure size 432x288 with 1 Axes>"
      ]
     },
     "metadata": {
      "needs_background": "light"
     },
     "output_type": "display_data"
    }
   ],
   "source": [
    "vendas.groupby('order_purchase_timestamp')['price'].sum().plot.box();"
   ]
  },
  {
   "cell_type": "markdown",
   "id": "590498e6-d715-4325-9364-bce0d345fc28",
   "metadata": {},
   "source": [
    "## Vamos tentar isolar o periodo que temos um valor muito discrepante do resto\n",
    "### Importando o datetime para nos ajudar a trabalhar com dados"
   ]
  },
  {
   "cell_type": "code",
   "execution_count": 91,
   "id": "f061bcf1-ec5f-43e1-a829-c354566e715d",
   "metadata": {},
   "outputs": [],
   "source": [
    "import datetime as dt"
   ]
  },
  {
   "cell_type": "markdown",
   "id": "2b63cfa5-f40c-4161-93c6-61b32bdfb359",
   "metadata": {},
   "source": [
    "### E agora fazendo um filtro da base exatamente nesse periodo"
   ]
  },
  {
   "cell_type": "code",
   "execution_count": 92,
   "id": "6e9ee537-4c5a-446f-889f-66c06fc50820",
   "metadata": {},
   "outputs": [
    {
     "data": {
      "image/png": "[encoded data removed]",
      "text/plain": [
       "<Figure size 432x288 with 1 Axes>"
      ]
     },
     "metadata": {
      "needs_background": "light"
     },
     "output_type": "display_data"
    }
   ],
   "source": [
    "vendas[(vendas.order_purchase_timestamp >= dt.datetime(2017,11,18)) &\n",
    "       (vendas.order_purchase_timestamp <= dt.datetime(2017,11,27))\n",
    "      ].groupby('order_purchase_timestamp')['price'].sum().plot();"
   ]
  },
  {
   "cell_type": "markdown",
   "id": "69455231-55fa-4256-a6fa-e9f0557034ce",
   "metadata": {},
   "source": [
    "### Eliminando essa data discrepante"
   ]
  },
  {
   "cell_type": "code",
   "execution_count": 93,
   "id": "f00d5785-4352-482e-a95f-39d7138e1cfb",
   "metadata": {},
   "outputs": [],
   "source": [
    "vendas = vendas[vendas.order_purchase_timestamp != dt.datetime(2017,11,24)]"
   ]
  },
  {
   "cell_type": "markdown",
   "id": "eebf23a1-6c6c-481f-8284-4d294d9849ff",
   "metadata": {},
   "source": [
    "### E novamente visualizando a base"
   ]
  },
  {
   "cell_type": "code",
   "execution_count": 94,
   "id": "4f192532-e592-44a1-83e1-4e01b27089bd",
   "metadata": {},
   "outputs": [
    {
     "data": {
      "image/png": "[encoded data removed]",
      "text/plain": [
       "<Figure size 432x288 with 1 Axes>"
      ]
     },
     "metadata": {
      "needs_background": "light"
     },
     "output_type": "display_data"
    }
   ],
   "source": [
    "vendas.groupby('order_purchase_timestamp')['price'].sum().plot();"
   ]
  },
  {
   "cell_type": "markdown",
   "id": "67ee5525-2970-43b4-967b-46c2428ca476",
   "metadata": {},
   "source": [
    "### Podemos novamente fazer o boxplot"
   ]
  },
  {
   "cell_type": "code",
   "execution_count": 95,
   "id": "33446f81-a87f-47c6-a4c7-e54db0ced5f9",
   "metadata": {},
   "outputs": [
    {
     "data": {
      "image/png": "[encoded data removed]",
      "text/plain": [
       "<Figure size 432x288 with 1 Axes>"
      ]
     },
     "metadata": {
      "needs_background": "light"
     },
     "output_type": "display_data"
    }
   ],
   "source": [
    "vendas.groupby('order_purchase_timestamp')['price'].sum().plot.box();"
   ]
  },
  {
   "cell_type": "markdown",
   "id": "2751e903-9414-4c8a-b48e-242148ff371d",
   "metadata": {},
   "source": [
    "### E novamente filtrar o periodo discrepante"
   ]
  },
  {
   "cell_type": "code",
   "execution_count": 96,
   "id": "ade7bc84-b537-47c2-947b-b6916fedb507",
   "metadata": {},
   "outputs": [
    {
     "data": {
      "image/png": "[encoded data removed]",
      "text/plain": [
       "<Figure size 432x288 with 1 Axes>"
      ]
     },
     "metadata": {
      "needs_background": "light"
     },
     "output_type": "display_data"
    }
   ],
   "source": [
    "vendas[(vendas.order_purchase_timestamp >= dt.datetime(2017,11,18)) &\n",
    "       (vendas.order_purchase_timestamp <= dt.datetime(2017,11,27))\n",
    "      ].groupby('order_purchase_timestamp')['price'].sum().plot();"
   ]
  },
  {
   "cell_type": "markdown",
   "id": "2bb048df-c881-4a78-bb21-e7258c9c8ffa",
   "metadata": {},
   "source": [
    "### E então também eliminar o dia 25/11/2017"
   ]
  },
  {
   "cell_type": "code",
   "execution_count": 98,
   "id": "81434647-335d-4911-9d6f-4b12d8b36c31",
   "metadata": {},
   "outputs": [],
   "source": [
    "vendas = vendas[vendas.order_purchase_timestamp != dt.datetime(2017,11,25)]"
   ]
  },
  {
   "cell_type": "markdown",
   "id": "5dcb3b99-5fe7-4a4d-a68b-91b7989e1367",
   "metadata": {},
   "source": [
    "### Visualizando novamente a base"
   ]
  },
  {
   "cell_type": "code",
   "execution_count": 100,
   "id": "f2670b0e-4eb8-4c0d-8462-7215d801ae3a",
   "metadata": {},
   "outputs": [
    {
     "data": {
      "image/png": "[encoded data removed]",
      "text/plain": [
       "<Figure size 432x288 with 1 Axes>"
      ]
     },
     "metadata": {
      "needs_background": "light"
     },
     "output_type": "display_data"
    }
   ],
   "source": [
    "vendas.groupby('order_purchase_timestamp')['price'].sum().plot();"
   ]
  },
  {
   "cell_type": "markdown",
   "id": "88366bdf-2278-405e-a6d8-c8f7cef05fe8",
   "metadata": {},
   "source": [
    "### E o boxplot desses dados"
   ]
  },
  {
   "cell_type": "code",
   "execution_count": 101,
   "id": "63c6c953-1480-4d1e-ad46-140c5f695832",
   "metadata": {},
   "outputs": [
    {
     "data": {
      "image/png": "[encoded data removed]",
      "text/plain": [
       "<Figure size 432x288 with 1 Axes>"
      ]
     },
     "metadata": {
      "needs_background": "light"
     },
     "output_type": "display_data"
    }
   ],
   "source": [
    "vendas.groupby('order_purchase_timestamp')['price'].sum().plot.box();"
   ]
  },
  {
   "cell_type": "markdown",
   "id": "e3264108-3d1c-4a7e-96db-402a1bd3fcb6",
   "metadata": {},
   "source": [
    "### Filtrando o periodo discrepante em agosto"
   ]
  },
  {
   "cell_type": "code",
   "execution_count": 102,
   "id": "45a8bf81-6387-4d73-9bc2-f814ae59d8e0",
   "metadata": {},
   "outputs": [
    {
     "data": {
      "image/png": "[encoded data removed]",
      "text/plain": [
       "<Figure size 432x288 with 1 Axes>"
      ]
     },
     "metadata": {
      "needs_background": "light"
     },
     "output_type": "display_data"
    }
   ],
   "source": [
    "vendas[(vendas.order_purchase_timestamp >= dt.datetime(2018,8,1)) &\n",
    "       (vendas.order_purchase_timestamp <= dt.datetime(2018,8,30))\n",
    "      ].groupby('order_purchase_timestamp')['price'].sum().plot();"
   ]
  },
  {
   "cell_type": "markdown",
   "id": "e2de5f3d-05aa-4af2-bd2a-21c2cbd70f1a",
   "metadata": {},
   "source": [
    "### E o periodo de junho"
   ]
  },
  {
   "cell_type": "code",
   "execution_count": 103,
   "id": "b717e21f-f7be-4a06-afe4-f36ad1609b2f",
   "metadata": {},
   "outputs": [
    {
     "data": {
      "image/png": "[encoded data removed]",
      "text/plain": [
       "<Figure size 432x288 with 1 Axes>"
      ]
     },
     "metadata": {
      "needs_background": "light"
     },
     "output_type": "display_data"
    }
   ],
   "source": [
    "vendas[(vendas.order_purchase_timestamp >= dt.datetime(2018,6,1)) &\n",
    "       (vendas.order_purchase_timestamp <= dt.datetime(2018,6,30))\n",
    "      ].groupby('order_purchase_timestamp')['price'].sum().plot();"
   ]
  },
  {
   "cell_type": "markdown",
   "id": "745903ad-8dfc-4f4c-9759-137d67f5b857",
   "metadata": {},
   "source": [
    "## Observe a ordem 66dea50a8b16d9b4dee7af250b4be1a5"
   ]
  },
  {
   "cell_type": "markdown",
   "id": "c4a1f430-cfaf-48d8-add4-e9193e9bec48",
   "metadata": {},
   "source": [
    "### Contando quantas vezes a ordem aparece"
   ]
  },
  {
   "cell_type": "code",
   "execution_count": 104,
   "id": "37a623a1-9620-4ebf-9247-fc9d41d2357c",
   "metadata": {},
   "outputs": [
    {
     "data": {
      "text/html": [
       "<div>\n",
       "<style scoped>\n",
       "    .dataframe tbody tr th:only-of-type {\n",
       "        vertical-align: middle;\n",
       "    }\n",
       "\n",
       "    .dataframe tbody tr th {\n",
       "        vertical-align: top;\n",
       "    }\n",
       "\n",
       "    .dataframe thead th {\n",
       "        text-align: right;\n",
       "    }\n",
       "</style>\n",
       "<table border=\"1\" class=\"dataframe\">\n",
       "  <thead>\n",
       "    <tr style=\"text-align: right;\">\n",
       "      <th></th>\n",
       "      <th>order_id</th>\n",
       "      <th>customer_id</th>\n",
       "      <th>order_status</th>\n",
       "      <th>order_purchase_timestamp</th>\n",
       "      <th>order_approved_at</th>\n",
       "      <th>order_delivered_carrier_date</th>\n",
       "      <th>order_delivered_customer_date</th>\n",
       "      <th>order_estimated_delivery_date</th>\n",
       "      <th>order_item_id</th>\n",
       "      <th>product_id</th>\n",
       "      <th>...</th>\n",
       "      <th>price</th>\n",
       "      <th>freight_value</th>\n",
       "      <th>product_category_name</th>\n",
       "      <th>customer_unique_id</th>\n",
       "      <th>customer_city</th>\n",
       "      <th>customer_state</th>\n",
       "      <th>dia_compra</th>\n",
       "      <th>mes_compra</th>\n",
       "      <th>ano_compra</th>\n",
       "      <th>ano_mes</th>\n",
       "    </tr>\n",
       "  </thead>\n",
       "  <tbody>\n",
       "    <tr>\n",
       "      <th>111922</th>\n",
       "      <td>66dea50a8b16d9b4dee7af250b4be1a5</td>\n",
       "      <td>edb027a75a1449115f6b43211ae02a24</td>\n",
       "      <td>delivered</td>\n",
       "      <td>2018-03-08</td>\n",
       "      <td>2018-03-09</td>\n",
       "      <td>2018-03-09</td>\n",
       "      <td>2018-03-16</td>\n",
       "      <td>2018-04-03</td>\n",
       "      <td>1.0</td>\n",
       "      <td>006619bbed68b000c8ba3f8725d5409e</td>\n",
       "      <td>...</td>\n",
       "      <td>68.5</td>\n",
       "      <td>18.36</td>\n",
       "      <td>beleza_saude</td>\n",
       "      <td>60350aa974b26ff12caad89e55993bd6</td>\n",
       "      <td>lapa</td>\n",
       "      <td>PR</td>\n",
       "      <td>8</td>\n",
       "      <td>3</td>\n",
       "      <td>2018</td>\n",
       "      <td>2018-03</td>\n",
       "    </tr>\n",
       "  </tbody>\n",
       "</table>\n",
       "<p>1 rows × 22 columns</p>\n",
       "</div>"
      ],
      "text/plain": [
       "                                order_id                       customer_id  \\\n",
       "111922  66dea50a8b16d9b4dee7af250b4be1a5  edb027a75a1449115f6b43211ae02a24   \n",
       "\n",
       "       order_status order_purchase_timestamp order_approved_at  \\\n",
       "111922    delivered               2018-03-08        2018-03-09   \n",
       "\n",
       "       order_delivered_carrier_date order_delivered_customer_date  \\\n",
       "111922                   2018-03-09                    2018-03-16   \n",
       "\n",
       "       order_estimated_delivery_date  order_item_id  \\\n",
       "111922                    2018-04-03            1.0   \n",
       "\n",
       "                              product_id  ... price freight_value  \\\n",
       "111922  006619bbed68b000c8ba3f8725d5409e  ...  68.5         18.36   \n",
       "\n",
       "        product_category_name                customer_unique_id customer_city  \\\n",
       "111922           beleza_saude  60350aa974b26ff12caad89e55993bd6          lapa   \n",
       "\n",
       "       customer_state dia_compra mes_compra  ano_compra  ano_mes  \n",
       "111922             PR          8          3        2018  2018-03  \n",
       "\n",
       "[1 rows x 22 columns]"
      ]
     },
     "execution_count": 104,
     "metadata": {},
     "output_type": "execute_result"
    }
   ],
   "source": [
    "vendas[vendas.order_id == '66dea50a8b16d9b4dee7af250b4be1a5']"
   ]
  },
  {
   "cell_type": "markdown",
   "id": "c51c73fa-f4fc-456a-9b08-109321629bca",
   "metadata": {},
   "source": [
    "### Visualizando essa ordem"
   ]
  },
  {
   "cell_type": "code",
   "execution_count": 105,
   "id": "801fd214-e135-4649-8e84-d4cc4d73d6d5",
   "metadata": {},
   "outputs": [
    {
     "data": {
      "text/html": [
       "<div>\n",
       "<style scoped>\n",
       "    .dataframe tbody tr th:only-of-type {\n",
       "        vertical-align: middle;\n",
       "    }\n",
       "\n",
       "    .dataframe tbody tr th {\n",
       "        vertical-align: top;\n",
       "    }\n",
       "\n",
       "    .dataframe thead th {\n",
       "        text-align: right;\n",
       "    }\n",
       "</style>\n",
       "<table border=\"1\" class=\"dataframe\">\n",
       "  <thead>\n",
       "    <tr style=\"text-align: right;\">\n",
       "      <th></th>\n",
       "      <th>order_id</th>\n",
       "      <th>customer_id</th>\n",
       "      <th>order_status</th>\n",
       "      <th>order_purchase_timestamp</th>\n",
       "      <th>order_approved_at</th>\n",
       "      <th>order_delivered_carrier_date</th>\n",
       "      <th>order_delivered_customer_date</th>\n",
       "      <th>order_estimated_delivery_date</th>\n",
       "      <th>order_item_id</th>\n",
       "      <th>product_id</th>\n",
       "      <th>...</th>\n",
       "      <th>price</th>\n",
       "      <th>freight_value</th>\n",
       "      <th>product_category_name</th>\n",
       "      <th>customer_unique_id</th>\n",
       "      <th>customer_city</th>\n",
       "      <th>customer_state</th>\n",
       "      <th>dia_compra</th>\n",
       "      <th>mes_compra</th>\n",
       "      <th>ano_compra</th>\n",
       "      <th>ano_mes</th>\n",
       "    </tr>\n",
       "  </thead>\n",
       "  <tbody>\n",
       "    <tr>\n",
       "      <th>111922</th>\n",
       "      <td>66dea50a8b16d9b4dee7af250b4be1a5</td>\n",
       "      <td>edb027a75a1449115f6b43211ae02a24</td>\n",
       "      <td>delivered</td>\n",
       "      <td>2018-03-08</td>\n",
       "      <td>2018-03-09</td>\n",
       "      <td>2018-03-09</td>\n",
       "      <td>2018-03-16</td>\n",
       "      <td>2018-04-03</td>\n",
       "      <td>1.0</td>\n",
       "      <td>006619bbed68b000c8ba3f8725d5409e</td>\n",
       "      <td>...</td>\n",
       "      <td>68.5</td>\n",
       "      <td>18.36</td>\n",
       "      <td>beleza_saude</td>\n",
       "      <td>60350aa974b26ff12caad89e55993bd6</td>\n",
       "      <td>lapa</td>\n",
       "      <td>PR</td>\n",
       "      <td>8</td>\n",
       "      <td>3</td>\n",
       "      <td>2018</td>\n",
       "      <td>2018-03</td>\n",
       "    </tr>\n",
       "  </tbody>\n",
       "</table>\n",
       "<p>1 rows × 22 columns</p>\n",
       "</div>"
      ],
      "text/plain": [
       "                                order_id                       customer_id  \\\n",
       "111922  66dea50a8b16d9b4dee7af250b4be1a5  edb027a75a1449115f6b43211ae02a24   \n",
       "\n",
       "       order_status order_purchase_timestamp order_approved_at  \\\n",
       "111922    delivered               2018-03-08        2018-03-09   \n",
       "\n",
       "       order_delivered_carrier_date order_delivered_customer_date  \\\n",
       "111922                   2018-03-09                    2018-03-16   \n",
       "\n",
       "       order_estimated_delivery_date  order_item_id  \\\n",
       "111922                    2018-04-03            1.0   \n",
       "\n",
       "                              product_id  ... price freight_value  \\\n",
       "111922  006619bbed68b000c8ba3f8725d5409e  ...  68.5         18.36   \n",
       "\n",
       "        product_category_name                customer_unique_id customer_city  \\\n",
       "111922           beleza_saude  60350aa974b26ff12caad89e55993bd6          lapa   \n",
       "\n",
       "       customer_state dia_compra mes_compra  ano_compra  ano_mes  \n",
       "111922             PR          8          3        2018  2018-03  \n",
       "\n",
       "[1 rows x 22 columns]"
      ]
     },
     "execution_count": 105,
     "metadata": {},
     "output_type": "execute_result"
    }
   ],
   "source": [
    "vendas[vendas.order_id == '66dea50a8b16d9b4dee7af250b4be1a5']"
   ]
  },
  {
   "cell_type": "markdown",
   "id": "ed0f27a4-3754-4977-a42a-206cbe151b64",
   "metadata": {},
   "source": [
    "### Podemos isolar apenas a base de ordens e datas do periodo"
   ]
  },
  {
   "cell_type": "code",
   "execution_count": 107,
   "id": "2f1e2d74-46c0-4418-a786-cd205f282612",
   "metadata": {},
   "outputs": [
    {
     "data": {
      "text/html": [
       "<div>\n",
       "<style scoped>\n",
       "    .dataframe tbody tr th:only-of-type {\n",
       "        vertical-align: middle;\n",
       "    }\n",
       "\n",
       "    .dataframe tbody tr th {\n",
       "        vertical-align: top;\n",
       "    }\n",
       "\n",
       "    .dataframe thead th {\n",
       "        text-align: right;\n",
       "    }\n",
       "</style>\n",
       "<table border=\"1\" class=\"dataframe\">\n",
       "  <thead>\n",
       "    <tr style=\"text-align: right;\">\n",
       "      <th></th>\n",
       "      <th>order_id</th>\n",
       "      <th>order_purchase_timestamp</th>\n",
       "    </tr>\n",
       "  </thead>\n",
       "  <tbody>\n",
       "    <tr>\n",
       "      <th>111922</th>\n",
       "      <td>66dea50a8b16d9b4dee7af250b4be1a5</td>\n",
       "      <td>2018-03-08</td>\n",
       "    </tr>\n",
       "  </tbody>\n",
       "</table>\n",
       "</div>"
      ],
      "text/plain": [
       "                                order_id order_purchase_timestamp\n",
       "111922  66dea50a8b16d9b4dee7af250b4be1a5               2018-03-08"
      ]
     },
     "execution_count": 107,
     "metadata": {},
     "output_type": "execute_result"
    }
   ],
   "source": [
    "vendas.loc[vendas.order_id == '66dea50a8b16d9b4dee7af250b4be1a5',['order_id','order_purchase_timestamp']]"
   ]
  },
  {
   "cell_type": "markdown",
   "id": "8aa4a92c-ee09-4446-b240-cd945826cb73",
   "metadata": {},
   "source": [
    "### Então eliminar os valores duplicados dessa base"
   ]
  },
  {
   "cell_type": "code",
   "execution_count": 108,
   "id": "ca1da7ef-003b-4dbd-9e68-96c42be6d4bc",
   "metadata": {},
   "outputs": [
    {
     "data": {
      "text/html": [
       "<div>\n",
       "<style scoped>\n",
       "    .dataframe tbody tr th:only-of-type {\n",
       "        vertical-align: middle;\n",
       "    }\n",
       "\n",
       "    .dataframe tbody tr th {\n",
       "        vertical-align: top;\n",
       "    }\n",
       "\n",
       "    .dataframe thead th {\n",
       "        text-align: right;\n",
       "    }\n",
       "</style>\n",
       "<table border=\"1\" class=\"dataframe\">\n",
       "  <thead>\n",
       "    <tr style=\"text-align: right;\">\n",
       "      <th></th>\n",
       "      <th>order_id</th>\n",
       "      <th>order_purchase_timestamp</th>\n",
       "    </tr>\n",
       "  </thead>\n",
       "  <tbody>\n",
       "    <tr>\n",
       "      <th>111922</th>\n",
       "      <td>66dea50a8b16d9b4dee7af250b4be1a5</td>\n",
       "      <td>2018-03-08</td>\n",
       "    </tr>\n",
       "  </tbody>\n",
       "</table>\n",
       "</div>"
      ],
      "text/plain": [
       "                                order_id order_purchase_timestamp\n",
       "111922  66dea50a8b16d9b4dee7af250b4be1a5               2018-03-08"
      ]
     },
     "execution_count": 108,
     "metadata": {},
     "output_type": "execute_result"
    }
   ],
   "source": [
    "vendas.loc[vendas.order_id == '66dea50a8b16d9b4dee7af250b4be1a5',['order_id','order_purchase_timestamp']].drop_duplicates()"
   ]
  },
  {
   "cell_type": "code",
   "execution_count": 109,
   "id": "ad9a56d2-45a0-407c-86f3-f821ec04d414",
   "metadata": {},
   "outputs": [],
   "source": [
    "vendas_qtd = vendas[['order_id','order_purchase_timestamp']]\n",
    "vendas_qtd = vendas_qtd.drop_duplicates()"
   ]
  },
  {
   "cell_type": "markdown",
   "id": "74c5512e-dcaf-41a3-b6d9-c34a5e2f38e8",
   "metadata": {},
   "source": [
    "### Agora observe novamente essa ordem"
   ]
  },
  {
   "cell_type": "code",
   "execution_count": 110,
   "id": "29cd9ac8-eaf7-420d-b11a-21ee7eb7237c",
   "metadata": {},
   "outputs": [
    {
     "data": {
      "text/html": [
       "<div>\n",
       "<style scoped>\n",
       "    .dataframe tbody tr th:only-of-type {\n",
       "        vertical-align: middle;\n",
       "    }\n",
       "\n",
       "    .dataframe tbody tr th {\n",
       "        vertical-align: top;\n",
       "    }\n",
       "\n",
       "    .dataframe thead th {\n",
       "        text-align: right;\n",
       "    }\n",
       "</style>\n",
       "<table border=\"1\" class=\"dataframe\">\n",
       "  <thead>\n",
       "    <tr style=\"text-align: right;\">\n",
       "      <th></th>\n",
       "      <th>order_id</th>\n",
       "      <th>order_purchase_timestamp</th>\n",
       "    </tr>\n",
       "  </thead>\n",
       "  <tbody>\n",
       "    <tr>\n",
       "      <th>111922</th>\n",
       "      <td>66dea50a8b16d9b4dee7af250b4be1a5</td>\n",
       "      <td>2018-03-08</td>\n",
       "    </tr>\n",
       "  </tbody>\n",
       "</table>\n",
       "</div>"
      ],
      "text/plain": [
       "                                order_id order_purchase_timestamp\n",
       "111922  66dea50a8b16d9b4dee7af250b4be1a5               2018-03-08"
      ]
     },
     "execution_count": 110,
     "metadata": {},
     "output_type": "execute_result"
    }
   ],
   "source": [
    "vendas_qtd[vendas_qtd.order_id == '66dea50a8b16d9b4dee7af250b4be1a5']"
   ]
  },
  {
   "cell_type": "markdown",
   "id": "9c8abe31-ba91-4075-86e7-2b20d367b6f6",
   "metadata": {},
   "source": [
    "### Dessa forma, podemostraçar esse gráfico de forma correta"
   ]
  },
  {
   "cell_type": "code",
   "execution_count": 111,
   "id": "d0492c67-10bc-4f9c-958c-17be568a4a10",
   "metadata": {},
   "outputs": [
    {
     "data": {
      "image/png": "[encoded data removed]",
      "text/plain": [
       "<Figure size 432x288 with 1 Axes>"
      ]
     },
     "metadata": {
      "needs_background": "light"
     },
     "output_type": "display_data"
    }
   ],
   "source": [
    "vendas.groupby('order_purchase_timestamp')['order_id'].count().plot();"
   ]
  },
  {
   "cell_type": "markdown",
   "id": "5dac1715-8ea4-492c-94c5-0fa4ce276619",
   "metadata": {},
   "source": [
    "### Podemos também filtrar a base de venda valor já tratada para alguma categoria especifica"
   ]
  },
  {
   "cell_type": "markdown",
   "id": "dd52d71d-3512-4d1f-ba35-1075e1ca1032",
   "metadata": {},
   "source": [
    "### Verificando as categorias mais frequentes"
   ]
  },
  {
   "cell_type": "code",
   "execution_count": 112,
   "id": "f176a4be-51aa-47bf-95a2-c3965f2255a7",
   "metadata": {},
   "outputs": [
    {
     "data": {
      "text/plain": [
       "product_category_name\n",
       "cama_mesa_banho                                  10712\n",
       "beleza_saude                                      9331\n",
       "esporte_lazer                                     8363\n",
       "moveis_decoracao                                  7982\n",
       "informatica_acessorios                            7606\n",
       "                                                 ...  \n",
       "cds_dvds_musicais                                   14\n",
       "portateis_cozinha_e_preparadores_de_alimentos       13\n",
       "pc_gamer                                             8\n",
       "fashion_roupa_infanto_juvenil                        8\n",
       "seguros_e_servicos                                   2\n",
       "Name: price, Length: 74, dtype: int64"
      ]
     },
     "execution_count": 112,
     "metadata": {},
     "output_type": "execute_result"
    }
   ],
   "source": [
    "vendas.groupby('product_category_name')['price'].count().sort_values(ascending=False)"
   ]
  },
  {
   "cell_type": "markdown",
   "id": "fc2dfaa6-406b-401a-a27d-d85aaf244436",
   "metadata": {},
   "source": [
    "### Verificando por valor vendido"
   ]
  },
  {
   "cell_type": "code",
   "execution_count": 113,
   "id": "bcbb19c7-b3d0-4faa-8b2b-f8667c01488a",
   "metadata": {},
   "outputs": [
    {
     "data": {
      "text/plain": [
       "product_category_name\n",
       "beleza_saude                     1215371.11\n",
       "relogios_presentes               1166708.22\n",
       "cama_mesa_banho                  1001616.80\n",
       "esporte_lazer                     956416.10\n",
       "informatica_acessorios            885143.81\n",
       "                                    ...    \n",
       "flores                              1110.04\n",
       "casa_conforto_2                      760.27\n",
       "cds_dvds_musicais                    730.00\n",
       "fashion_roupa_infanto_juvenil        569.85\n",
       "seguros_e_servicos                   283.29\n",
       "Name: price, Length: 74, dtype: float64"
      ]
     },
     "execution_count": 113,
     "metadata": {},
     "output_type": "execute_result"
    }
   ],
   "source": [
    "vendas.groupby('product_category_name')['price'].sum().sort_values(ascending=False)"
   ]
  },
  {
   "cell_type": "markdown",
   "id": "e30a9edc-e44b-4caa-90f2-bd1be69f9592",
   "metadata": {},
   "source": [
    "## Fazendo a soma de apenas uma categoria"
   ]
  },
  {
   "cell_type": "code",
   "execution_count": 114,
   "id": "bf040f16-0c41-499e-9fb8-2d515f0042ee",
   "metadata": {},
   "outputs": [
    {
     "data": {
      "image/png": "[encoded data removed]",
      "text/plain": [
       "<Figure size 432x288 with 1 Axes>"
      ]
     },
     "metadata": {
      "needs_background": "light"
     },
     "output_type": "display_data"
    }
   ],
   "source": [
    "categoria = 'cama_mesa_banho'\n",
    "vendas[vendas.product_category_name == categoria].groupby('order_purchase_timestamp')['price'].sum().plot();"
   ]
  },
  {
   "cell_type": "markdown",
   "id": "7180330e-d54f-4cfb-9e0e-f95da46eea08",
   "metadata": {},
   "source": [
    "### Também podemos calcular as informações de entrega"
   ]
  },
  {
   "cell_type": "markdown",
   "id": "ac7ca79f-d298-4bbc-995f-9721ab93b661",
   "metadata": {},
   "source": [
    "### Visualizando a base"
   ]
  },
  {
   "cell_type": "code",
   "execution_count": 115,
   "id": "80b9b961-f93d-4153-a800-d7cea3535a80",
   "metadata": {},
   "outputs": [
    {
     "data": {
      "text/html": [
       "<div>\n",
       "<style scoped>\n",
       "    .dataframe tbody tr th:only-of-type {\n",
       "        vertical-align: middle;\n",
       "    }\n",
       "\n",
       "    .dataframe tbody tr th {\n",
       "        vertical-align: top;\n",
       "    }\n",
       "\n",
       "    .dataframe thead th {\n",
       "        text-align: right;\n",
       "    }\n",
       "</style>\n",
       "<table border=\"1\" class=\"dataframe\">\n",
       "  <thead>\n",
       "    <tr style=\"text-align: right;\">\n",
       "      <th></th>\n",
       "      <th>order_id</th>\n",
       "      <th>customer_id</th>\n",
       "      <th>order_status</th>\n",
       "      <th>order_purchase_timestamp</th>\n",
       "      <th>order_approved_at</th>\n",
       "      <th>order_delivered_carrier_date</th>\n",
       "      <th>order_delivered_customer_date</th>\n",
       "      <th>order_estimated_delivery_date</th>\n",
       "      <th>order_item_id</th>\n",
       "      <th>product_id</th>\n",
       "      <th>...</th>\n",
       "      <th>price</th>\n",
       "      <th>freight_value</th>\n",
       "      <th>product_category_name</th>\n",
       "      <th>customer_unique_id</th>\n",
       "      <th>customer_city</th>\n",
       "      <th>customer_state</th>\n",
       "      <th>dia_compra</th>\n",
       "      <th>mes_compra</th>\n",
       "      <th>ano_compra</th>\n",
       "      <th>ano_mes</th>\n",
       "    </tr>\n",
       "  </thead>\n",
       "  <tbody>\n",
       "    <tr>\n",
       "      <th>0</th>\n",
       "      <td>e481f51cbdc54678b7cc49136f2d6af7</td>\n",
       "      <td>9ef432eb6251297304e76186b10a928d</td>\n",
       "      <td>delivered</td>\n",
       "      <td>2017-10-02</td>\n",
       "      <td>2017-10-02</td>\n",
       "      <td>2017-10-04</td>\n",
       "      <td>2017-10-10</td>\n",
       "      <td>2017-10-18</td>\n",
       "      <td>1.0</td>\n",
       "      <td>87285b34884572647811a353c7ac498a</td>\n",
       "      <td>...</td>\n",
       "      <td>29.99</td>\n",
       "      <td>8.72</td>\n",
       "      <td>utilidades_domesticas</td>\n",
       "      <td>7c396fd4830fd04220f754e42b4e5bff</td>\n",
       "      <td>sao paulo</td>\n",
       "      <td>SP</td>\n",
       "      <td>2</td>\n",
       "      <td>10</td>\n",
       "      <td>2017</td>\n",
       "      <td>2017-10</td>\n",
       "    </tr>\n",
       "    <tr>\n",
       "      <th>1</th>\n",
       "      <td>53cdb2fc8bc7dce0b6741e2150273451</td>\n",
       "      <td>b0830fb4747a6c6d20dea0b8c802d7ef</td>\n",
       "      <td>delivered</td>\n",
       "      <td>2018-07-24</td>\n",
       "      <td>2018-07-26</td>\n",
       "      <td>2018-07-26</td>\n",
       "      <td>2018-08-07</td>\n",
       "      <td>2018-08-13</td>\n",
       "      <td>1.0</td>\n",
       "      <td>595fac2a385ac33a80bd5114aec74eb8</td>\n",
       "      <td>...</td>\n",
       "      <td>118.70</td>\n",
       "      <td>22.76</td>\n",
       "      <td>perfumaria</td>\n",
       "      <td>af07308b275d755c9edb36a90c618231</td>\n",
       "      <td>barreiras</td>\n",
       "      <td>BA</td>\n",
       "      <td>24</td>\n",
       "      <td>7</td>\n",
       "      <td>2018</td>\n",
       "      <td>2018-07</td>\n",
       "    </tr>\n",
       "    <tr>\n",
       "      <th>2</th>\n",
       "      <td>47770eb9100c2d0c44946d9cf07ec65d</td>\n",
       "      <td>41ce2a54c0b03bf3443c3d931a367089</td>\n",
       "      <td>delivered</td>\n",
       "      <td>2018-08-08</td>\n",
       "      <td>2018-08-08</td>\n",
       "      <td>2018-08-08</td>\n",
       "      <td>2018-08-17</td>\n",
       "      <td>2018-09-04</td>\n",
       "      <td>1.0</td>\n",
       "      <td>aa4383b373c6aca5d8797843e5594415</td>\n",
       "      <td>...</td>\n",
       "      <td>159.90</td>\n",
       "      <td>19.22</td>\n",
       "      <td>automotivo</td>\n",
       "      <td>3a653a41f6f9fc3d2a113cf8398680e8</td>\n",
       "      <td>vianopolis</td>\n",
       "      <td>GO</td>\n",
       "      <td>8</td>\n",
       "      <td>8</td>\n",
       "      <td>2018</td>\n",
       "      <td>2018-08</td>\n",
       "    </tr>\n",
       "    <tr>\n",
       "      <th>3</th>\n",
       "      <td>949d5b44dbf5de918fe9c16f97b45f8a</td>\n",
       "      <td>f88197465ea7920adcdbec7375364d82</td>\n",
       "      <td>delivered</td>\n",
       "      <td>2017-11-18</td>\n",
       "      <td>2017-11-18</td>\n",
       "      <td>2017-11-22</td>\n",
       "      <td>2017-12-02</td>\n",
       "      <td>2017-12-15</td>\n",
       "      <td>1.0</td>\n",
       "      <td>d0b61bfb1de832b15ba9d266ca96e5b0</td>\n",
       "      <td>...</td>\n",
       "      <td>45.00</td>\n",
       "      <td>27.20</td>\n",
       "      <td>pet_shop</td>\n",
       "      <td>7c142cf63193a1473d2e66489a9ae977</td>\n",
       "      <td>sao goncalo do amarante</td>\n",
       "      <td>RN</td>\n",
       "      <td>18</td>\n",
       "      <td>11</td>\n",
       "      <td>2017</td>\n",
       "      <td>2017-11</td>\n",
       "    </tr>\n",
       "    <tr>\n",
       "      <th>4</th>\n",
       "      <td>ad21c59c0840e6cb83a9ceb5573f8159</td>\n",
       "      <td>8ab97904e6daea8866dbdbc4fb7aad2c</td>\n",
       "      <td>delivered</td>\n",
       "      <td>2018-02-13</td>\n",
       "      <td>2018-02-13</td>\n",
       "      <td>2018-02-14</td>\n",
       "      <td>2018-02-16</td>\n",
       "      <td>2018-02-26</td>\n",
       "      <td>1.0</td>\n",
       "      <td>65266b2da20d04dbe00c5c2d3bb7859e</td>\n",
       "      <td>...</td>\n",
       "      <td>19.90</td>\n",
       "      <td>8.72</td>\n",
       "      <td>papelaria</td>\n",
       "      <td>72632f0f9dd73dfee390c9b22eb56dd6</td>\n",
       "      <td>santo andre</td>\n",
       "      <td>SP</td>\n",
       "      <td>13</td>\n",
       "      <td>2</td>\n",
       "      <td>2018</td>\n",
       "      <td>2018-02</td>\n",
       "    </tr>\n",
       "  </tbody>\n",
       "</table>\n",
       "<p>5 rows × 22 columns</p>\n",
       "</div>"
      ],
      "text/plain": [
       "                           order_id                       customer_id  \\\n",
       "0  e481f51cbdc54678b7cc49136f2d6af7  9ef432eb6251297304e76186b10a928d   \n",
       "1  53cdb2fc8bc7dce0b6741e2150273451  b0830fb4747a6c6d20dea0b8c802d7ef   \n",
       "2  47770eb9100c2d0c44946d9cf07ec65d  41ce2a54c0b03bf3443c3d931a367089   \n",
       "3  949d5b44dbf5de918fe9c16f97b45f8a  f88197465ea7920adcdbec7375364d82   \n",
       "4  ad21c59c0840e6cb83a9ceb5573f8159  8ab97904e6daea8866dbdbc4fb7aad2c   \n",
       "\n",
       "  order_status order_purchase_timestamp order_approved_at  \\\n",
       "0    delivered               2017-10-02        2017-10-02   \n",
       "1    delivered               2018-07-24        2018-07-26   \n",
       "2    delivered               2018-08-08        2018-08-08   \n",
       "3    delivered               2017-11-18        2017-11-18   \n",
       "4    delivered               2018-02-13        2018-02-13   \n",
       "\n",
       "  order_delivered_carrier_date order_delivered_customer_date  \\\n",
       "0                   2017-10-04                    2017-10-10   \n",
       "1                   2018-07-26                    2018-08-07   \n",
       "2                   2018-08-08                    2018-08-17   \n",
       "3                   2017-11-22                    2017-12-02   \n",
       "4                   2018-02-14                    2018-02-16   \n",
       "\n",
       "  order_estimated_delivery_date  order_item_id  \\\n",
       "0                    2017-10-18            1.0   \n",
       "1                    2018-08-13            1.0   \n",
       "2                    2018-09-04            1.0   \n",
       "3                    2017-12-15            1.0   \n",
       "4                    2018-02-26            1.0   \n",
       "\n",
       "                         product_id  ...   price freight_value  \\\n",
       "0  87285b34884572647811a353c7ac498a  ...   29.99          8.72   \n",
       "1  595fac2a385ac33a80bd5114aec74eb8  ...  118.70         22.76   \n",
       "2  aa4383b373c6aca5d8797843e5594415  ...  159.90         19.22   \n",
       "3  d0b61bfb1de832b15ba9d266ca96e5b0  ...   45.00         27.20   \n",
       "4  65266b2da20d04dbe00c5c2d3bb7859e  ...   19.90          8.72   \n",
       "\n",
       "   product_category_name                customer_unique_id  \\\n",
       "0  utilidades_domesticas  7c396fd4830fd04220f754e42b4e5bff   \n",
       "1             perfumaria  af07308b275d755c9edb36a90c618231   \n",
       "2             automotivo  3a653a41f6f9fc3d2a113cf8398680e8   \n",
       "3               pet_shop  7c142cf63193a1473d2e66489a9ae977   \n",
       "4              papelaria  72632f0f9dd73dfee390c9b22eb56dd6   \n",
       "\n",
       "             customer_city customer_state dia_compra mes_compra  ano_compra  \\\n",
       "0                sao paulo             SP          2         10        2017   \n",
       "1                barreiras             BA         24          7        2018   \n",
       "2               vianopolis             GO          8          8        2018   \n",
       "3  sao goncalo do amarante             RN         18         11        2017   \n",
       "4              santo andre             SP         13          2        2018   \n",
       "\n",
       "   ano_mes  \n",
       "0  2017-10  \n",
       "1  2018-07  \n",
       "2  2018-08  \n",
       "3  2017-11  \n",
       "4  2018-02  \n",
       "\n",
       "[5 rows x 22 columns]"
      ]
     },
     "execution_count": 115,
     "metadata": {},
     "output_type": "execute_result"
    }
   ],
   "source": [
    "vendas.head()"
   ]
  },
  {
   "cell_type": "markdown",
   "id": "c81065a7-b202-4222-ab45-5c7824475bd5",
   "metadata": {},
   "source": [
    "### Calculando a diferença, em dias, entre a entrega estimada e a entrega realizada"
   ]
  },
  {
   "cell_type": "code",
   "execution_count": 118,
   "id": "2c21c9ec-3b27-47e2-b034-ffd5f61bdad4",
   "metadata": {},
   "outputs": [
    {
     "data": {
      "text/plain": [
       "0          8.0\n",
       "1          6.0\n",
       "2         18.0\n",
       "3         13.0\n",
       "4         10.0\n",
       "          ... \n",
       "111918     2.0\n",
       "111919     6.0\n",
       "111920    21.0\n",
       "111921    21.0\n",
       "111922    18.0\n",
       "Length: 108734, dtype: float64"
      ]
     },
     "execution_count": 118,
     "metadata": {},
     "output_type": "execute_result"
    }
   ],
   "source": [
    "(vendas.order_estimated_delivery_date - vendas.order_delivered_customer_date).dt.days"
   ]
  },
  {
   "cell_type": "markdown",
   "id": "94628e0b-59f2-47d0-9cf0-1c5e34cdd0c2",
   "metadata": {},
   "source": [
    "### Criando uma variável na base com esse valor"
   ]
  },
  {
   "cell_type": "code",
   "execution_count": 119,
   "id": "731c8887-6dd8-455e-a192-b8c491ab9046",
   "metadata": {},
   "outputs": [],
   "source": [
    "vendas['DifDias'] = (vendas.order_estimated_delivery_date - vendas.order_delivered_customer_date).dt.days"
   ]
  },
  {
   "cell_type": "code",
   "execution_count": 120,
   "id": "b5013de5-e853-4de4-85a0-8035dd0162a1",
   "metadata": {},
   "outputs": [
    {
     "data": {
      "text/html": [
       "<div>\n",
       "<style scoped>\n",
       "    .dataframe tbody tr th:only-of-type {\n",
       "        vertical-align: middle;\n",
       "    }\n",
       "\n",
       "    .dataframe tbody tr th {\n",
       "        vertical-align: top;\n",
       "    }\n",
       "\n",
       "    .dataframe thead th {\n",
       "        text-align: right;\n",
       "    }\n",
       "</style>\n",
       "<table border=\"1\" class=\"dataframe\">\n",
       "  <thead>\n",
       "    <tr style=\"text-align: right;\">\n",
       "      <th></th>\n",
       "      <th>order_id</th>\n",
       "      <th>customer_id</th>\n",
       "      <th>order_status</th>\n",
       "      <th>order_purchase_timestamp</th>\n",
       "      <th>order_approved_at</th>\n",
       "      <th>order_delivered_carrier_date</th>\n",
       "      <th>order_delivered_customer_date</th>\n",
       "      <th>order_estimated_delivery_date</th>\n",
       "      <th>order_item_id</th>\n",
       "      <th>product_id</th>\n",
       "      <th>...</th>\n",
       "      <th>freight_value</th>\n",
       "      <th>product_category_name</th>\n",
       "      <th>customer_unique_id</th>\n",
       "      <th>customer_city</th>\n",
       "      <th>customer_state</th>\n",
       "      <th>dia_compra</th>\n",
       "      <th>mes_compra</th>\n",
       "      <th>ano_compra</th>\n",
       "      <th>ano_mes</th>\n",
       "      <th>DifDias</th>\n",
       "    </tr>\n",
       "  </thead>\n",
       "  <tbody>\n",
       "    <tr>\n",
       "      <th>0</th>\n",
       "      <td>e481f51cbdc54678b7cc49136f2d6af7</td>\n",
       "      <td>9ef432eb6251297304e76186b10a928d</td>\n",
       "      <td>delivered</td>\n",
       "      <td>2017-10-02</td>\n",
       "      <td>2017-10-02</td>\n",
       "      <td>2017-10-04</td>\n",
       "      <td>2017-10-10</td>\n",
       "      <td>2017-10-18</td>\n",
       "      <td>1.0</td>\n",
       "      <td>87285b34884572647811a353c7ac498a</td>\n",
       "      <td>...</td>\n",
       "      <td>8.72</td>\n",
       "      <td>utilidades_domesticas</td>\n",
       "      <td>7c396fd4830fd04220f754e42b4e5bff</td>\n",
       "      <td>sao paulo</td>\n",
       "      <td>SP</td>\n",
       "      <td>2</td>\n",
       "      <td>10</td>\n",
       "      <td>2017</td>\n",
       "      <td>2017-10</td>\n",
       "      <td>8.0</td>\n",
       "    </tr>\n",
       "    <tr>\n",
       "      <th>1</th>\n",
       "      <td>53cdb2fc8bc7dce0b6741e2150273451</td>\n",
       "      <td>b0830fb4747a6c6d20dea0b8c802d7ef</td>\n",
       "      <td>delivered</td>\n",
       "      <td>2018-07-24</td>\n",
       "      <td>2018-07-26</td>\n",
       "      <td>2018-07-26</td>\n",
       "      <td>2018-08-07</td>\n",
       "      <td>2018-08-13</td>\n",
       "      <td>1.0</td>\n",
       "      <td>595fac2a385ac33a80bd5114aec74eb8</td>\n",
       "      <td>...</td>\n",
       "      <td>22.76</td>\n",
       "      <td>perfumaria</td>\n",
       "      <td>af07308b275d755c9edb36a90c618231</td>\n",
       "      <td>barreiras</td>\n",
       "      <td>BA</td>\n",
       "      <td>24</td>\n",
       "      <td>7</td>\n",
       "      <td>2018</td>\n",
       "      <td>2018-07</td>\n",
       "      <td>6.0</td>\n",
       "    </tr>\n",
       "    <tr>\n",
       "      <th>2</th>\n",
       "      <td>47770eb9100c2d0c44946d9cf07ec65d</td>\n",
       "      <td>41ce2a54c0b03bf3443c3d931a367089</td>\n",
       "      <td>delivered</td>\n",
       "      <td>2018-08-08</td>\n",
       "      <td>2018-08-08</td>\n",
       "      <td>2018-08-08</td>\n",
       "      <td>2018-08-17</td>\n",
       "      <td>2018-09-04</td>\n",
       "      <td>1.0</td>\n",
       "      <td>aa4383b373c6aca5d8797843e5594415</td>\n",
       "      <td>...</td>\n",
       "      <td>19.22</td>\n",
       "      <td>automotivo</td>\n",
       "      <td>3a653a41f6f9fc3d2a113cf8398680e8</td>\n",
       "      <td>vianopolis</td>\n",
       "      <td>GO</td>\n",
       "      <td>8</td>\n",
       "      <td>8</td>\n",
       "      <td>2018</td>\n",
       "      <td>2018-08</td>\n",
       "      <td>18.0</td>\n",
       "    </tr>\n",
       "  </tbody>\n",
       "</table>\n",
       "<p>3 rows × 23 columns</p>\n",
       "</div>"
      ],
      "text/plain": [
       "                           order_id                       customer_id  \\\n",
       "0  e481f51cbdc54678b7cc49136f2d6af7  9ef432eb6251297304e76186b10a928d   \n",
       "1  53cdb2fc8bc7dce0b6741e2150273451  b0830fb4747a6c6d20dea0b8c802d7ef   \n",
       "2  47770eb9100c2d0c44946d9cf07ec65d  41ce2a54c0b03bf3443c3d931a367089   \n",
       "\n",
       "  order_status order_purchase_timestamp order_approved_at  \\\n",
       "0    delivered               2017-10-02        2017-10-02   \n",
       "1    delivered               2018-07-24        2018-07-26   \n",
       "2    delivered               2018-08-08        2018-08-08   \n",
       "\n",
       "  order_delivered_carrier_date order_delivered_customer_date  \\\n",
       "0                   2017-10-04                    2017-10-10   \n",
       "1                   2018-07-26                    2018-08-07   \n",
       "2                   2018-08-08                    2018-08-17   \n",
       "\n",
       "  order_estimated_delivery_date  order_item_id  \\\n",
       "0                    2017-10-18            1.0   \n",
       "1                    2018-08-13            1.0   \n",
       "2                    2018-09-04            1.0   \n",
       "\n",
       "                         product_id  ... freight_value  product_category_name  \\\n",
       "0  87285b34884572647811a353c7ac498a  ...          8.72  utilidades_domesticas   \n",
       "1  595fac2a385ac33a80bd5114aec74eb8  ...         22.76             perfumaria   \n",
       "2  aa4383b373c6aca5d8797843e5594415  ...         19.22             automotivo   \n",
       "\n",
       "                 customer_unique_id  customer_city customer_state dia_compra  \\\n",
       "0  7c396fd4830fd04220f754e42b4e5bff      sao paulo             SP          2   \n",
       "1  af07308b275d755c9edb36a90c618231      barreiras             BA         24   \n",
       "2  3a653a41f6f9fc3d2a113cf8398680e8     vianopolis             GO          8   \n",
       "\n",
       "  mes_compra ano_compra  ano_mes  DifDias  \n",
       "0         10       2017  2017-10      8.0  \n",
       "1          7       2018  2018-07      6.0  \n",
       "2          8       2018  2018-08     18.0  \n",
       "\n",
       "[3 rows x 23 columns]"
      ]
     },
     "execution_count": 120,
     "metadata": {},
     "output_type": "execute_result"
    }
   ],
   "source": [
    "vendas.head(3)"
   ]
  },
  {
   "cell_type": "markdown",
   "id": "973b6f78-296b-476b-a947-9e10516e84eb",
   "metadata": {},
   "source": [
    "### Visualizando a média dos dias de entrega"
   ]
  },
  {
   "cell_type": "code",
   "execution_count": 121,
   "id": "21b8ad04-5847-4cb0-b93a-1eba55c4adf5",
   "metadata": {},
   "outputs": [
    {
     "data": {
      "image/png": "[encoded data removed]",
      "text/plain": [
       "<Figure size 432x288 with 1 Axes>"
      ]
     },
     "metadata": {
      "needs_background": "light"
     },
     "output_type": "display_data"
    }
   ],
   "source": [
    "vendas.groupby('order_purchase_timestamp')['DifDias'].mean().plot();"
   ]
  },
  {
   "cell_type": "markdown",
   "id": "b6658bf2-6687-4f12-ac97-7a464feaded5",
   "metadata": {},
   "source": [
    "### Visualizando o mínimo dos dias de entrega"
   ]
  },
  {
   "cell_type": "code",
   "execution_count": 122,
   "id": "783b86f7-fb2a-44a3-bf16-432b42c43454",
   "metadata": {},
   "outputs": [
    {
     "data": {
      "image/png": "[encoded data removed]",
      "text/plain": [
       "<Figure size 432x288 with 1 Axes>"
      ]
     },
     "metadata": {
      "needs_background": "light"
     },
     "output_type": "display_data"
    }
   ],
   "source": [
    "vendas.groupby('order_purchase_timestamp')['DifDias'].min().plot();"
   ]
  },
  {
   "cell_type": "markdown",
   "id": "bb07ebd1-5e84-4b94-9c9f-5eb3f6c39de8",
   "metadata": {},
   "source": [
    "### Podemos então criar uma nova coluna definindo se a entrega atrasou ou não"
   ]
  },
  {
   "cell_type": "code",
   "execution_count": 123,
   "id": "4b0cd8a6-43c9-49b8-bc0a-cbdd5d2298af",
   "metadata": {},
   "outputs": [],
   "source": [
    "vendas['FlagAtraso'] = vendas.DifDias.apply(lambda x: 1 if(x<0) else 0)"
   ]
  },
  {
   "cell_type": "markdown",
   "id": "ea2142a3-aa76-40cb-9cfa-74ecce512b87",
   "metadata": {},
   "source": [
    "### filtrando apenas as colunas de pedido, entrega e as novas colunas criadas"
   ]
  },
  {
   "cell_type": "code",
   "execution_count": 125,
   "id": "424cd268-1c54-4ea8-a1bb-b5b88185def4",
   "metadata": {},
   "outputs": [],
   "source": [
    "verifica_datas = vendas[['order_estimated_delivery_date','order_delivered_customer_date','DifDias','FlagAtraso']]"
   ]
  },
  {
   "cell_type": "markdown",
   "id": "f2371c1f-0eb1-44b4-b9f8-3c7b99383932",
   "metadata": {},
   "source": [
    "### Filtrando apenas order_estimated_delivery_date > order_delivered_customer_date"
   ]
  },
  {
   "cell_type": "code",
   "execution_count": 126,
   "id": "ef4f0339-1e3d-4c86-87d6-7a3185f6f0a3",
   "metadata": {},
   "outputs": [
    {
     "data": {
      "text/html": [
       "<div>\n",
       "<style scoped>\n",
       "    .dataframe tbody tr th:only-of-type {\n",
       "        vertical-align: middle;\n",
       "    }\n",
       "\n",
       "    .dataframe tbody tr th {\n",
       "        vertical-align: top;\n",
       "    }\n",
       "\n",
       "    .dataframe thead th {\n",
       "        text-align: right;\n",
       "    }\n",
       "</style>\n",
       "<table border=\"1\" class=\"dataframe\">\n",
       "  <thead>\n",
       "    <tr style=\"text-align: right;\">\n",
       "      <th></th>\n",
       "      <th>order_estimated_delivery_date</th>\n",
       "      <th>order_delivered_customer_date</th>\n",
       "      <th>DifDias</th>\n",
       "      <th>FlagAtraso</th>\n",
       "    </tr>\n",
       "  </thead>\n",
       "  <tbody>\n",
       "    <tr>\n",
       "      <th>0</th>\n",
       "      <td>2017-10-18</td>\n",
       "      <td>2017-10-10</td>\n",
       "      <td>8.0</td>\n",
       "      <td>0</td>\n",
       "    </tr>\n",
       "    <tr>\n",
       "      <th>1</th>\n",
       "      <td>2018-08-13</td>\n",
       "      <td>2018-08-07</td>\n",
       "      <td>6.0</td>\n",
       "      <td>0</td>\n",
       "    </tr>\n",
       "    <tr>\n",
       "      <th>2</th>\n",
       "      <td>2018-09-04</td>\n",
       "      <td>2018-08-17</td>\n",
       "      <td>18.0</td>\n",
       "      <td>0</td>\n",
       "    </tr>\n",
       "    <tr>\n",
       "      <th>3</th>\n",
       "      <td>2017-12-15</td>\n",
       "      <td>2017-12-02</td>\n",
       "      <td>13.0</td>\n",
       "      <td>0</td>\n",
       "    </tr>\n",
       "    <tr>\n",
       "      <th>4</th>\n",
       "      <td>2018-02-26</td>\n",
       "      <td>2018-02-16</td>\n",
       "      <td>10.0</td>\n",
       "      <td>0</td>\n",
       "    </tr>\n",
       "    <tr>\n",
       "      <th>...</th>\n",
       "      <td>...</td>\n",
       "      <td>...</td>\n",
       "      <td>...</td>\n",
       "      <td>...</td>\n",
       "    </tr>\n",
       "    <tr>\n",
       "      <th>111918</th>\n",
       "      <td>2018-03-02</td>\n",
       "      <td>2018-02-28</td>\n",
       "      <td>2.0</td>\n",
       "      <td>0</td>\n",
       "    </tr>\n",
       "    <tr>\n",
       "      <th>111919</th>\n",
       "      <td>2017-09-27</td>\n",
       "      <td>2017-09-21</td>\n",
       "      <td>6.0</td>\n",
       "      <td>0</td>\n",
       "    </tr>\n",
       "    <tr>\n",
       "      <th>111920</th>\n",
       "      <td>2018-02-15</td>\n",
       "      <td>2018-01-25</td>\n",
       "      <td>21.0</td>\n",
       "      <td>0</td>\n",
       "    </tr>\n",
       "    <tr>\n",
       "      <th>111921</th>\n",
       "      <td>2018-02-15</td>\n",
       "      <td>2018-01-25</td>\n",
       "      <td>21.0</td>\n",
       "      <td>0</td>\n",
       "    </tr>\n",
       "    <tr>\n",
       "      <th>111922</th>\n",
       "      <td>2018-04-03</td>\n",
       "      <td>2018-03-16</td>\n",
       "      <td>18.0</td>\n",
       "      <td>0</td>\n",
       "    </tr>\n",
       "  </tbody>\n",
       "</table>\n",
       "<p>98627 rows × 4 columns</p>\n",
       "</div>"
      ],
      "text/plain": [
       "       order_estimated_delivery_date order_delivered_customer_date  DifDias  \\\n",
       "0                         2017-10-18                    2017-10-10      8.0   \n",
       "1                         2018-08-13                    2018-08-07      6.0   \n",
       "2                         2018-09-04                    2018-08-17     18.0   \n",
       "3                         2017-12-15                    2017-12-02     13.0   \n",
       "4                         2018-02-26                    2018-02-16     10.0   \n",
       "...                              ...                           ...      ...   \n",
       "111918                    2018-03-02                    2018-02-28      2.0   \n",
       "111919                    2017-09-27                    2017-09-21      6.0   \n",
       "111920                    2018-02-15                    2018-01-25     21.0   \n",
       "111921                    2018-02-15                    2018-01-25     21.0   \n",
       "111922                    2018-04-03                    2018-03-16     18.0   \n",
       "\n",
       "        FlagAtraso  \n",
       "0                0  \n",
       "1                0  \n",
       "2                0  \n",
       "3                0  \n",
       "4                0  \n",
       "...            ...  \n",
       "111918           0  \n",
       "111919           0  \n",
       "111920           0  \n",
       "111921           0  \n",
       "111922           0  \n",
       "\n",
       "[98627 rows x 4 columns]"
      ]
     },
     "execution_count": 126,
     "metadata": {},
     "output_type": "execute_result"
    }
   ],
   "source": [
    "verifica_datas[verifica_datas.order_estimated_delivery_date \n",
    "               > verifica_datas.order_delivered_customer_date]"
   ]
  },
  {
   "cell_type": "markdown",
   "id": "a838423c-b318-46d4-bb4f-37ec523e7bdc",
   "metadata": {},
   "source": [
    "### Verificando os valores na coluna entrega"
   ]
  },
  {
   "cell_type": "code",
   "execution_count": 127,
   "id": "095fc6b1-7007-4ef2-9880-fff2b777899b",
   "metadata": {},
   "outputs": [
    {
     "data": {
      "text/plain": [
       "1.0      1487\n",
       "2.0      1581\n",
       "3.0      1864\n",
       "4.0      2050\n",
       "5.0      2349\n",
       "         ... \n",
       "109.0       1\n",
       "124.0       2\n",
       "135.0       1\n",
       "140.0       1\n",
       "147.0       2\n",
       "Name: DifDias, Length: 81, dtype: int64"
      ]
     },
     "execution_count": 127,
     "metadata": {},
     "output_type": "execute_result"
    }
   ],
   "source": [
    "verifica_datas.loc[verifica_datas.order_estimated_delivery_date \n",
    "               > verifica_datas.order_delivered_customer_date,'DifDias'].value_counts().sort_index()"
   ]
  },
  {
   "cell_type": "markdown",
   "id": "3a1c170c-74a8-4bad-b55e-96509634c827",
   "metadata": {},
   "source": [
    "### Verificando os valores na coluna Flag Atraso"
   ]
  },
  {
   "cell_type": "code",
   "execution_count": 129,
   "id": "16d9eec0-658b-40fc-822f-e4f7e3bc1d0b",
   "metadata": {},
   "outputs": [
    {
     "data": {
      "text/plain": [
       "0    1357\n",
       "Name: FlagAtraso, dtype: int64"
      ]
     },
     "execution_count": 129,
     "metadata": {},
     "output_type": "execute_result"
    }
   ],
   "source": [
    "verifica_datas.loc[verifica_datas.order_estimated_delivery_date \n",
    "               == verifica_datas.order_delivered_customer_date,'FlagAtraso'].value_counts().sort_index()"
   ]
  },
  {
   "cell_type": "markdown",
   "id": "c56fa7fc-ecfc-43bc-8daf-a5ed1782239b",
   "metadata": {},
   "source": [
    "### Verificando os atrasos por dia "
   ]
  },
  {
   "cell_type": "code",
   "execution_count": 131,
   "id": "6982aa8b-5e9a-4665-ba74-c1f7d9c79244",
   "metadata": {},
   "outputs": [
    {
     "data": {
      "image/png": "[encoded data removed]",
      "text/plain": [
       "<Figure size 432x288 with 1 Axes>"
      ]
     },
     "metadata": {
      "needs_background": "light"
     },
     "output_type": "display_data"
    }
   ],
   "source": [
    "vendas[(vendas.FlagAtraso == 1) & (vendas.order_delivered_customer_date.notnull())].groupby('order_purchase_timestamp')['FlagAtraso'].count().plot();"
   ]
  },
  {
   "cell_type": "markdown",
   "id": "9fbc79a9-27f7-415b-956c-de36c46a1398",
   "metadata": {},
   "source": [
    "### Verificando os atrasos por ano e mês"
   ]
  },
  {
   "cell_type": "code",
   "execution_count": 133,
   "id": "1e3ec4f2-e75c-430d-8851-c91cd419c6a1",
   "metadata": {},
   "outputs": [
    {
     "data": {
      "image/png": "[encoded data removed]",
      "text/plain": [
       "<Figure size 432x288 with 1 Axes>"
      ]
     },
     "metadata": {
      "needs_background": "light"
     },
     "output_type": "display_data"
    }
   ],
   "source": [
    "vendas[(vendas.FlagAtraso == 1) & (vendas.order_delivered_customer_date.notnull())].groupby('ano_mes')['FlagAtraso'].count().plot.bar();"
   ]
  },
  {
   "cell_type": "markdown",
   "id": "da00cd4e-4a19-49b8-8482-be6114bce4e3",
   "metadata": {},
   "source": [
    "### Analise da diferença de valores"
   ]
  },
  {
   "cell_type": "code",
   "execution_count": 134,
   "id": "3b476db2-f168-4408-9cb2-c285ffe4a043",
   "metadata": {},
   "outputs": [],
   "source": [
    "vendas = pd.read_excel('base_vendas.xlsx')"
   ]
  },
  {
   "cell_type": "code",
   "execution_count": 135,
   "id": "b59e5afa-155f-4fc4-b9ae-622abbbd15a8",
   "metadata": {},
   "outputs": [],
   "source": [
    "pagamentos = pd.read_excel('base_pagamentos.xlsx')"
   ]
  },
  {
   "cell_type": "markdown",
   "id": "8a2a6be1-3f91-4eca-90d5-632e5aa74827",
   "metadata": {},
   "source": [
    "### Podemos agregar a base de vendas pelo preço e frete"
   ]
  },
  {
   "cell_type": "code",
   "execution_count": 136,
   "id": "8484b486-7138-491c-bab1-bac464017fda",
   "metadata": {},
   "outputs": [],
   "source": [
    "agg_vendas = vendas.groupby('order_id')[['price','freight_value']].sum()"
   ]
  },
  {
   "cell_type": "markdown",
   "id": "94afa293-cb13-4429-bd1d-29930a7e9946",
   "metadata": {},
   "source": [
    "### E agregar a base de pagamentos pelo valor pago"
   ]
  },
  {
   "cell_type": "code",
   "execution_count": 145,
   "id": "41804dbc-f1a4-415b-a5c9-25b2dcc9e6f0",
   "metadata": {},
   "outputs": [
    {
     "data": {
      "text/plain": [
       "order_id\n",
       "00010242fe8c5a6d1ba2dd792cb16214     72.19\n",
       "00018f77f2f0320c557190d7a144bdd3    259.83\n",
       "000229ec398224ef6ca0657da4fc703e    216.87\n",
       "00024acbcdf0a6daa1e931b038114c75     25.78\n",
       "00042b26cf59d7ce69dfabb4e55b4fd9    218.04\n",
       "                                     ...  \n",
       "fffc94f6ce00a00581880bf54a75a037    343.40\n",
       "fffcd46ef2263f404302a634eb57f7eb    386.53\n",
       "fffce4705a9662cd70adb13d4a31832d    116.85\n",
       "fffe18544ffabc95dfada21779c9644f     64.71\n",
       "fffe41c64501cc87c801fd61db3f6244     55.79\n",
       "Name: payment_value, Length: 98115, dtype: float64"
      ]
     },
     "execution_count": 145,
     "metadata": {},
     "output_type": "execute_result"
    }
   ],
   "source": [
    "agg_pagamentos = pagamentos.groupby('order_id')['payment_value'].sum()\n",
    "agg_pagamentos"
   ]
  },
  {
   "cell_type": "markdown",
   "id": "7440d97c-ee92-4a7c-97bb-99b1d16e147a",
   "metadata": {},
   "source": [
    "### Concatenando essas duas bases"
   ]
  },
  {
   "cell_type": "code",
   "execution_count": 138,
   "id": "5bc53a61-8bd3-4aba-838b-ee618c50bb25",
   "metadata": {},
   "outputs": [],
   "source": [
    "agg = pd.concat([agg_vendas,agg_pagamentos],axis=1)"
   ]
  },
  {
   "cell_type": "code",
   "execution_count": 139,
   "id": "347edfe3-0b30-4cb6-bc85-8d308ef33641",
   "metadata": {},
   "outputs": [],
   "source": [
    "agg.index.name = None"
   ]
  },
  {
   "cell_type": "code",
   "execution_count": 146,
   "id": "9b3d04b9-5faa-4964-b1fb-be0a8350d268",
   "metadata": {},
   "outputs": [
    {
     "data": {
      "text/html": [
       "<div>\n",
       "<style scoped>\n",
       "    .dataframe tbody tr th:only-of-type {\n",
       "        vertical-align: middle;\n",
       "    }\n",
       "\n",
       "    .dataframe tbody tr th {\n",
       "        vertical-align: top;\n",
       "    }\n",
       "\n",
       "    .dataframe thead th {\n",
       "        text-align: right;\n",
       "    }\n",
       "</style>\n",
       "<table border=\"1\" class=\"dataframe\">\n",
       "  <thead>\n",
       "    <tr style=\"text-align: right;\">\n",
       "      <th></th>\n",
       "      <th>price</th>\n",
       "      <th>freight_value</th>\n",
       "      <th>payment_value</th>\n",
       "      <th>total</th>\n",
       "    </tr>\n",
       "  </thead>\n",
       "  <tbody>\n",
       "    <tr>\n",
       "      <th>00010242fe8c5a6d1ba2dd792cb16214</th>\n",
       "      <td>58.90</td>\n",
       "      <td>13.29</td>\n",
       "      <td>72.19</td>\n",
       "      <td>72.19</td>\n",
       "    </tr>\n",
       "    <tr>\n",
       "      <th>00018f77f2f0320c557190d7a144bdd3</th>\n",
       "      <td>239.90</td>\n",
       "      <td>19.93</td>\n",
       "      <td>259.83</td>\n",
       "      <td>259.83</td>\n",
       "    </tr>\n",
       "    <tr>\n",
       "      <th>000229ec398224ef6ca0657da4fc703e</th>\n",
       "      <td>199.00</td>\n",
       "      <td>17.87</td>\n",
       "      <td>216.87</td>\n",
       "      <td>216.87</td>\n",
       "    </tr>\n",
       "    <tr>\n",
       "      <th>00024acbcdf0a6daa1e931b038114c75</th>\n",
       "      <td>12.99</td>\n",
       "      <td>12.79</td>\n",
       "      <td>25.78</td>\n",
       "      <td>25.78</td>\n",
       "    </tr>\n",
       "    <tr>\n",
       "      <th>00042b26cf59d7ce69dfabb4e55b4fd9</th>\n",
       "      <td>199.90</td>\n",
       "      <td>18.14</td>\n",
       "      <td>218.04</td>\n",
       "      <td>218.04</td>\n",
       "    </tr>\n",
       "  </tbody>\n",
       "</table>\n",
       "</div>"
      ],
      "text/plain": [
       "                                   price  freight_value  payment_value   total\n",
       "00010242fe8c5a6d1ba2dd792cb16214   58.90          13.29          72.19   72.19\n",
       "00018f77f2f0320c557190d7a144bdd3  239.90          19.93         259.83  259.83\n",
       "000229ec398224ef6ca0657da4fc703e  199.00          17.87         216.87  216.87\n",
       "00024acbcdf0a6daa1e931b038114c75   12.99          12.79          25.78   25.78\n",
       "00042b26cf59d7ce69dfabb4e55b4fd9  199.90          18.14         218.04  218.04"
      ]
     },
     "execution_count": 146,
     "metadata": {},
     "output_type": "execute_result"
    }
   ],
   "source": [
    "agg.head()"
   ]
  },
  {
   "cell_type": "markdown",
   "id": "258cdd75-8742-4a85-bd8e-3ff59567ac6a",
   "metadata": {},
   "source": [
    "### Vamos também criar uma coluna com o valor total da compra"
   ]
  },
  {
   "cell_type": "code",
   "execution_count": 143,
   "id": "1959216a-1cf5-4c35-9dd3-787c86ff748f",
   "metadata": {},
   "outputs": [],
   "source": [
    "agg['total'] = agg.price+agg.freight_value"
   ]
  },
  {
   "cell_type": "code",
   "execution_count": 144,
   "id": "e880baf9-8257-46d3-b8d8-a86a3be4d55d",
   "metadata": {},
   "outputs": [
    {
     "data": {
      "text/plain": [
       "order_id\n",
       "00010242fe8c5a6d1ba2dd792cb16214     72.19\n",
       "00018f77f2f0320c557190d7a144bdd3    259.83\n",
       "000229ec398224ef6ca0657da4fc703e    216.87\n",
       "00024acbcdf0a6daa1e931b038114c75     25.78\n",
       "00042b26cf59d7ce69dfabb4e55b4fd9    218.04\n",
       "                                     ...  \n",
       "fffc94f6ce00a00581880bf54a75a037    343.40\n",
       "fffcd46ef2263f404302a634eb57f7eb    386.53\n",
       "fffce4705a9662cd70adb13d4a31832d    116.85\n",
       "fffe18544ffabc95dfada21779c9644f     64.71\n",
       "fffe41c64501cc87c801fd61db3f6244     55.79\n",
       "Name: payment_value, Length: 98115, dtype: float64"
      ]
     },
     "execution_count": 144,
     "metadata": {},
     "output_type": "execute_result"
    }
   ],
   "source": [
    "agg_pagamentos"
   ]
  },
  {
   "cell_type": "markdown",
   "id": "5ed04b9a-7ebe-400d-8fe8-3865ccea2367",
   "metadata": {},
   "source": [
    "### E calculando a diferença entre os valores"
   ]
  },
  {
   "cell_type": "code",
   "execution_count": 147,
   "id": "37e3e04c-9c73-4b8e-8dc8-b186267a8227",
   "metadata": {},
   "outputs": [],
   "source": [
    "agg['Dif'] = agg.total - agg.payment_value"
   ]
  },
  {
   "cell_type": "markdown",
   "id": "2f237a65-2338-44fc-9bbc-42f389d6041f",
   "metadata": {},
   "source": [
    "### Filtrando para valores onde o valor da compra é vazio"
   ]
  },
  {
   "cell_type": "code",
   "execution_count": 148,
   "id": "e873067b-333c-4a5c-806b-f5a3cc03a9e6",
   "metadata": {},
   "outputs": [
    {
     "data": {
      "text/plain": [
       "151734.91"
      ]
     },
     "execution_count": 148,
     "metadata": {},
     "output_type": "execute_result"
    }
   ],
   "source": [
    "agg.loc[agg.price == 0,'payment_value'].sum()"
   ]
  },
  {
   "cell_type": "markdown",
   "id": "f8d86c59-6726-4206-9341-829265859b9f",
   "metadata": {},
   "source": [
    "### E aquelas colunas onde existe uma diferença entre o valor da compra e o valor pago"
   ]
  },
  {
   "cell_type": "code",
   "execution_count": 149,
   "id": "dff7fbdf-e6e3-4ab6-b8ee-a0fed3b1f98a",
   "metadata": {},
   "outputs": [
    {
     "data": {
      "text/plain": [
       "-2846.3799999999624"
      ]
     },
     "execution_count": 149,
     "metadata": {},
     "output_type": "execute_result"
    }
   ],
   "source": [
    "agg.loc[agg.price != 0,'Dif'].sum()"
   ]
  },
  {
   "cell_type": "markdown",
   "id": "9313f893-df30-4d1e-86ae-a8eaf54cef64",
   "metadata": {},
   "source": [
    "### Visualizando essa tabela"
   ]
  },
  {
   "cell_type": "code",
   "execution_count": 150,
   "id": "8b679420-eb1a-4f6a-843b-63af1a5daa87",
   "metadata": {},
   "outputs": [
    {
     "data": {
      "text/html": [
       "<div>\n",
       "<style scoped>\n",
       "    .dataframe tbody tr th:only-of-type {\n",
       "        vertical-align: middle;\n",
       "    }\n",
       "\n",
       "    .dataframe tbody tr th {\n",
       "        vertical-align: top;\n",
       "    }\n",
       "\n",
       "    .dataframe thead th {\n",
       "        text-align: right;\n",
       "    }\n",
       "</style>\n",
       "<table border=\"1\" class=\"dataframe\">\n",
       "  <thead>\n",
       "    <tr style=\"text-align: right;\">\n",
       "      <th></th>\n",
       "      <th>price</th>\n",
       "      <th>freight_value</th>\n",
       "      <th>payment_value</th>\n",
       "      <th>total</th>\n",
       "      <th>Dif</th>\n",
       "    </tr>\n",
       "  </thead>\n",
       "  <tbody>\n",
       "    <tr>\n",
       "      <th>00789ce015e7e5791c7914f32bb4fad4</th>\n",
       "      <td>154.00</td>\n",
       "      <td>14.83</td>\n",
       "      <td>190.81</td>\n",
       "      <td>168.83</td>\n",
       "      <td>-21.98</td>\n",
       "    </tr>\n",
       "    <tr>\n",
       "      <th>016726239765c18f66826453f39c64e3</th>\n",
       "      <td>219.99</td>\n",
       "      <td>15.14</td>\n",
       "      <td>265.77</td>\n",
       "      <td>235.13</td>\n",
       "      <td>-30.64</td>\n",
       "    </tr>\n",
       "    <tr>\n",
       "      <th>02f4dd90ba0feb8ec394cac05862d2b5</th>\n",
       "      <td>79.90</td>\n",
       "      <td>51.06</td>\n",
       "      <td>141.65</td>\n",
       "      <td>130.96</td>\n",
       "      <td>-10.69</td>\n",
       "    </tr>\n",
       "    <tr>\n",
       "      <th>061c97a9bd7911f9d2031e1b820c344f</th>\n",
       "      <td>299.00</td>\n",
       "      <td>16.26</td>\n",
       "      <td>329.80</td>\n",
       "      <td>315.26</td>\n",
       "      <td>-14.54</td>\n",
       "    </tr>\n",
       "    <tr>\n",
       "      <th>10a6730b0b333e2b017dd139a0530f19</th>\n",
       "      <td>97.90</td>\n",
       "      <td>29.09</td>\n",
       "      <td>143.53</td>\n",
       "      <td>126.99</td>\n",
       "      <td>-16.54</td>\n",
       "    </tr>\n",
       "    <tr>\n",
       "      <th>...</th>\n",
       "      <td>...</td>\n",
       "      <td>...</td>\n",
       "      <td>...</td>\n",
       "      <td>...</td>\n",
       "      <td>...</td>\n",
       "    </tr>\n",
       "    <tr>\n",
       "      <th>e99bb46d32c47a666290f7c5928f7236</th>\n",
       "      <td>119.99</td>\n",
       "      <td>16.60</td>\n",
       "      <td>154.38</td>\n",
       "      <td>136.59</td>\n",
       "      <td>-17.79</td>\n",
       "    </tr>\n",
       "    <tr>\n",
       "      <th>ee9dfabed586581a184f72e03544b4a2</th>\n",
       "      <td>289.00</td>\n",
       "      <td>18.50</td>\n",
       "      <td>342.12</td>\n",
       "      <td>307.50</td>\n",
       "      <td>-34.62</td>\n",
       "    </tr>\n",
       "    <tr>\n",
       "      <th>fa0d5b3cb1f2221766145a60ba18ac64</th>\n",
       "      <td>109.90</td>\n",
       "      <td>19.31</td>\n",
       "      <td>141.32</td>\n",
       "      <td>129.21</td>\n",
       "      <td>-12.11</td>\n",
       "    </tr>\n",
       "    <tr>\n",
       "      <th>faf132fb35b3b3b533a67efbd6e7c02d</th>\n",
       "      <td>89.90</td>\n",
       "      <td>25.12</td>\n",
       "      <td>130.01</td>\n",
       "      <td>115.02</td>\n",
       "      <td>-14.99</td>\n",
       "    </tr>\n",
       "    <tr>\n",
       "      <th>fd33085945f15975375cd8ec85440511</th>\n",
       "      <td>217.99</td>\n",
       "      <td>16.63</td>\n",
       "      <td>212.82</td>\n",
       "      <td>234.62</td>\n",
       "      <td>21.80</td>\n",
       "    </tr>\n",
       "  </tbody>\n",
       "</table>\n",
       "<p>92 rows × 5 columns</p>\n",
       "</div>"
      ],
      "text/plain": [
       "                                   price  freight_value  payment_value  \\\n",
       "00789ce015e7e5791c7914f32bb4fad4  154.00          14.83         190.81   \n",
       "016726239765c18f66826453f39c64e3  219.99          15.14         265.77   \n",
       "02f4dd90ba0feb8ec394cac05862d2b5   79.90          51.06         141.65   \n",
       "061c97a9bd7911f9d2031e1b820c344f  299.00          16.26         329.80   \n",
       "10a6730b0b333e2b017dd139a0530f19   97.90          29.09         143.53   \n",
       "...                                  ...            ...            ...   \n",
       "e99bb46d32c47a666290f7c5928f7236  119.99          16.60         154.38   \n",
       "ee9dfabed586581a184f72e03544b4a2  289.00          18.50         342.12   \n",
       "fa0d5b3cb1f2221766145a60ba18ac64  109.90          19.31         141.32   \n",
       "faf132fb35b3b3b533a67efbd6e7c02d   89.90          25.12         130.01   \n",
       "fd33085945f15975375cd8ec85440511  217.99          16.63         212.82   \n",
       "\n",
       "                                   total    Dif  \n",
       "00789ce015e7e5791c7914f32bb4fad4  168.83 -21.98  \n",
       "016726239765c18f66826453f39c64e3  235.13 -30.64  \n",
       "02f4dd90ba0feb8ec394cac05862d2b5  130.96 -10.69  \n",
       "061c97a9bd7911f9d2031e1b820c344f  315.26 -14.54  \n",
       "10a6730b0b333e2b017dd139a0530f19  126.99 -16.54  \n",
       "...                                  ...    ...  \n",
       "e99bb46d32c47a666290f7c5928f7236  136.59 -17.79  \n",
       "ee9dfabed586581a184f72e03544b4a2  307.50 -34.62  \n",
       "fa0d5b3cb1f2221766145a60ba18ac64  129.21 -12.11  \n",
       "faf132fb35b3b3b533a67efbd6e7c02d  115.02 -14.99  \n",
       "fd33085945f15975375cd8ec85440511  234.62  21.80  \n",
       "\n",
       "[92 rows x 5 columns]"
      ]
     },
     "execution_count": 150,
     "metadata": {},
     "output_type": "execute_result"
    }
   ],
   "source": [
    "agg.loc[(abs(agg.Dif) > 10) & (agg.price !=0)]"
   ]
  },
  {
   "cell_type": "code",
   "execution_count": null,
   "id": "09c08c2c-caef-4810-a3bd-a67d57177599",
   "metadata": {},
   "outputs": [],
   "source": []
  }
 ],
 "metadata": {
  "kernelspec": {
   "display_name": "Python 3 (ipykernel)",
   "language": "python",
   "name": "python3"
  },
  "language_info": {
   "codemirror_mode": {
    "name": "ipython",
    "version": 3
   },
   "file_extension": ".py",
   "mimetype": "text/x-python",
   "name": "python",
   "nbconvert_exporter": "python",
   "pygments_lexer": "ipython3",
   "version": "3.9.12"
  }
 },
 "nbformat": 4,
 "nbformat_minor": 5
}
