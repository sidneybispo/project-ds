{
 "cells": [
  {
   "cell_type": "markdown",
   "metadata": {},
   "source": [
    "# Analisando as vendas da empresa\n",
    "- Vamos utilizar a base disponível em:\n",
    "    - https://www.kaggle.com/datasets/olistbr/brazilian-ecommerce?select=olist_customers_dataset.csv\n",
    "    - Essa é uma base de dados real, porém anonimizada\n",
    "- Fizemos alguns tratamentos nos dados e disponibilizamos em 3 arquivos:\n",
    "    - `base_vendas.xlsx`: todos os dados de venda por item da empresa, onde cada linha representa 1 item vendido\n",
    "    - `base_pagamentos.xlsx`: base com as formas de pagamento usado naquela compra\n",
    "    - `olist_order_reviews_dataset.csv`: base com o review dos pedidos, exatamente como baixada do Kaggle, onde cada linha representa a avaliação de uma pedido"
   ]
  },
  {
   "cell_type": "markdown",
   "metadata": {},
   "source": [
    "## Importando e entendendo as bases"
   ]
  },
  {
   "cell_type": "code",
   "execution_count": null,
   "metadata": {},
   "outputs": [],
   "source": [
    "# Importando o pandas\n",
    "import pandas as pd"
   ]
  },
  {
   "cell_type": "code",
   "execution_count": null,
   "metadata": {},
   "outputs": [],
   "source": [
    "# Importando a base de vendas\n",
    "vendas = pd.read_excel('base_vendas.xlsx')"
   ]
  },
  {
   "cell_type": "code",
   "execution_count": null,
   "metadata": {},
   "outputs": [],
   "source": [
    "# Visualizando as 3 primeiras linhas\n",
    "vendas.head(3)"
   ]
  },
  {
   "cell_type": "code",
   "execution_count": null,
   "metadata": {},
   "outputs": [],
   "source": [
    "# Verificando as informações da base\n",
    "vendas.info()"
   ]
  },
  {
   "cell_type": "code",
   "execution_count": null,
   "metadata": {},
   "outputs": [],
   "source": [
    "# Também analisando as informações estatísticas\n",
    "vendas.describe()"
   ]
  },
  {
   "cell_type": "code",
   "execution_count": null,
   "metadata": {},
   "outputs": [],
   "source": [
    "# Importando a base de pagamentos\n",
    "pagamentos = pd.read_excel('base_pagamentos.xlsx')"
   ]
  },
  {
   "cell_type": "code",
   "execution_count": null,
   "metadata": {},
   "outputs": [],
   "source": [
    "# Visualizando as 3 primeiras linhas dessa base\n",
    "pagamentos.head(3)"
   ]
  },
  {
   "cell_type": "code",
   "execution_count": null,
   "metadata": {},
   "outputs": [],
   "source": [
    "# E também as informações\n",
    "pagamentos.info()"
   ]
  },
  {
   "cell_type": "code",
   "execution_count": null,
   "metadata": {},
   "outputs": [],
   "source": [
    "# Também analisando as informações estatísticas\n",
    "pagamentos.describe()"
   ]
  },
  {
   "cell_type": "markdown",
   "metadata": {},
   "source": [
    "## Verificando as principais informações dessas bases"
   ]
  },
  {
   "cell_type": "markdown",
   "metadata": {},
   "source": [
    "### Sobre os pagamentos"
   ]
  },
  {
   "cell_type": "code",
   "execution_count": null,
   "metadata": {},
   "outputs": [],
   "source": [
    "# Visualizando novamente a base\n",
    "pagamentos.head(2)"
   ]
  },
  {
   "cell_type": "code",
   "execution_count": null,
   "metadata": {},
   "outputs": [],
   "source": [
    "# Quais as dimensões dessa base?\n",
    "pagamentos.shape"
   ]
  },
  {
   "cell_type": "code",
   "execution_count": null,
   "metadata": {},
   "outputs": [],
   "source": [
    "# Como eu poderia pegar apenas uma coluna dessa base?\n",
    "pagamentos.payment_type"
   ]
  },
  {
   "cell_type": "code",
   "execution_count": null,
   "metadata": {},
   "outputs": [],
   "source": [
    "# Qual foi o total de transações nessas vendas?\n",
    "pagamentos.payment_type.count()"
   ]
  },
  {
   "cell_type": "code",
   "execution_count": null,
   "metadata": {},
   "outputs": [],
   "source": [
    "# Como podemos contar a quantidade de vendas por cada tipo de pagamento?\n",
    "pagamentos.payment_type.value_counts()"
   ]
  },
  {
   "cell_type": "markdown",
   "metadata": {},
   "source": [
    "**Obs: nesse caso vamos assumir que se em uma transação teve mais de 1 tipo de pagamento, vamos considerar a contagem de cada um deles, mesmo que sejam do mesmo tipo**"
   ]
  },
  {
   "cell_type": "code",
   "execution_count": null,
   "metadata": {},
   "outputs": [],
   "source": [
    "# Como eu poderia calcular o % de transação por tipo de pagamento?\n",
    "\n",
    "# Salvando o total de transações em uma variável\n",
    "transacoes_total = pagamentos.payment_type.count()\n",
    "\n",
    "# E as transações por tipo de pagamentos em outra\n",
    "transacoes_tipo = pagamentos.payment_type.value_counts()\n",
    "\n",
    "# Podemos dividir as transações por cada tipo pelo total e multiplicar por 100\n",
    "round((transacoes_tipo/transacoes_total)*100,2)"
   ]
  },
  {
   "cell_type": "code",
   "execution_count": null,
   "metadata": {},
   "outputs": [],
   "source": [
    "# Como eu poderia acessar a quantidade de transações por cartão de crédito?\n",
    "transacoes_tipo.credit_card"
   ]
  },
  {
   "cell_type": "code",
   "execution_count": null,
   "metadata": {},
   "outputs": [],
   "source": [
    "# E a quantidade de transações por boleto?\n",
    "transacoes_tipo.boleto"
   ]
  },
  {
   "cell_type": "code",
   "execution_count": null,
   "metadata": {},
   "outputs": [],
   "source": [
    "# Quantas vezes maior é o número de transações por cartão de crédito?\n",
    "transacoes_tipo.credit_card/transacoes_tipo.boleto"
   ]
  },
  {
   "cell_type": "code",
   "execution_count": null,
   "metadata": {},
   "outputs": [],
   "source": [
    "# E como seria possível exibir o tipo de pagamento de forma visual?\n",
    "transacoes_tipo.plot();"
   ]
  },
  {
   "cell_type": "code",
   "execution_count": null,
   "metadata": {},
   "outputs": [],
   "source": [
    "# E se eu quiser mostrar como um gráfico de barras?\n",
    "transacoes_tipo.plot.bar();"
   ]
  },
  {
   "cell_type": "code",
   "execution_count": null,
   "metadata": {},
   "outputs": [],
   "source": [
    "# E podemos salvar isso como imagem para então colocar em um Power Point\n",
    "\n",
    "# Primeiro vamos importar o matplotlib\n",
    "import matplotlib.pyplot as plt\n",
    "\n",
    "# E então salvar essa figura\n",
    "transacoes_tipo.plot.bar();\n",
    "plt.savefig('transacoes_tipo')"
   ]
  },
  {
   "cell_type": "markdown",
   "metadata": {},
   "source": [
    "**Podemos também ajustar os parâmetros da imagem**\n",
    "- https://matplotlib.org/stable/api/_as_gen/matplotlib.pyplot.savefig.html"
   ]
  },
  {
   "cell_type": "code",
   "execution_count": null,
   "metadata": {},
   "outputs": [],
   "source": [
    "# Podemos ajustar a figura que exportamos e retirar os fundos\n",
    "transacoes_tipo.plot.bar();\n",
    "plt.savefig('transacoes_tipo',bbox_inches='tight',transparent=True)"
   ]
  },
  {
   "cell_type": "code",
   "execution_count": null,
   "metadata": {},
   "outputs": [],
   "source": [
    "# Agora vamos usar o .value_counts() com o número de parcelas\n",
    "pagamentos.payment_installments.value_counts()"
   ]
  },
  {
   "cell_type": "code",
   "execution_count": null,
   "metadata": {},
   "outputs": [],
   "source": [
    "# Vamos novamente visualizar a base\n",
    "pagamentos.head(5)"
   ]
  },
  {
   "cell_type": "code",
   "execution_count": null,
   "metadata": {},
   "outputs": [],
   "source": [
    "# Vamos, antes de fazer o .value_counts(), filtrar a base apenas para transações em crédito\n",
    "pagamentos.loc[pagamentos.payment_type == 'credit_card']"
   ]
  },
  {
   "cell_type": "code",
   "execution_count": null,
   "metadata": {},
   "outputs": [],
   "source": [
    "# Agora vamos pegar apenas a coluna de número de parcelas\n",
    "pagamentos.loc[pagamentos.payment_type == 'credit_card','payment_installments']"
   ]
  },
  {
   "cell_type": "code",
   "execution_count": null,
   "metadata": {},
   "outputs": [],
   "source": [
    "# E só então fazer o .value_counts()\n",
    "pagamentos.loc[pagamentos.payment_type == 'credit_card','payment_installments'].value_counts()"
   ]
  },
  {
   "cell_type": "code",
   "execution_count": null,
   "metadata": {},
   "outputs": [],
   "source": [
    "# Para visualizar melhor podemos ordenar pelo index usando o .sort_index()\n",
    "pagamento_parcelado = pagamentos.loc[pagamentos.payment_type == \n",
    "                                     'credit_card','payment_installments'].value_counts().sort_index()"
   ]
  },
  {
   "cell_type": "code",
   "execution_count": null,
   "metadata": {},
   "outputs": [],
   "source": [
    "# Podemos também visualizar de forma gráfica\n",
    "pagamento_parcelado.plot.bar(figsize=(10,5));"
   ]
  },
  {
   "cell_type": "code",
   "execution_count": null,
   "metadata": {},
   "outputs": [],
   "source": [
    "# E exportar essa figura\n",
    "pagamento_parcelado.plot.bar(figsize=(10,5));\n",
    "plt.savefig('transacoes_parcelas',bbox_inches='tight',transparent=True)"
   ]
  },
  {
   "cell_type": "code",
   "execution_count": null,
   "metadata": {},
   "outputs": [],
   "source": [
    "# Como eu poderia calcular o % de cada quantidade de parcelas?\n",
    "\n",
    "# Salvando o total de transações parceladas em uma variável\n",
    "total_parcelado = pagamento_parcelado.sum()\n",
    "\n",
    "# E o número de parcelas em outra\n",
    "pagamento_parcelado\n",
    "\n",
    "# Visualizando em %\n",
    "round((pagamento_parcelado/total_parcelado)*100,2)"
   ]
  },
  {
   "cell_type": "code",
   "execution_count": null,
   "metadata": {},
   "outputs": [],
   "source": [
    "# E também podemos visualizar esse valor de forma gráfica\n",
    "round((pagamento_parcelado/total_parcelado)*100,2).plot.bar();"
   ]
  },
  {
   "cell_type": "markdown",
   "metadata": {},
   "source": [
    "**Agora vamos começar a analisar o valor das parcelas**"
   ]
  },
  {
   "cell_type": "code",
   "execution_count": null,
   "metadata": {},
   "outputs": [],
   "source": [
    "# Relembrando, verificando a quantidade comprada\n",
    "pagamentos.payment_value.count()"
   ]
  },
  {
   "cell_type": "code",
   "execution_count": null,
   "metadata": {},
   "outputs": [],
   "source": [
    "# E agora vendo o valor total da compra\n",
    "pagamentos.payment_value.sum()"
   ]
  },
  {
   "cell_type": "code",
   "execution_count": null,
   "metadata": {},
   "outputs": [],
   "source": [
    "# Calculando o valor médio da parcela\n",
    "pagamentos.payment_value.sum()/pagamentos.payment_value.count()"
   ]
  },
  {
   "cell_type": "code",
   "execution_count": null,
   "metadata": {},
   "outputs": [],
   "source": [
    "# Calculando diretamente a média\n",
    "pagamentos.payment_value.mean()"
   ]
  },
  {
   "cell_type": "code",
   "execution_count": null,
   "metadata": {},
   "outputs": [],
   "source": [
    "pagamentos.head()"
   ]
  },
  {
   "cell_type": "code",
   "execution_count": null,
   "metadata": {},
   "outputs": [],
   "source": [
    "# Qual seria a média por tipo de pagamento?\n",
    "pagamentos.groupby('payment_type')['payment_value'].mean()"
   ]
  },
  {
   "cell_type": "code",
   "execution_count": null,
   "metadata": {},
   "outputs": [],
   "source": [
    "# Qual seria o valor total por tipo de pagamento?\n",
    "pagamentos.groupby('payment_type')['payment_value'].sum().sort_values(ascending=False)"
   ]
  },
  {
   "cell_type": "code",
   "execution_count": null,
   "metadata": {},
   "outputs": [],
   "source": [
    "# Visualizando de forma gráfica\n",
    "pagamentos.groupby('payment_type')['payment_value'].sum().sort_values(ascending=False).plot.bar();"
   ]
  },
  {
   "cell_type": "code",
   "execution_count": null,
   "metadata": {
    "scrolled": true
   },
   "outputs": [],
   "source": [
    "# Exportando esse visual\n",
    "pagamentos.groupby('payment_type')['payment_value'].sum().sort_values(ascending=False).plot.bar();\n",
    "plt.savefig('transacoes_valor',bbox_inches='tight',transparent=True)"
   ]
  },
  {
   "cell_type": "code",
   "execution_count": null,
   "metadata": {},
   "outputs": [],
   "source": [
    "pagamentos.head(2)"
   ]
  },
  {
   "cell_type": "code",
   "execution_count": null,
   "metadata": {},
   "outputs": [],
   "source": [
    "# Será que a média em 10 parcelas é maior que nos outros parcelamentos?\n",
    "pagamentos[pagamentos.payment_type == 'credit_card'].groupby('payment_installments')['payment_value'].mean()"
   ]
  },
  {
   "cell_type": "markdown",
   "metadata": {},
   "source": [
    "### Sobre as vendas"
   ]
  },
  {
   "cell_type": "code",
   "execution_count": null,
   "metadata": {},
   "outputs": [],
   "source": [
    "# Visualizando novamente a base\n",
    "vendas.head(3)"
   ]
  },
  {
   "cell_type": "code",
   "execution_count": null,
   "metadata": {},
   "outputs": [],
   "source": [
    "# Verificando se existem valores nulos\n",
    "vendas.isnull().sum()"
   ]
  },
  {
   "cell_type": "code",
   "execution_count": null,
   "metadata": {},
   "outputs": [],
   "source": [
    "# Verificando a soma do preço pago pelo cliente\n",
    "preco = vendas.price.sum()"
   ]
  },
  {
   "cell_type": "code",
   "execution_count": null,
   "metadata": {},
   "outputs": [],
   "source": [
    "# Relembrando a soma do valor total na base de pagamentos\n",
    "pagamentos.payment_value.sum()"
   ]
  },
  {
   "cell_type": "code",
   "execution_count": null,
   "metadata": {},
   "outputs": [],
   "source": [
    "# Essa diferença é dada pelo frete?\n",
    "frete = vendas.freight_value.sum()"
   ]
  },
  {
   "cell_type": "code",
   "execution_count": null,
   "metadata": {},
   "outputs": [],
   "source": [
    "# Somando esses dois valores\n",
    "preco+frete"
   ]
  },
  {
   "cell_type": "code",
   "execution_count": null,
   "metadata": {},
   "outputs": [],
   "source": [
    "# Então vamos entender os valores onde o preço é nulo\n",
    "vendas.loc[vendas.price.isnull(),'order_id']"
   ]
  },
  {
   "cell_type": "code",
   "execution_count": null,
   "metadata": {},
   "outputs": [],
   "source": [
    "# Podemos olhar esses ids na tabela de pagamentos de forma manual\n",
    "pagamentos[pagamentos.order_id == '8e24261a7e58791d10cb1bf9da94df5c']"
   ]
  },
  {
   "cell_type": "code",
   "execution_count": null,
   "metadata": {},
   "outputs": [],
   "source": [
    "# Para analisar de forma mais escalável, podemos utilizar o .isin() para filtrar todos esses ids\n",
    "\n",
    "# Selecionando todos os order_ids onde o preço é nulo\n",
    "ids = vendas.loc[vendas.price.isnull(),'order_id']\n",
    "\n",
    "# Filtrando esses ids na base de pagamento\n",
    "pagamentos[pagamentos.order_id.isin(ids)]"
   ]
  },
  {
   "cell_type": "code",
   "execution_count": null,
   "metadata": {},
   "outputs": [],
   "source": [
    "# Qual o valor total desses ids?\n",
    "diferenca_nulos = pagamentos.loc[pagamentos.order_id.isin(ids),'payment_value'].sum()"
   ]
  },
  {
   "cell_type": "code",
   "execution_count": null,
   "metadata": {},
   "outputs": [],
   "source": [
    "# Já encontramos toda a diferença?\n",
    "preco+frete+diferenca_nulos"
   ]
  },
  {
   "cell_type": "markdown",
   "metadata": {},
   "source": [
    "**Exemplos de ordens:**<br>\n",
    "- ce6d150fb29ada17d2082f4847107665\n",
    "- 70b742795bc441e94a44a084b6d9ce7a\n",
    "- 996c7e73600ad3723e8627ab7bef81e4"
   ]
  },
  {
   "cell_type": "code",
   "execution_count": null,
   "metadata": {},
   "outputs": [],
   "source": [
    "# Verificando essa ordem na base de vendas\n",
    "vendas[vendas.order_id == 'ce6d150fb29ada17d2082f4847107665']"
   ]
  },
  {
   "cell_type": "code",
   "execution_count": null,
   "metadata": {},
   "outputs": [],
   "source": [
    "1299.0+104.66"
   ]
  },
  {
   "cell_type": "code",
   "execution_count": null,
   "metadata": {},
   "outputs": [],
   "source": [
    "# Agora verificando na base de pagamentos\n",
    "pagamentos[pagamentos.order_id == 'ce6d150fb29ada17d2082f4847107665']"
   ]
  },
  {
   "cell_type": "code",
   "execution_count": null,
   "metadata": {},
   "outputs": [],
   "source": [
    "# Retirando da base de vendas valores com o preço igual a nulo\n",
    "vendas = vendas[vendas.price.notnull()]"
   ]
  },
  {
   "cell_type": "code",
   "execution_count": null,
   "metadata": {},
   "outputs": [],
   "source": [
    "# Verificando novamente os valores nulos\n",
    "vendas.isnull().sum()"
   ]
  },
  {
   "cell_type": "code",
   "execution_count": null,
   "metadata": {},
   "outputs": [],
   "source": [
    "# Entendendo os status com a coluna order_delivered_customer_date nula\n",
    "vendas[vendas.order_delivered_customer_date.isnull()]"
   ]
  },
  {
   "cell_type": "code",
   "execution_count": null,
   "metadata": {},
   "outputs": [],
   "source": [
    "# Verificando todos os status\n",
    "vendas.loc[vendas.order_delivered_customer_date.isnull(),'order_status'].value_counts()"
   ]
  },
  {
   "cell_type": "code",
   "execution_count": null,
   "metadata": {},
   "outputs": [],
   "source": [
    "# Retirando vendas onde o status seja cancelado\n",
    "vendas = vendas[vendas.order_status != 'canceled']"
   ]
  },
  {
   "cell_type": "code",
   "execution_count": null,
   "metadata": {},
   "outputs": [],
   "source": [
    "# Verificando novamente os valores nulos\n",
    "vendas.isnull().sum()"
   ]
  },
  {
   "cell_type": "markdown",
   "metadata": {},
   "source": [
    "**Podemos substituir produtos sem categoria por \"Outros\"**"
   ]
  },
  {
   "cell_type": "code",
   "execution_count": null,
   "metadata": {},
   "outputs": [],
   "source": [
    "# Primeiro filtrando a base apenas para produtos sem categoria\n",
    "vendas[vendas.product_category_name.isnull()]"
   ]
  },
  {
   "cell_type": "code",
   "execution_count": null,
   "metadata": {},
   "outputs": [],
   "source": [
    "# Agora vamos pegar apenas a coluna de categoria\n",
    "vendas.loc[vendas.product_category_name.isnull(),'product_category_name']"
   ]
  },
  {
   "cell_type": "code",
   "execution_count": null,
   "metadata": {},
   "outputs": [],
   "source": [
    "# E então atribuir o valor outros\n",
    "vendas.loc[vendas.product_category_name.isnull(),'product_category_name'] = 'outros'"
   ]
  },
  {
   "cell_type": "code",
   "execution_count": null,
   "metadata": {},
   "outputs": [],
   "source": [
    "# Quantos valores nulos ainda temos?\n",
    "vendas.isnull().sum()"
   ]
  },
  {
   "cell_type": "markdown",
   "metadata": {},
   "source": [
    "**Depois de tratar valores vazios, podemos começar a visualizar as informações dessa base**"
   ]
  },
  {
   "cell_type": "code",
   "execution_count": null,
   "metadata": {},
   "outputs": [],
   "source": [
    "vendas.head(3)"
   ]
  },
  {
   "cell_type": "code",
   "execution_count": null,
   "metadata": {},
   "outputs": [],
   "source": [
    "# Verificando a soma da venda por dia\n",
    "vendas.groupby('order_purchase_timestamp')['price'].sum()"
   ]
  },
  {
   "cell_type": "code",
   "execution_count": null,
   "metadata": {},
   "outputs": [],
   "source": [
    "# Mostrando de forma gráfica\n",
    "vendas.groupby('order_purchase_timestamp')['price'].sum().plot();"
   ]
  },
  {
   "cell_type": "code",
   "execution_count": null,
   "metadata": {},
   "outputs": [],
   "source": [
    "# Também podemos visualizar esses dados em um boxplot\n",
    "vendas.groupby('order_purchase_timestamp')['price'].sum().plot.box();"
   ]
  },
  {
   "cell_type": "markdown",
   "metadata": {},
   "source": [
    "**Vamos tentar isolar o período que temos um valor muito discrepante do resto**"
   ]
  },
  {
   "cell_type": "code",
   "execution_count": null,
   "metadata": {},
   "outputs": [],
   "source": [
    "# Importando o datetime para nos ajudar a trabalhar com datas\n",
    "import datetime as dt"
   ]
  },
  {
   "cell_type": "code",
   "execution_count": null,
   "metadata": {},
   "outputs": [],
   "source": [
    "# E agora fazendo um filtro da base exatamente nesse período\n",
    "vendas[(vendas.order_purchase_timestamp >= dt.datetime(2017,11,18)) &\n",
    "       (vendas.order_purchase_timestamp <= dt.datetime(2017,11,27))\n",
    "      ].groupby('order_purchase_timestamp')['price'].sum().plot();"
   ]
  },
  {
   "cell_type": "code",
   "execution_count": null,
   "metadata": {},
   "outputs": [],
   "source": [
    "# Eliminando essa data discrepante\n",
    "vendas = vendas[vendas.order_purchase_timestamp != dt.datetime(2017,11,24)]"
   ]
  },
  {
   "cell_type": "code",
   "execution_count": null,
   "metadata": {},
   "outputs": [],
   "source": [
    "# E novamente visualizando a base\n",
    "vendas.groupby('order_purchase_timestamp')['price'].sum().plot();"
   ]
  },
  {
   "cell_type": "code",
   "execution_count": null,
   "metadata": {},
   "outputs": [],
   "source": [
    "# Podemos novamente fazer o boxplot\n",
    "vendas.groupby('order_purchase_timestamp')['price'].sum().plot.box();"
   ]
  },
  {
   "cell_type": "code",
   "execution_count": null,
   "metadata": {},
   "outputs": [],
   "source": [
    "# E novamente filtrar o período discrepante\n",
    "vendas[(vendas.order_purchase_timestamp >= dt.datetime(2017,11,18)) &\n",
    "       (vendas.order_purchase_timestamp <= dt.datetime(2017,11,27))\n",
    "      ].groupby('order_purchase_timestamp')['price'].sum().plot();"
   ]
  },
  {
   "cell_type": "code",
   "execution_count": null,
   "metadata": {},
   "outputs": [],
   "source": [
    "# E então também eliminar o dia 25/11/2017\n",
    "vendas = vendas[vendas.order_purchase_timestamp != dt.datetime(2017,11,25)]"
   ]
  },
  {
   "cell_type": "code",
   "execution_count": null,
   "metadata": {},
   "outputs": [],
   "source": [
    "# Visualizando novamente a base\n",
    "vendas.groupby('order_purchase_timestamp')['price'].sum().plot();"
   ]
  },
  {
   "cell_type": "code",
   "execution_count": null,
   "metadata": {},
   "outputs": [],
   "source": [
    "# E o boxplot desses dados\n",
    "vendas.groupby('order_purchase_timestamp')['price'].sum().plot.box();"
   ]
  },
  {
   "cell_type": "code",
   "execution_count": null,
   "metadata": {},
   "outputs": [],
   "source": [
    "# Filtrando o período discrepante em agosto\n",
    "vendas[(vendas.order_purchase_timestamp >= dt.datetime(2018,8,1)) &\n",
    "       (vendas.order_purchase_timestamp <= dt.datetime(2018,8,30))\n",
    "      ].groupby('order_purchase_timestamp')['price'].sum().plot();"
   ]
  },
  {
   "cell_type": "code",
   "execution_count": null,
   "metadata": {},
   "outputs": [],
   "source": [
    "# E o período em junho\n",
    "vendas[(vendas.order_purchase_timestamp >= dt.datetime(2018,6,1)) &\n",
    "       (vendas.order_purchase_timestamp <= dt.datetime(2018,6,30))\n",
    "      ].groupby('order_purchase_timestamp')['price'].sum().plot();"
   ]
  },
  {
   "cell_type": "code",
   "execution_count": null,
   "metadata": {},
   "outputs": [],
   "source": [
    "# Visualizando também o período com baixas vendas\n",
    "vendas[(vendas.order_purchase_timestamp >= dt.datetime(2017,12,1)) &\n",
    "       (vendas.order_purchase_timestamp <= dt.datetime(2018,1,15))\n",
    "      ].groupby('order_purchase_timestamp')['price'].sum().plot();"
   ]
  },
  {
   "cell_type": "code",
   "execution_count": null,
   "metadata": {},
   "outputs": [],
   "source": [
    "# Agora podemos responder outras perguntas como:\n",
    "# Existe concentração de venda por estado?\n",
    "vendas.groupby('customer_state')['price'].sum().sort_values(ascending=False).plot.bar();"
   ]
  },
  {
   "cell_type": "code",
   "execution_count": null,
   "metadata": {},
   "outputs": [],
   "source": [
    "# Agora também podemos ver a venda quantidade em relação ao tempo\n",
    "vendas.groupby('order_purchase_timestamp')['price'].count().plot();"
   ]
  },
  {
   "cell_type": "markdown",
   "metadata": {},
   "source": [
    "**Observe a ordem 1b15974a0141d54e36626dca3fdc731a**"
   ]
  },
  {
   "cell_type": "code",
   "execution_count": null,
   "metadata": {},
   "outputs": [],
   "source": [
    "# Contando quantas vezes essa ordem aparece\n",
    "vendas[vendas.order_id == '1b15974a0141d54e36626dca3fdc731a']"
   ]
  },
  {
   "cell_type": "code",
   "execution_count": null,
   "metadata": {},
   "outputs": [],
   "source": [
    "# Visualizando essa ordem\n",
    "vendas[vendas.order_id == '1b15974a0141d54e36626dca3fdc731a']"
   ]
  },
  {
   "cell_type": "code",
   "execution_count": null,
   "metadata": {},
   "outputs": [],
   "source": [
    "# Podemos isolar apenas a base de ordens e datas do pedido\n",
    "vendas.loc[vendas.order_id == '1b15974a0141d54e36626dca3fdc731a',['order_id','order_purchase_timestamp']]"
   ]
  },
  {
   "cell_type": "code",
   "execution_count": null,
   "metadata": {},
   "outputs": [],
   "source": [
    "# E então eliminar os valores duplicados dessa base\n",
    "vendas.loc[vendas.order_id == '1b15974a0141d54e36626dca3fdc731a',['order_id','order_purchase_timestamp']].drop_duplicates()"
   ]
  },
  {
   "cell_type": "code",
   "execution_count": null,
   "metadata": {},
   "outputs": [],
   "source": [
    "vendas_qtd = vendas[['order_id','order_purchase_timestamp']]\n",
    "vendas_qtd = vendas_qtd.drop_duplicates()"
   ]
  },
  {
   "cell_type": "code",
   "execution_count": null,
   "metadata": {},
   "outputs": [],
   "source": [
    "# Agora observe novamente essa ordem\n",
    "vendas_qtd[vendas_qtd.order_id == '1b15974a0141d54e36626dca3fdc731a']"
   ]
  },
  {
   "cell_type": "code",
   "execution_count": null,
   "metadata": {},
   "outputs": [],
   "source": [
    "# Dessa forma, podemos traçar esse gráfico de forma correta\n",
    "vendas.groupby('order_purchase_timestamp')['order_id'].count().plot();"
   ]
  },
  {
   "cell_type": "markdown",
   "metadata": {},
   "source": [
    "**Podemos também filtrar a base de venda valor já tratada para alguma categoria específica**"
   ]
  },
  {
   "cell_type": "code",
   "execution_count": null,
   "metadata": {},
   "outputs": [],
   "source": [
    "# Verificando as categorias mais frequentes\n",
    "vendas.groupby('product_category_name')['price'].count().sort_values(ascending=False)"
   ]
  },
  {
   "cell_type": "code",
   "execution_count": null,
   "metadata": {},
   "outputs": [],
   "source": [
    "# Verificando por valor vendido\n",
    "vendas.groupby('product_category_name')['price'].sum().sort_values(ascending=False)"
   ]
  },
  {
   "cell_type": "code",
   "execution_count": null,
   "metadata": {},
   "outputs": [],
   "source": [
    "# Fazendo a soma de apenas uma categoria\n",
    "categoria = 'cama_mesa_banho'\n",
    "vendas[vendas.product_category_name == categoria].groupby('order_purchase_timestamp')['price'].sum().plot();"
   ]
  },
  {
   "cell_type": "markdown",
   "metadata": {},
   "source": [
    "**Também podemos calcular as informações da entrega**"
   ]
  },
  {
   "cell_type": "code",
   "execution_count": null,
   "metadata": {},
   "outputs": [],
   "source": [
    "# Visualizando a base\n",
    "vendas.head()"
   ]
  },
  {
   "cell_type": "code",
   "execution_count": null,
   "metadata": {},
   "outputs": [],
   "source": [
    "# Calculando a diferença, em dias, entre a entrega estimada e a entrega realizada\n",
    "(vendas.order_estimated_delivery_date - vendas.order_delivered_customer_date).dt.days"
   ]
  },
  {
   "cell_type": "code",
   "execution_count": null,
   "metadata": {},
   "outputs": [],
   "source": [
    "# Criando uma variável na base com esse valor\n",
    "vendas['DifDias'] = (vendas.order_estimated_delivery_date - vendas.order_delivered_customer_date).dt.days"
   ]
  },
  {
   "cell_type": "code",
   "execution_count": null,
   "metadata": {},
   "outputs": [],
   "source": [
    "vendas.head(3)"
   ]
  },
  {
   "cell_type": "code",
   "execution_count": null,
   "metadata": {},
   "outputs": [],
   "source": [
    "# Visualizando a média dos dias de entrega\n",
    "vendas.groupby('order_purchase_timestamp')['DifDias'].mean().plot();"
   ]
  },
  {
   "cell_type": "code",
   "execution_count": null,
   "metadata": {},
   "outputs": [],
   "source": [
    "# Visualizando o mínimo dos dias de entrega\n",
    "vendas.groupby('order_purchase_timestamp')['DifDias'].min().plot();"
   ]
  },
  {
   "cell_type": "code",
   "execution_count": null,
   "metadata": {},
   "outputs": [],
   "source": [
    "# Podemos então criar uma nova coluna definindo se a entrega atrasou ou não\n",
    "vendas['FlagAtraso'] = vendas.DifDias.apply(lambda x: 1 if(x<0) else 0)"
   ]
  },
  {
   "cell_type": "code",
   "execution_count": null,
   "metadata": {},
   "outputs": [],
   "source": [
    "# Filtrando apenas as colunas de pedido, entrega e as novas colunas criadas\n",
    "verifica_datas = vendas[['order_estimated_delivery_date','order_delivered_customer_date','DifDias','FlagAtraso']]"
   ]
  },
  {
   "cell_type": "code",
   "execution_count": null,
   "metadata": {},
   "outputs": [],
   "source": [
    "# Filtrando apenas order_estimated_delivery_date > order_delivered_customer_date\n",
    "verifica_datas[verifica_datas.order_estimated_delivery_date \n",
    "               > verifica_datas.order_delivered_customer_date]"
   ]
  },
  {
   "cell_type": "code",
   "execution_count": null,
   "metadata": {},
   "outputs": [],
   "source": [
    "# Verificando os valores na coluna entrega\n",
    "verifica_datas.loc[verifica_datas.order_estimated_delivery_date \n",
    "               < verifica_datas.order_delivered_customer_date,'DifDias'].value_counts().sort_index()"
   ]
  },
  {
   "cell_type": "code",
   "execution_count": null,
   "metadata": {},
   "outputs": [],
   "source": [
    "# Verificando os valores na coluna Flag Atraso\n",
    "verifica_datas.loc[verifica_datas.order_estimated_delivery_date \n",
    "               == verifica_datas.order_delivered_customer_date,'FlagAtraso'].value_counts().sort_index()"
   ]
  },
  {
   "cell_type": "code",
   "execution_count": null,
   "metadata": {},
   "outputs": [],
   "source": [
    "# Verificando os atrasos por dia\n",
    "vendas[(vendas.FlagAtraso == 1) & (vendas.order_delivered_customer_date.notnull())].groupby('order_purchase_timestamp')['FlagAtraso'].count().plot();"
   ]
  },
  {
   "cell_type": "code",
   "execution_count": null,
   "metadata": {},
   "outputs": [],
   "source": [
    "# Verificando os atrasos por ano e mês\n",
    "vendas[(vendas.FlagAtraso == 1) & (vendas.order_delivered_customer_date.notnull())].groupby('ano_mes')['FlagAtraso'].count().plot.bar();"
   ]
  },
  {
   "cell_type": "markdown",
   "metadata": {},
   "source": [
    "### A análise da diferença dos valores"
   ]
  },
  {
   "cell_type": "code",
   "execution_count": null,
   "metadata": {},
   "outputs": [],
   "source": [
    "vendas = pd.read_excel('base_vendas.xlsx')"
   ]
  },
  {
   "cell_type": "code",
   "execution_count": null,
   "metadata": {},
   "outputs": [],
   "source": [
    "pagamentos = pd.read_excel('base_pagamentos.xlsx')"
   ]
  },
  {
   "cell_type": "code",
   "execution_count": null,
   "metadata": {},
   "outputs": [],
   "source": [
    "# Podemos agregar a base de vendas pelo preço e frete\n",
    "agg_vendas = vendas.groupby('order_id')[['price','freight_value']].sum()"
   ]
  },
  {
   "cell_type": "code",
   "execution_count": null,
   "metadata": {},
   "outputs": [],
   "source": [
    "# E agregar a base de pagamentos pelo valor pago\n",
    "agg_pagamentos = pagamentos.groupby('order_id')['payment_value'].sum()"
   ]
  },
  {
   "cell_type": "code",
   "execution_count": null,
   "metadata": {},
   "outputs": [],
   "source": [
    "# Concatenando essas duas bases\n",
    "agg = pd.concat([agg_vendas,agg_pagamentos],axis=1)\n",
    "agg.head()"
   ]
  },
  {
   "cell_type": "code",
   "execution_count": null,
   "metadata": {},
   "outputs": [],
   "source": [
    "agg.index.name = None"
   ]
  },
  {
   "cell_type": "code",
   "execution_count": null,
   "metadata": {},
   "outputs": [],
   "source": [
    "agg"
   ]
  },
  {
   "cell_type": "code",
   "execution_count": null,
   "metadata": {},
   "outputs": [],
   "source": [
    "# Vamos também criar uma coluna para calcular o valor total da compra\n",
    "agg['total'] = agg.price+agg.freight_value"
   ]
  },
  {
   "cell_type": "code",
   "execution_count": null,
   "metadata": {},
   "outputs": [],
   "source": [
    "# E calculando a diferença entre os valores\n",
    "agg['Dif'] = agg.total - agg.payment_value"
   ]
  },
  {
   "cell_type": "code",
   "execution_count": null,
   "metadata": {},
   "outputs": [],
   "source": [
    "# Filtrando para valores onde o valor da compra é vazio\n",
    "agg.loc[agg.price == 0,'payment_value'].sum()"
   ]
  },
  {
   "cell_type": "code",
   "execution_count": null,
   "metadata": {},
   "outputs": [],
   "source": [
    "# E aquelas colunas onde existe uma diferença entre o valor da compra e o valor pago\n",
    "agg.loc[agg.price != 0,'Dif'].sum()"
   ]
  },
  {
   "cell_type": "code",
   "execution_count": null,
   "metadata": {},
   "outputs": [],
   "source": [
    "# Visualizando essa tabela\n",
    "agg.loc[(abs(agg.Dif) > 10) & (agg.price != 0)]"
   ]
  }
 ],
 "metadata": {
  "kernelspec": {
   "display_name": "Python 3",
   "language": "python",
   "name": "python3"
  },
  "language_info": {
   "codemirror_mode": {
    "name": "ipython",
    "version": 3
   },
   "file_extension": ".py",
   "mimetype": "text/x-python",
   "name": "python",
   "nbconvert_exporter": "python",
   "pygments_lexer": "ipython3",
   "version": "3.8.5"
  }
 },
 "nbformat": 4,
 "nbformat_minor": 4
}
